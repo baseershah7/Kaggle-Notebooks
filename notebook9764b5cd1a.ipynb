{
 "cells": [
  {
   "cell_type": "code",
   "execution_count": 1,
   "id": "9606f52e",
   "metadata": {
    "_cell_guid": "b1076dfc-b9ad-4769-8c92-a6c4dae69d19",
    "_uuid": "8f2839f25d086af736a60e9eeb907d3b93b6e0e5",
    "execution": {
     "iopub.execute_input": "2024-07-25T10:17:26.474327Z",
     "iopub.status.busy": "2024-07-25T10:17:26.473951Z",
     "iopub.status.idle": "2024-07-25T10:17:43.554244Z",
     "shell.execute_reply": "2024-07-25T10:17:43.553008Z"
    },
    "papermill": {
     "duration": 17.102301,
     "end_time": "2024-07-25T10:17:43.556387",
     "exception": false,
     "start_time": "2024-07-25T10:17:26.454086",
     "status": "completed"
    },
    "tags": []
   },
   "outputs": [
    {
     "name": "stderr",
     "output_type": "stream",
     "text": [
      "2024-07-25 10:17:28.913125: E external/local_xla/xla/stream_executor/cuda/cuda_dnn.cc:9261] Unable to register cuDNN factory: Attempting to register factory for plugin cuDNN when one has already been registered\n",
      "2024-07-25 10:17:28.913232: E external/local_xla/xla/stream_executor/cuda/cuda_fft.cc:607] Unable to register cuFFT factory: Attempting to register factory for plugin cuFFT when one has already been registered\n",
      "2024-07-25 10:17:29.045082: E external/local_xla/xla/stream_executor/cuda/cuda_blas.cc:1515] Unable to register cuBLAS factory: Attempting to register factory for plugin cuBLAS when one has already been registered\n"
     ]
    },
    {
     "name": "stdout",
     "output_type": "stream",
     "text": [
      "/kaggle/input/playground-series-s4e7/sample_submission.csv\n",
      "/kaggle/input/playground-series-s4e7/train.csv\n",
      "/kaggle/input/playground-series-s4e7/test.csv\n"
     ]
    }
   ],
   "source": [
    "# This Python 3 environment comes with many helpful analytics libraries installed\n",
    "# It is defined by the kaggle/python Docker image: https://github.com/kaggle/docker-python\n",
    "# For example, here's several helpful packages to load\n",
    "# import cudf\n",
    "# %load_ext cudf.pandas\n",
    "import numpy as np # linear algebra\n",
    "import pandas as pd # data processing, CSV file I/O (e.g. pd.read_csv)\n",
    "import tensorflow as tf\n",
    "import optuna\n",
    "import tensorflow.keras as keras\n",
    "from tensorflow.keras.models import Sequential\n",
    "from tensorflow.keras.layers import Dense, Normalization, Dropout\n",
    "from tensorflow.keras import layers\n",
    "from tensorflow.keras.optimizers import Adam\n",
    "from tensorflow.keras.callbacks import EarlyStopping\n",
    "from sklearn.utils.class_weight import compute_class_weight\n",
    "from sklearn.ensemble import HistGradientBoostingClassifier\n",
    "from sklearn.preprocessing import OrdinalEncoder, StandardScaler, RobustScaler, MinMaxScaler\n",
    "from sklearn.metrics import roc_auc_score, log_loss\n",
    "from sklearn.ensemble import RandomForestClassifier, AdaBoostClassifier, GradientBoostingClassifier, HistGradientBoostingClassifier, ExtraTreesClassifier\n",
    "from lightgbm import LGBMClassifier\n",
    "from catboost import CatBoostClassifier\n",
    "from xgboost import XGBClassifier\n",
    "from imblearn.over_sampling import RandomOverSampler, SMOTE\n",
    "from imblearn.under_sampling import RandomUnderSampler, NearMiss\n",
    "from sklearn.model_selection import train_test_split, KFold\n",
    "# Input data files are available in the read-only \"../input/\" directory\n",
    "# For example, running this (by clicking run or pressing Shift+Enter) will list all files under the input directory\n",
    "\n",
    "import os\n",
    "for dirname, _, filenames in os.walk('/kaggle/input'):\n",
    "    for filename in filenames:\n",
    "        print(os.path.join(dirname, filename))\n",
    "\n",
    "# You can write up to 20GB to the current directory (/kaggle/working/) that gets preserved as output when you create a version using \"Save & Run All\" \n",
    "# You can also write temporary files to /kaggle/temp/, but they won't be saved outside of the current session"
   ]
  },
  {
   "cell_type": "code",
   "execution_count": 2,
   "id": "a51fb8a7",
   "metadata": {
    "execution": {
     "iopub.execute_input": "2024-07-25T10:17:43.596756Z",
     "iopub.status.busy": "2024-07-25T10:17:43.595340Z",
     "iopub.status.idle": "2024-07-25T10:18:16.963588Z",
     "shell.execute_reply": "2024-07-25T10:18:16.962659Z"
    },
    "papermill": {
     "duration": 33.408453,
     "end_time": "2024-07-25T10:18:16.983494",
     "exception": false,
     "start_time": "2024-07-25T10:17:43.575041",
     "status": "completed"
    },
    "tags": []
   },
   "outputs": [
    {
     "name": "stdout",
     "output_type": "stream",
     "text": [
      "train loading time is:  20.260114431381226\n",
      "test loading time is:  13.100772619247437\n"
     ]
    }
   ],
   "source": [
    "import time\n",
    "start_time = time.time()\n",
    "train = pd.read_csv(\"/kaggle/input/playground-series-s4e7/train.csv\", index_col=[0])\n",
    "time_now = time.time() - start_time\n",
    "print(\"train loading time is: \",time_now)\n",
    "start_time = time.time()\n",
    "test = pd.read_csv(\"/kaggle/input/playground-series-s4e7/test.csv\", index_col=[0])\n",
    "time_now = time.time() - start_time\n",
    "print(\"test loading time is: \",time_now)"
   ]
  },
  {
   "cell_type": "code",
   "execution_count": 3,
   "id": "571d8bea",
   "metadata": {
    "execution": {
     "iopub.execute_input": "2024-07-25T10:18:17.023387Z",
     "iopub.status.busy": "2024-07-25T10:18:17.023018Z",
     "iopub.status.idle": "2024-07-25T10:18:17.572324Z",
     "shell.execute_reply": "2024-07-25T10:18:17.571175Z"
    },
    "papermill": {
     "duration": 0.571336,
     "end_time": "2024-07-25T10:18:17.574959",
     "exception": false,
     "start_time": "2024-07-25T10:18:17.003623",
     "status": "completed"
    },
    "tags": []
   },
   "outputs": [],
   "source": [
    "X = train.copy()\n",
    "y = X.pop(\"Response\")"
   ]
  },
  {
   "cell_type": "code",
   "execution_count": 4,
   "id": "f170a45a",
   "metadata": {
    "execution": {
     "iopub.execute_input": "2024-07-25T10:18:17.614138Z",
     "iopub.status.busy": "2024-07-25T10:18:17.613777Z",
     "iopub.status.idle": "2024-07-25T10:18:17.618213Z",
     "shell.execute_reply": "2024-07-25T10:18:17.617094Z"
    },
    "papermill": {
     "duration": 0.026267,
     "end_time": "2024-07-25T10:18:17.620229",
     "exception": false,
     "start_time": "2024-07-25T10:18:17.593962",
     "status": "completed"
    },
    "tags": []
   },
   "outputs": [],
   "source": [
    "# train.loc[X['Driving_License'] == 0]"
   ]
  },
  {
   "cell_type": "code",
   "execution_count": 5,
   "id": "f0c9a4ef",
   "metadata": {
    "execution": {
     "iopub.execute_input": "2024-07-25T10:18:17.658726Z",
     "iopub.status.busy": "2024-07-25T10:18:17.658159Z",
     "iopub.status.idle": "2024-07-25T10:18:17.685795Z",
     "shell.execute_reply": "2024-07-25T10:18:17.684801Z"
    },
    "papermill": {
     "duration": 0.049098,
     "end_time": "2024-07-25T10:18:17.687874",
     "exception": false,
     "start_time": "2024-07-25T10:18:17.638776",
     "status": "completed"
    },
    "tags": []
   },
   "outputs": [
    {
     "data": {
      "text/html": [
       "<div>\n",
       "<style scoped>\n",
       "    .dataframe tbody tr th:only-of-type {\n",
       "        vertical-align: middle;\n",
       "    }\n",
       "\n",
       "    .dataframe tbody tr th {\n",
       "        vertical-align: top;\n",
       "    }\n",
       "\n",
       "    .dataframe thead th {\n",
       "        text-align: right;\n",
       "    }\n",
       "</style>\n",
       "<table border=\"1\" class=\"dataframe\">\n",
       "  <thead>\n",
       "    <tr style=\"text-align: right;\">\n",
       "      <th></th>\n",
       "      <th>Gender</th>\n",
       "      <th>Age</th>\n",
       "      <th>Driving_License</th>\n",
       "      <th>Region_Code</th>\n",
       "      <th>Previously_Insured</th>\n",
       "      <th>Vehicle_Age</th>\n",
       "      <th>Vehicle_Damage</th>\n",
       "      <th>Annual_Premium</th>\n",
       "      <th>Policy_Sales_Channel</th>\n",
       "      <th>Vintage</th>\n",
       "    </tr>\n",
       "    <tr>\n",
       "      <th>id</th>\n",
       "      <th></th>\n",
       "      <th></th>\n",
       "      <th></th>\n",
       "      <th></th>\n",
       "      <th></th>\n",
       "      <th></th>\n",
       "      <th></th>\n",
       "      <th></th>\n",
       "      <th></th>\n",
       "      <th></th>\n",
       "    </tr>\n",
       "  </thead>\n",
       "  <tbody>\n",
       "    <tr>\n",
       "      <th>0</th>\n",
       "      <td>Male</td>\n",
       "      <td>21</td>\n",
       "      <td>1</td>\n",
       "      <td>35.0</td>\n",
       "      <td>0</td>\n",
       "      <td>1-2 Year</td>\n",
       "      <td>Yes</td>\n",
       "      <td>65101.0</td>\n",
       "      <td>124.0</td>\n",
       "      <td>187</td>\n",
       "    </tr>\n",
       "    <tr>\n",
       "      <th>1</th>\n",
       "      <td>Male</td>\n",
       "      <td>43</td>\n",
       "      <td>1</td>\n",
       "      <td>28.0</td>\n",
       "      <td>0</td>\n",
       "      <td>&gt; 2 Years</td>\n",
       "      <td>Yes</td>\n",
       "      <td>58911.0</td>\n",
       "      <td>26.0</td>\n",
       "      <td>288</td>\n",
       "    </tr>\n",
       "    <tr>\n",
       "      <th>2</th>\n",
       "      <td>Female</td>\n",
       "      <td>25</td>\n",
       "      <td>1</td>\n",
       "      <td>14.0</td>\n",
       "      <td>1</td>\n",
       "      <td>&lt; 1 Year</td>\n",
       "      <td>No</td>\n",
       "      <td>38043.0</td>\n",
       "      <td>152.0</td>\n",
       "      <td>254</td>\n",
       "    </tr>\n",
       "    <tr>\n",
       "      <th>3</th>\n",
       "      <td>Female</td>\n",
       "      <td>35</td>\n",
       "      <td>1</td>\n",
       "      <td>1.0</td>\n",
       "      <td>0</td>\n",
       "      <td>1-2 Year</td>\n",
       "      <td>Yes</td>\n",
       "      <td>2630.0</td>\n",
       "      <td>156.0</td>\n",
       "      <td>76</td>\n",
       "    </tr>\n",
       "    <tr>\n",
       "      <th>4</th>\n",
       "      <td>Female</td>\n",
       "      <td>36</td>\n",
       "      <td>1</td>\n",
       "      <td>15.0</td>\n",
       "      <td>1</td>\n",
       "      <td>1-2 Year</td>\n",
       "      <td>No</td>\n",
       "      <td>31951.0</td>\n",
       "      <td>152.0</td>\n",
       "      <td>294</td>\n",
       "    </tr>\n",
       "    <tr>\n",
       "      <th>...</th>\n",
       "      <td>...</td>\n",
       "      <td>...</td>\n",
       "      <td>...</td>\n",
       "      <td>...</td>\n",
       "      <td>...</td>\n",
       "      <td>...</td>\n",
       "      <td>...</td>\n",
       "      <td>...</td>\n",
       "      <td>...</td>\n",
       "      <td>...</td>\n",
       "    </tr>\n",
       "    <tr>\n",
       "      <th>11504793</th>\n",
       "      <td>Male</td>\n",
       "      <td>48</td>\n",
       "      <td>1</td>\n",
       "      <td>6.0</td>\n",
       "      <td>0</td>\n",
       "      <td>1-2 Year</td>\n",
       "      <td>Yes</td>\n",
       "      <td>27412.0</td>\n",
       "      <td>26.0</td>\n",
       "      <td>218</td>\n",
       "    </tr>\n",
       "    <tr>\n",
       "      <th>11504794</th>\n",
       "      <td>Female</td>\n",
       "      <td>26</td>\n",
       "      <td>1</td>\n",
       "      <td>36.0</td>\n",
       "      <td>0</td>\n",
       "      <td>&lt; 1 Year</td>\n",
       "      <td>Yes</td>\n",
       "      <td>29509.0</td>\n",
       "      <td>152.0</td>\n",
       "      <td>115</td>\n",
       "    </tr>\n",
       "    <tr>\n",
       "      <th>11504795</th>\n",
       "      <td>Female</td>\n",
       "      <td>29</td>\n",
       "      <td>1</td>\n",
       "      <td>32.0</td>\n",
       "      <td>1</td>\n",
       "      <td>&lt; 1 Year</td>\n",
       "      <td>No</td>\n",
       "      <td>2630.0</td>\n",
       "      <td>152.0</td>\n",
       "      <td>189</td>\n",
       "    </tr>\n",
       "    <tr>\n",
       "      <th>11504796</th>\n",
       "      <td>Female</td>\n",
       "      <td>51</td>\n",
       "      <td>1</td>\n",
       "      <td>28.0</td>\n",
       "      <td>0</td>\n",
       "      <td>1-2 Year</td>\n",
       "      <td>Yes</td>\n",
       "      <td>48443.0</td>\n",
       "      <td>26.0</td>\n",
       "      <td>274</td>\n",
       "    </tr>\n",
       "    <tr>\n",
       "      <th>11504797</th>\n",
       "      <td>Male</td>\n",
       "      <td>25</td>\n",
       "      <td>1</td>\n",
       "      <td>28.0</td>\n",
       "      <td>1</td>\n",
       "      <td>&lt; 1 Year</td>\n",
       "      <td>No</td>\n",
       "      <td>32855.0</td>\n",
       "      <td>152.0</td>\n",
       "      <td>189</td>\n",
       "    </tr>\n",
       "  </tbody>\n",
       "</table>\n",
       "<p>11504798 rows × 10 columns</p>\n",
       "</div>"
      ],
      "text/plain": [
       "          Gender  Age  Driving_License  Region_Code  Previously_Insured  \\\n",
       "id                                                                        \n",
       "0           Male   21                1         35.0                   0   \n",
       "1           Male   43                1         28.0                   0   \n",
       "2         Female   25                1         14.0                   1   \n",
       "3         Female   35                1          1.0                   0   \n",
       "4         Female   36                1         15.0                   1   \n",
       "...          ...  ...              ...          ...                 ...   \n",
       "11504793    Male   48                1          6.0                   0   \n",
       "11504794  Female   26                1         36.0                   0   \n",
       "11504795  Female   29                1         32.0                   1   \n",
       "11504796  Female   51                1         28.0                   0   \n",
       "11504797    Male   25                1         28.0                   1   \n",
       "\n",
       "         Vehicle_Age Vehicle_Damage  Annual_Premium  Policy_Sales_Channel  \\\n",
       "id                                                                          \n",
       "0           1-2 Year            Yes         65101.0                 124.0   \n",
       "1          > 2 Years            Yes         58911.0                  26.0   \n",
       "2           < 1 Year             No         38043.0                 152.0   \n",
       "3           1-2 Year            Yes          2630.0                 156.0   \n",
       "4           1-2 Year             No         31951.0                 152.0   \n",
       "...              ...            ...             ...                   ...   \n",
       "11504793    1-2 Year            Yes         27412.0                  26.0   \n",
       "11504794    < 1 Year            Yes         29509.0                 152.0   \n",
       "11504795    < 1 Year             No          2630.0                 152.0   \n",
       "11504796    1-2 Year            Yes         48443.0                  26.0   \n",
       "11504797    < 1 Year             No         32855.0                 152.0   \n",
       "\n",
       "          Vintage  \n",
       "id                 \n",
       "0             187  \n",
       "1             288  \n",
       "2             254  \n",
       "3              76  \n",
       "4             294  \n",
       "...           ...  \n",
       "11504793      218  \n",
       "11504794      115  \n",
       "11504795      189  \n",
       "11504796      274  \n",
       "11504797      189  \n",
       "\n",
       "[11504798 rows x 10 columns]"
      ]
     },
     "execution_count": 5,
     "metadata": {},
     "output_type": "execute_result"
    }
   ],
   "source": [
    "X"
   ]
  },
  {
   "cell_type": "code",
   "execution_count": 6,
   "id": "9f024382",
   "metadata": {
    "execution": {
     "iopub.execute_input": "2024-07-25T10:18:17.726700Z",
     "iopub.status.busy": "2024-07-25T10:18:17.726373Z",
     "iopub.status.idle": "2024-07-25T10:18:20.939289Z",
     "shell.execute_reply": "2024-07-25T10:18:20.938332Z"
    },
    "papermill": {
     "duration": 3.234472,
     "end_time": "2024-07-25T10:18:20.941260",
     "exception": false,
     "start_time": "2024-07-25T10:18:17.706788",
     "status": "completed"
    },
    "tags": []
   },
   "outputs": [
    {
     "data": {
      "text/plain": [
       "Gender                      2\n",
       "Age                        66\n",
       "Driving_License             2\n",
       "Region_Code                54\n",
       "Previously_Insured          2\n",
       "Vehicle_Age                 3\n",
       "Vehicle_Damage              2\n",
       "Annual_Premium          51728\n",
       "Policy_Sales_Channel      152\n",
       "Vintage                   290\n",
       "dtype: int64"
      ]
     },
     "execution_count": 6,
     "metadata": {},
     "output_type": "execute_result"
    }
   ],
   "source": [
    "X.nunique()"
   ]
  },
  {
   "cell_type": "code",
   "execution_count": 7,
   "id": "3e6145b5",
   "metadata": {
    "execution": {
     "iopub.execute_input": "2024-07-25T10:18:20.980628Z",
     "iopub.status.busy": "2024-07-25T10:18:20.980052Z",
     "iopub.status.idle": "2024-07-25T10:18:20.983880Z",
     "shell.execute_reply": "2024-07-25T10:18:20.982993Z"
    },
    "papermill": {
     "duration": 0.025453,
     "end_time": "2024-07-25T10:18:20.985746",
     "exception": false,
     "start_time": "2024-07-25T10:18:20.960293",
     "status": "completed"
    },
    "tags": []
   },
   "outputs": [],
   "source": [
    "# cat_features = [\"Gender\", \"Vehicle_Age\", \"Vehicle_Damage\"]\n",
    "# X[cat_features] = X[cat_features].astype('category')\n",
    "# test[cat_features] = test[cat_features].astype('category')"
   ]
  },
  {
   "cell_type": "code",
   "execution_count": 8,
   "id": "83c1b7f8",
   "metadata": {
    "execution": {
     "iopub.execute_input": "2024-07-25T10:18:21.024640Z",
     "iopub.status.busy": "2024-07-25T10:18:21.024320Z",
     "iopub.status.idle": "2024-07-25T10:18:21.028258Z",
     "shell.execute_reply": "2024-07-25T10:18:21.027408Z"
    },
    "papermill": {
     "duration": 0.025764,
     "end_time": "2024-07-25T10:18:21.030231",
     "exception": false,
     "start_time": "2024-07-25T10:18:21.004467",
     "status": "completed"
    },
    "tags": []
   },
   "outputs": [],
   "source": [
    "# low_cardinality_features = [\"Gender\", \"Driving_License\", \"Previously_Insured\", \"Vehicle_Age\", \"Vehicle_Damage\"]\n",
    "# X_one_hot = pd.get_dummies(X[low_cardinality_features])\n",
    "# test_one_hot = pd.get_dummies(test[low_cardinality_features])"
   ]
  },
  {
   "cell_type": "code",
   "execution_count": 9,
   "id": "9507d13b",
   "metadata": {
    "execution": {
     "iopub.execute_input": "2024-07-25T10:18:21.068948Z",
     "iopub.status.busy": "2024-07-25T10:18:21.068651Z",
     "iopub.status.idle": "2024-07-25T10:18:21.072448Z",
     "shell.execute_reply": "2024-07-25T10:18:21.071697Z"
    },
    "papermill": {
     "duration": 0.025264,
     "end_time": "2024-07-25T10:18:21.074310",
     "exception": false,
     "start_time": "2024-07-25T10:18:21.049046",
     "status": "completed"
    },
    "tags": []
   },
   "outputs": [],
   "source": [
    "# high_cardinality_features = [\"Region_Code\", \"Annual_Premium\", \"Policy_Sales_Channel\", \"Vintage\"]"
   ]
  },
  {
   "cell_type": "code",
   "execution_count": 10,
   "id": "697a3436",
   "metadata": {
    "execution": {
     "iopub.execute_input": "2024-07-25T10:18:21.113151Z",
     "iopub.status.busy": "2024-07-25T10:18:21.112359Z",
     "iopub.status.idle": "2024-07-25T10:18:21.116596Z",
     "shell.execute_reply": "2024-07-25T10:18:21.115850Z"
    },
    "papermill": {
     "duration": 0.025508,
     "end_time": "2024-07-25T10:18:21.118405",
     "exception": false,
     "start_time": "2024-07-25T10:18:21.092897",
     "status": "completed"
    },
    "tags": []
   },
   "outputs": [],
   "source": [
    "# X_high_cardinality = X[high_cardinality_features]\n",
    "# test_high_cardinality = test[high_cardinality_features]\n",
    "# X_high_cardinality"
   ]
  },
  {
   "cell_type": "code",
   "execution_count": 11,
   "id": "a6d02607",
   "metadata": {
    "execution": {
     "iopub.execute_input": "2024-07-25T10:18:21.157418Z",
     "iopub.status.busy": "2024-07-25T10:18:21.157122Z",
     "iopub.status.idle": "2024-07-25T10:18:21.160820Z",
     "shell.execute_reply": "2024-07-25T10:18:21.160028Z"
    },
    "papermill": {
     "duration": 0.025598,
     "end_time": "2024-07-25T10:18:21.162746",
     "exception": false,
     "start_time": "2024-07-25T10:18:21.137148",
     "status": "completed"
    },
    "tags": []
   },
   "outputs": [],
   "source": [
    "# X_new = pd.concat([X_one_hot,X_high_cardinality],axis=1)\n",
    "# test_new = pd.concat([test_one_hot,test_high_cardinality],axis=1)"
   ]
  },
  {
   "cell_type": "code",
   "execution_count": 12,
   "id": "2c49c2e0",
   "metadata": {
    "execution": {
     "iopub.execute_input": "2024-07-25T10:18:21.201369Z",
     "iopub.status.busy": "2024-07-25T10:18:21.201054Z",
     "iopub.status.idle": "2024-07-25T10:18:21.204869Z",
     "shell.execute_reply": "2024-07-25T10:18:21.204066Z"
    },
    "papermill": {
     "duration": 0.025397,
     "end_time": "2024-07-25T10:18:21.206771",
     "exception": false,
     "start_time": "2024-07-25T10:18:21.181374",
     "status": "completed"
    },
    "tags": []
   },
   "outputs": [],
   "source": [
    "# X_new"
   ]
  },
  {
   "cell_type": "code",
   "execution_count": 13,
   "id": "44f48579",
   "metadata": {
    "execution": {
     "iopub.execute_input": "2024-07-25T10:18:21.246034Z",
     "iopub.status.busy": "2024-07-25T10:18:21.245688Z",
     "iopub.status.idle": "2024-07-25T10:18:21.250106Z",
     "shell.execute_reply": "2024-07-25T10:18:21.249192Z"
    },
    "papermill": {
     "duration": 0.026245,
     "end_time": "2024-07-25T10:18:21.252046",
     "exception": false,
     "start_time": "2024-07-25T10:18:21.225801",
     "status": "completed"
    },
    "tags": []
   },
   "outputs": [],
   "source": [
    "# X_new.rename(columns={'Vehicle_Age_1-2 Year':'Vehicle_Age_betweeen_1and2Year','Vehicle_Age_< 1 Year':'Vehicle_Age_less_than_1Year','Vehicle_Age_> 2 Years':'Vehicle_Age_greater_than_2Year'}, inplace=True)\n",
    "# test_new.rename(columns={'Vehicle_Age_1-2 Year':'Vehicle_Age_betweeen_1and2Year','Vehicle_Age_< 1 Year':'Vehicle_Age_less_than_1Year','Vehicle_Age_> 2 Years':'Vehicle_Age_greater_than_2Year'}, inplace=True)"
   ]
  },
  {
   "cell_type": "code",
   "execution_count": 14,
   "id": "8f693a65",
   "metadata": {
    "execution": {
     "iopub.execute_input": "2024-07-25T10:18:21.290747Z",
     "iopub.status.busy": "2024-07-25T10:18:21.290419Z",
     "iopub.status.idle": "2024-07-25T10:18:21.294243Z",
     "shell.execute_reply": "2024-07-25T10:18:21.293384Z"
    },
    "papermill": {
     "duration": 0.025327,
     "end_time": "2024-07-25T10:18:21.296138",
     "exception": false,
     "start_time": "2024-07-25T10:18:21.270811",
     "status": "completed"
    },
    "tags": []
   },
   "outputs": [],
   "source": [
    "# X_new"
   ]
  },
  {
   "cell_type": "code",
   "execution_count": 15,
   "id": "8750bee3",
   "metadata": {
    "execution": {
     "iopub.execute_input": "2024-07-25T10:18:21.334875Z",
     "iopub.status.busy": "2024-07-25T10:18:21.334594Z",
     "iopub.status.idle": "2024-07-25T10:18:21.338304Z",
     "shell.execute_reply": "2024-07-25T10:18:21.337493Z"
    },
    "papermill": {
     "duration": 0.025316,
     "end_time": "2024-07-25T10:18:21.340207",
     "exception": false,
     "start_time": "2024-07-25T10:18:21.314891",
     "status": "completed"
    },
    "tags": []
   },
   "outputs": [],
   "source": [
    "# ros = RandomOverSampler(random_state=42)\n",
    "# X_ros, y_ros = ros.fit_resample(X,y)\n",
    "# print(\"new shape is:\", X_ros.shape)"
   ]
  },
  {
   "cell_type": "code",
   "execution_count": 16,
   "id": "7c97537c",
   "metadata": {
    "execution": {
     "iopub.execute_input": "2024-07-25T10:18:21.379231Z",
     "iopub.status.busy": "2024-07-25T10:18:21.378882Z",
     "iopub.status.idle": "2024-07-25T10:18:21.386193Z",
     "shell.execute_reply": "2024-07-25T10:18:21.385328Z"
    },
    "papermill": {
     "duration": 0.029346,
     "end_time": "2024-07-25T10:18:21.388284",
     "exception": false,
     "start_time": "2024-07-25T10:18:21.358938",
     "status": "completed"
    },
    "tags": []
   },
   "outputs": [
    {
     "data": {
      "text/plain": [
       "Gender                   object\n",
       "Age                       int64\n",
       "Driving_License           int64\n",
       "Region_Code             float64\n",
       "Previously_Insured        int64\n",
       "Vehicle_Age              object\n",
       "Vehicle_Damage           object\n",
       "Annual_Premium          float64\n",
       "Policy_Sales_Channel    float64\n",
       "Vintage                   int64\n",
       "dtype: object"
      ]
     },
     "execution_count": 16,
     "metadata": {},
     "output_type": "execute_result"
    }
   ],
   "source": [
    "X.dtypes"
   ]
  },
  {
   "cell_type": "code",
   "execution_count": 17,
   "id": "e3116b35",
   "metadata": {
    "execution": {
     "iopub.execute_input": "2024-07-25T10:18:21.428937Z",
     "iopub.status.busy": "2024-07-25T10:18:21.428587Z",
     "iopub.status.idle": "2024-07-25T10:18:21.442859Z",
     "shell.execute_reply": "2024-07-25T10:18:21.441857Z"
    },
    "papermill": {
     "duration": 0.036788,
     "end_time": "2024-07-25T10:18:21.444733",
     "exception": false,
     "start_time": "2024-07-25T10:18:21.407945",
     "status": "completed"
    },
    "tags": []
   },
   "outputs": [],
   "source": [
    "def features_mapping(df):\n",
    "    gender_mapping = {\n",
    "        \"Male\":1,\n",
    "        \"Female\":0\n",
    "    }\n",
    "    vehicle_age_mapping = {\n",
    "    \"< 1 Year\":0,\n",
    "    \"1-2 Year\":1,\n",
    "    \"> 2 Years\":2\n",
    "    }\n",
    "    vehicle_damage_mapping = {\n",
    "        \"Yes\":1,\n",
    "        \"No\":0\n",
    "    }\n",
    "    \n",
    "    df[\"Gender\"] = df[\"Gender\"].map(gender_mapping)\n",
    "# X_ros[\"Gender\"] = X_ros[\"Gender\"].map(gender_mapping)\n",
    "# X_rus[\"Gender\"] = X_rus[\"Gender\"].map(gender_mapping)\n",
    "# X_train[\"Gender\"] = X_train[\"Gender\"].map(gender_mapping)\n",
    "# X_valid[\"Gender\"] = X_valid[\"Gender\"].map(gender_mapping)\n",
    "\n",
    "    df[\"Vehicle_Age\"] = df[\"Vehicle_Age\"].map(vehicle_age_mapping)\n",
    "# X_ros[\"Vehicle_Age\"] = X_ros[\"Vehicle_Age\"].map(vehicle_age_mapping)\n",
    "# X_rus[\"Vehicle_Age\"] = X_rus[\"Vehicle_Age\"].map(vehicle_age_mapping)\n",
    "# X_train[\"Vehicle_Age\"] = X_train[\"Vehicle_Age\"].map(vehicle_age_mapping)\n",
    "# X_valid[\"Vehicle_Age\"] = X_valid[\"Vehicle_Age\"].map(vehicle_age_mapping)\n",
    "\n",
    "    df[\"Vehicle_Damage\"] = df[\"Vehicle_Damage\"].map(vehicle_damage_mapping)\n",
    "# X_ros[\"Vehicle_Damage\"] = X_ros[\"Vehicle_Damage\"].map(vehicle_damage_mapping)\n",
    "# X_rus[\"Vehicle_Damage\"] = X_rus[\"Vehicle_Damage\"].map(vehicle_damage_mapping)\n",
    "    return df\n",
    "\n",
    "def new_features(df):\n",
    "#     df['Age_Annual_Premium'] = df['Age'] * df['Annual_Premium']\n",
    "#     df['Vintage_Annual_Premium'] = df['Vintage'] * df['Annual_Premium']\n",
    "    \n",
    "#    df['VehicleDamage_RegionCode'] = df['Region_Code'] + df['Vehicle_Damage']\n",
    "#     df = pd.get_dummies(df, columns=['VehicleDamage_RegionCode'], drop_first=True)\n",
    "#     df['Vintage_Annual_Premium'] = df['Vintage'] * df['Annual_Premium']\n",
    "    \n",
    "#     df[\"Mean_Annual_Premium_by_region\"] = df.groupby(\"Region_Code\")[\"Annual_Premium\"].transform('mean')\n",
    "#     df[\"Damage_by_Region\"] = df.groupby(\"Region_Code\")[\"Annual_Premium\"].transform('sum')\n",
    "    \n",
    "#     df['Premium_Age_Ratio'] = df[\"Annual_Premium\"] / df[\"Age\"]\n",
    "#     df[\"Vintage_Age_Ratio\"] = df[\"Vintage\"] / df[\"Age\"]\n",
    "    \n",
    "#     vip_thresh = df[\"Annual_Premium\"].quantile(0.75)\n",
    "#     df[\"High_Premium\"] = (df[\"Annual_Premium\"] > vip_thresh).astype('int')\n",
    "#     df[\"Young_Driver\"] = (df[\"Age\"] < 25).astype('int')\n",
    "#     df['Gender_VehicleAge'] = df['Gender'] + df['Vehicle_Age']\n",
    "    df['DrivingLicense_VehicleAge'] = df['Driving_License'] + df['Vehicle_Age']\n",
    "    df['DrivingLicense_VehicleDamage'] = df['Driving_License'] + df['Vehicle_Damage']\n",
    "    df['DrivingLicense_PreviouslyInsured'] = df['Driving_License'] + df['Previously_Insured']\n",
    "#     df = pd.get_dummies(df, columns=['Gender_Vehicle_Age'], drop_first=True)\n",
    "    df['VehicleAge_VehicleDamage'] = df['Vehicle_Age']+ df['Vehicle_Damage']\n",
    "#     df = pd.get_dummies(df, columns=[\"Vehicle_Age_Vehicle_Damage\"], drop_first=True)\n",
    "\n",
    "    df['PreviouslyInsured_VehicleDamage'] = df['Previously_Insured'] + df['Vehicle_Damage']\n",
    "    df['PreviouslyInsured_VehicleAge'] = df['Previously_Insured'] + df['Vehicle_Age']\n",
    "#     df['PreviouslyInsured_YoungDriver'] = df['Previously_Insured'].astype(str) + '_' + df['Young_Driver'].astype(str)\n",
    "#     df = pd.get_dummies(df, columns=['PreviouslyInsured_YoungDriver'], drop_first=True)\n",
    "    \n",
    "#     df['YoungDriver_Vehicle_Damage'] = df['Young_Driver'].astype(str) + '_' + df['Vehicle_Damage'].astype(str)\n",
    "#     df = pd.get_dummies(df, columns=['YoungDriver_Vehicle_Damage'], drop_first=True)\n",
    "    return df\n",
    "\n",
    "def memory_reduce(df):\n",
    "    df['Gender'] = df['Gender'].astype('int8')\n",
    "    df['Age'] = df['Age'].astype('int8')\n",
    "    df['Driving_License'] = df['Driving_License'].astype('int8')\n",
    "    df['Region_Code'] = df['Region_Code'].astype('float32')\n",
    "    df['Previously_Insured'] = df['Previously_Insured'].astype('int8')\n",
    "    df['Vehicle_Age'] = df['Vehicle_Age'].astype('int8')\n",
    "    df['Vehicle_Damage'] = df['Vehicle_Damage'].astype('int8')\n",
    "    df['Annual_Premium'] = df['Annual_Premium'].astype('float32')\n",
    "    df['Policy_Sales_Channel'] = df['Policy_Sales_Channel'].astype('float32')\n",
    "    df['Vintage'] = df['Vintage'].astype('int8')\n",
    "    df['DrivingLicense_VehicleAge'] = df['DrivingLicense_VehicleAge'].astype('int8')\n",
    "    df['DrivingLicense_VehicleDamage'] =  df['DrivingLicense_VehicleDamage'].astype('int8')\n",
    "    df['DrivingLicense_PreviouslyInsured'] = df['DrivingLicense_PreviouslyInsured'].astype('int8')\n",
    "    df['VehicleAge_VehicleDamage'] = df['VehicleAge_VehicleDamage'].astype('int8')\n",
    "    df['PreviouslyInsured_VehicleDamage'] = df['PreviouslyInsured_VehicleDamage'].astype('int8')\n",
    "    df['PreviouslyInsured_VehicleAge'] = df['PreviouslyInsured_VehicleAge'].astype('int8')\n",
    "    return df"
   ]
  },
  {
   "cell_type": "code",
   "execution_count": 18,
   "id": "d35e7a49",
   "metadata": {
    "execution": {
     "iopub.execute_input": "2024-07-25T10:18:21.484267Z",
     "iopub.status.busy": "2024-07-25T10:18:21.483921Z",
     "iopub.status.idle": "2024-07-25T10:18:25.944758Z",
     "shell.execute_reply": "2024-07-25T10:18:25.943966Z"
    },
    "papermill": {
     "duration": 4.483318,
     "end_time": "2024-07-25T10:18:25.947148",
     "exception": false,
     "start_time": "2024-07-25T10:18:21.463830",
     "status": "completed"
    },
    "tags": []
   },
   "outputs": [],
   "source": [
    "X = features_mapping(X)\n",
    "X = new_features(X)\n",
    "X = memory_reduce(X)"
   ]
  },
  {
   "cell_type": "code",
   "execution_count": 19,
   "id": "c94bfe87",
   "metadata": {
    "execution": {
     "iopub.execute_input": "2024-07-25T10:18:25.986722Z",
     "iopub.status.busy": "2024-07-25T10:18:25.986186Z",
     "iopub.status.idle": "2024-07-25T10:18:26.007190Z",
     "shell.execute_reply": "2024-07-25T10:18:26.006359Z"
    },
    "papermill": {
     "duration": 0.042714,
     "end_time": "2024-07-25T10:18:26.009087",
     "exception": false,
     "start_time": "2024-07-25T10:18:25.966373",
     "status": "completed"
    },
    "tags": []
   },
   "outputs": [
    {
     "data": {
      "text/html": [
       "<div>\n",
       "<style scoped>\n",
       "    .dataframe tbody tr th:only-of-type {\n",
       "        vertical-align: middle;\n",
       "    }\n",
       "\n",
       "    .dataframe tbody tr th {\n",
       "        vertical-align: top;\n",
       "    }\n",
       "\n",
       "    .dataframe thead th {\n",
       "        text-align: right;\n",
       "    }\n",
       "</style>\n",
       "<table border=\"1\" class=\"dataframe\">\n",
       "  <thead>\n",
       "    <tr style=\"text-align: right;\">\n",
       "      <th></th>\n",
       "      <th>Gender</th>\n",
       "      <th>Age</th>\n",
       "      <th>Driving_License</th>\n",
       "      <th>Region_Code</th>\n",
       "      <th>Previously_Insured</th>\n",
       "      <th>Vehicle_Age</th>\n",
       "      <th>Vehicle_Damage</th>\n",
       "      <th>Annual_Premium</th>\n",
       "      <th>Policy_Sales_Channel</th>\n",
       "      <th>Vintage</th>\n",
       "      <th>DrivingLicense_VehicleAge</th>\n",
       "      <th>DrivingLicense_VehicleDamage</th>\n",
       "      <th>DrivingLicense_PreviouslyInsured</th>\n",
       "      <th>VehicleAge_VehicleDamage</th>\n",
       "      <th>PreviouslyInsured_VehicleDamage</th>\n",
       "      <th>PreviouslyInsured_VehicleAge</th>\n",
       "    </tr>\n",
       "    <tr>\n",
       "      <th>id</th>\n",
       "      <th></th>\n",
       "      <th></th>\n",
       "      <th></th>\n",
       "      <th></th>\n",
       "      <th></th>\n",
       "      <th></th>\n",
       "      <th></th>\n",
       "      <th></th>\n",
       "      <th></th>\n",
       "      <th></th>\n",
       "      <th></th>\n",
       "      <th></th>\n",
       "      <th></th>\n",
       "      <th></th>\n",
       "      <th></th>\n",
       "      <th></th>\n",
       "    </tr>\n",
       "  </thead>\n",
       "  <tbody>\n",
       "    <tr>\n",
       "      <th>0</th>\n",
       "      <td>1</td>\n",
       "      <td>21</td>\n",
       "      <td>1</td>\n",
       "      <td>35.0</td>\n",
       "      <td>0</td>\n",
       "      <td>1</td>\n",
       "      <td>1</td>\n",
       "      <td>65101.0</td>\n",
       "      <td>124.0</td>\n",
       "      <td>-69</td>\n",
       "      <td>2</td>\n",
       "      <td>2</td>\n",
       "      <td>1</td>\n",
       "      <td>2</td>\n",
       "      <td>1</td>\n",
       "      <td>1</td>\n",
       "    </tr>\n",
       "    <tr>\n",
       "      <th>1</th>\n",
       "      <td>1</td>\n",
       "      <td>43</td>\n",
       "      <td>1</td>\n",
       "      <td>28.0</td>\n",
       "      <td>0</td>\n",
       "      <td>2</td>\n",
       "      <td>1</td>\n",
       "      <td>58911.0</td>\n",
       "      <td>26.0</td>\n",
       "      <td>32</td>\n",
       "      <td>3</td>\n",
       "      <td>2</td>\n",
       "      <td>1</td>\n",
       "      <td>3</td>\n",
       "      <td>1</td>\n",
       "      <td>2</td>\n",
       "    </tr>\n",
       "    <tr>\n",
       "      <th>2</th>\n",
       "      <td>0</td>\n",
       "      <td>25</td>\n",
       "      <td>1</td>\n",
       "      <td>14.0</td>\n",
       "      <td>1</td>\n",
       "      <td>0</td>\n",
       "      <td>0</td>\n",
       "      <td>38043.0</td>\n",
       "      <td>152.0</td>\n",
       "      <td>-2</td>\n",
       "      <td>1</td>\n",
       "      <td>1</td>\n",
       "      <td>2</td>\n",
       "      <td>0</td>\n",
       "      <td>1</td>\n",
       "      <td>1</td>\n",
       "    </tr>\n",
       "    <tr>\n",
       "      <th>3</th>\n",
       "      <td>0</td>\n",
       "      <td>35</td>\n",
       "      <td>1</td>\n",
       "      <td>1.0</td>\n",
       "      <td>0</td>\n",
       "      <td>1</td>\n",
       "      <td>1</td>\n",
       "      <td>2630.0</td>\n",
       "      <td>156.0</td>\n",
       "      <td>76</td>\n",
       "      <td>2</td>\n",
       "      <td>2</td>\n",
       "      <td>1</td>\n",
       "      <td>2</td>\n",
       "      <td>1</td>\n",
       "      <td>1</td>\n",
       "    </tr>\n",
       "    <tr>\n",
       "      <th>4</th>\n",
       "      <td>0</td>\n",
       "      <td>36</td>\n",
       "      <td>1</td>\n",
       "      <td>15.0</td>\n",
       "      <td>1</td>\n",
       "      <td>1</td>\n",
       "      <td>0</td>\n",
       "      <td>31951.0</td>\n",
       "      <td>152.0</td>\n",
       "      <td>38</td>\n",
       "      <td>2</td>\n",
       "      <td>1</td>\n",
       "      <td>2</td>\n",
       "      <td>1</td>\n",
       "      <td>1</td>\n",
       "      <td>2</td>\n",
       "    </tr>\n",
       "    <tr>\n",
       "      <th>...</th>\n",
       "      <td>...</td>\n",
       "      <td>...</td>\n",
       "      <td>...</td>\n",
       "      <td>...</td>\n",
       "      <td>...</td>\n",
       "      <td>...</td>\n",
       "      <td>...</td>\n",
       "      <td>...</td>\n",
       "      <td>...</td>\n",
       "      <td>...</td>\n",
       "      <td>...</td>\n",
       "      <td>...</td>\n",
       "      <td>...</td>\n",
       "      <td>...</td>\n",
       "      <td>...</td>\n",
       "      <td>...</td>\n",
       "    </tr>\n",
       "    <tr>\n",
       "      <th>11504793</th>\n",
       "      <td>1</td>\n",
       "      <td>48</td>\n",
       "      <td>1</td>\n",
       "      <td>6.0</td>\n",
       "      <td>0</td>\n",
       "      <td>1</td>\n",
       "      <td>1</td>\n",
       "      <td>27412.0</td>\n",
       "      <td>26.0</td>\n",
       "      <td>-38</td>\n",
       "      <td>2</td>\n",
       "      <td>2</td>\n",
       "      <td>1</td>\n",
       "      <td>2</td>\n",
       "      <td>1</td>\n",
       "      <td>1</td>\n",
       "    </tr>\n",
       "    <tr>\n",
       "      <th>11504794</th>\n",
       "      <td>0</td>\n",
       "      <td>26</td>\n",
       "      <td>1</td>\n",
       "      <td>36.0</td>\n",
       "      <td>0</td>\n",
       "      <td>0</td>\n",
       "      <td>1</td>\n",
       "      <td>29509.0</td>\n",
       "      <td>152.0</td>\n",
       "      <td>115</td>\n",
       "      <td>1</td>\n",
       "      <td>2</td>\n",
       "      <td>1</td>\n",
       "      <td>1</td>\n",
       "      <td>1</td>\n",
       "      <td>0</td>\n",
       "    </tr>\n",
       "    <tr>\n",
       "      <th>11504795</th>\n",
       "      <td>0</td>\n",
       "      <td>29</td>\n",
       "      <td>1</td>\n",
       "      <td>32.0</td>\n",
       "      <td>1</td>\n",
       "      <td>0</td>\n",
       "      <td>0</td>\n",
       "      <td>2630.0</td>\n",
       "      <td>152.0</td>\n",
       "      <td>-67</td>\n",
       "      <td>1</td>\n",
       "      <td>1</td>\n",
       "      <td>2</td>\n",
       "      <td>0</td>\n",
       "      <td>1</td>\n",
       "      <td>1</td>\n",
       "    </tr>\n",
       "    <tr>\n",
       "      <th>11504796</th>\n",
       "      <td>0</td>\n",
       "      <td>51</td>\n",
       "      <td>1</td>\n",
       "      <td>28.0</td>\n",
       "      <td>0</td>\n",
       "      <td>1</td>\n",
       "      <td>1</td>\n",
       "      <td>48443.0</td>\n",
       "      <td>26.0</td>\n",
       "      <td>18</td>\n",
       "      <td>2</td>\n",
       "      <td>2</td>\n",
       "      <td>1</td>\n",
       "      <td>2</td>\n",
       "      <td>1</td>\n",
       "      <td>1</td>\n",
       "    </tr>\n",
       "    <tr>\n",
       "      <th>11504797</th>\n",
       "      <td>1</td>\n",
       "      <td>25</td>\n",
       "      <td>1</td>\n",
       "      <td>28.0</td>\n",
       "      <td>1</td>\n",
       "      <td>0</td>\n",
       "      <td>0</td>\n",
       "      <td>32855.0</td>\n",
       "      <td>152.0</td>\n",
       "      <td>-67</td>\n",
       "      <td>1</td>\n",
       "      <td>1</td>\n",
       "      <td>2</td>\n",
       "      <td>0</td>\n",
       "      <td>1</td>\n",
       "      <td>1</td>\n",
       "    </tr>\n",
       "  </tbody>\n",
       "</table>\n",
       "<p>11504798 rows × 16 columns</p>\n",
       "</div>"
      ],
      "text/plain": [
       "          Gender  Age  Driving_License  Region_Code  Previously_Insured  \\\n",
       "id                                                                        \n",
       "0              1   21                1         35.0                   0   \n",
       "1              1   43                1         28.0                   0   \n",
       "2              0   25                1         14.0                   1   \n",
       "3              0   35                1          1.0                   0   \n",
       "4              0   36                1         15.0                   1   \n",
       "...          ...  ...              ...          ...                 ...   \n",
       "11504793       1   48                1          6.0                   0   \n",
       "11504794       0   26                1         36.0                   0   \n",
       "11504795       0   29                1         32.0                   1   \n",
       "11504796       0   51                1         28.0                   0   \n",
       "11504797       1   25                1         28.0                   1   \n",
       "\n",
       "          Vehicle_Age  Vehicle_Damage  Annual_Premium  Policy_Sales_Channel  \\\n",
       "id                                                                            \n",
       "0                   1               1         65101.0                 124.0   \n",
       "1                   2               1         58911.0                  26.0   \n",
       "2                   0               0         38043.0                 152.0   \n",
       "3                   1               1          2630.0                 156.0   \n",
       "4                   1               0         31951.0                 152.0   \n",
       "...               ...             ...             ...                   ...   \n",
       "11504793            1               1         27412.0                  26.0   \n",
       "11504794            0               1         29509.0                 152.0   \n",
       "11504795            0               0          2630.0                 152.0   \n",
       "11504796            1               1         48443.0                  26.0   \n",
       "11504797            0               0         32855.0                 152.0   \n",
       "\n",
       "          Vintage  DrivingLicense_VehicleAge  DrivingLicense_VehicleDamage  \\\n",
       "id                                                                           \n",
       "0             -69                          2                             2   \n",
       "1              32                          3                             2   \n",
       "2              -2                          1                             1   \n",
       "3              76                          2                             2   \n",
       "4              38                          2                             1   \n",
       "...           ...                        ...                           ...   \n",
       "11504793      -38                          2                             2   \n",
       "11504794      115                          1                             2   \n",
       "11504795      -67                          1                             1   \n",
       "11504796       18                          2                             2   \n",
       "11504797      -67                          1                             1   \n",
       "\n",
       "          DrivingLicense_PreviouslyInsured  VehicleAge_VehicleDamage  \\\n",
       "id                                                                     \n",
       "0                                        1                         2   \n",
       "1                                        1                         3   \n",
       "2                                        2                         0   \n",
       "3                                        1                         2   \n",
       "4                                        2                         1   \n",
       "...                                    ...                       ...   \n",
       "11504793                                 1                         2   \n",
       "11504794                                 1                         1   \n",
       "11504795                                 2                         0   \n",
       "11504796                                 1                         2   \n",
       "11504797                                 2                         0   \n",
       "\n",
       "          PreviouslyInsured_VehicleDamage  PreviouslyInsured_VehicleAge  \n",
       "id                                                                       \n",
       "0                                       1                             1  \n",
       "1                                       1                             2  \n",
       "2                                       1                             1  \n",
       "3                                       1                             1  \n",
       "4                                       1                             2  \n",
       "...                                   ...                           ...  \n",
       "11504793                                1                             1  \n",
       "11504794                                1                             0  \n",
       "11504795                                1                             1  \n",
       "11504796                                1                             1  \n",
       "11504797                                1                             1  \n",
       "\n",
       "[11504798 rows x 16 columns]"
      ]
     },
     "execution_count": 19,
     "metadata": {},
     "output_type": "execute_result"
    }
   ],
   "source": [
    "pd.set_option('display.max_columns',None)\n",
    "X"
   ]
  },
  {
   "cell_type": "code",
   "execution_count": 20,
   "id": "94544b70",
   "metadata": {
    "execution": {
     "iopub.execute_input": "2024-07-25T10:18:26.096007Z",
     "iopub.status.busy": "2024-07-25T10:18:26.095208Z",
     "iopub.status.idle": "2024-07-25T10:18:26.099382Z",
     "shell.execute_reply": "2024-07-25T10:18:26.098460Z"
    },
    "papermill": {
     "duration": 0.027068,
     "end_time": "2024-07-25T10:18:26.101318",
     "exception": false,
     "start_time": "2024-07-25T10:18:26.074250",
     "status": "completed"
    },
    "tags": []
   },
   "outputs": [],
   "source": [
    "# ros = RandomOverSampler(random_state=42)\n",
    "# X_ros, y_ros = ros.fit_resample(X,y)\n",
    "# print(\"new shape is:\", X_ros.shape)"
   ]
  },
  {
   "cell_type": "code",
   "execution_count": 21,
   "id": "da82eb01",
   "metadata": {
    "execution": {
     "iopub.execute_input": "2024-07-25T10:18:26.142085Z",
     "iopub.status.busy": "2024-07-25T10:18:26.141308Z",
     "iopub.status.idle": "2024-07-25T10:18:26.145322Z",
     "shell.execute_reply": "2024-07-25T10:18:26.144408Z"
    },
    "papermill": {
     "duration": 0.026546,
     "end_time": "2024-07-25T10:18:26.147275",
     "exception": false,
     "start_time": "2024-07-25T10:18:26.120729",
     "status": "completed"
    },
    "tags": []
   },
   "outputs": [],
   "source": [
    "# del X\n",
    "# del y"
   ]
  },
  {
   "cell_type": "code",
   "execution_count": 22,
   "id": "bf8a23c6",
   "metadata": {
    "execution": {
     "iopub.execute_input": "2024-07-25T10:18:26.187112Z",
     "iopub.status.busy": "2024-07-25T10:18:26.186808Z",
     "iopub.status.idle": "2024-07-25T10:18:26.190757Z",
     "shell.execute_reply": "2024-07-25T10:18:26.189901Z"
    },
    "papermill": {
     "duration": 0.026191,
     "end_time": "2024-07-25T10:18:26.192828",
     "exception": false,
     "start_time": "2024-07-25T10:18:26.166637",
     "status": "completed"
    },
    "tags": []
   },
   "outputs": [],
   "source": [
    "# train_ros = pd.concat([X_ros, y_ros], axis=1)\n",
    "# train_ros, valid_ros = train_test_split(train_ros, test_size=0.35, stratify=train_ros[\"Response\"], random_state=42)\n",
    "\n",
    "# X_train = train_ros.copy()\n",
    "# y_train = X_train.pop(\"Response\")\n",
    "\n",
    "# X_valid = valid_ros.copy()\n",
    "# y_valid = X_valid.pop(\"Response\")"
   ]
  },
  {
   "cell_type": "code",
   "execution_count": 23,
   "id": "cda02c04",
   "metadata": {
    "execution": {
     "iopub.execute_input": "2024-07-25T10:18:26.233226Z",
     "iopub.status.busy": "2024-07-25T10:18:26.232512Z",
     "iopub.status.idle": "2024-07-25T10:18:26.236323Z",
     "shell.execute_reply": "2024-07-25T10:18:26.235485Z"
    },
    "papermill": {
     "duration": 0.025904,
     "end_time": "2024-07-25T10:18:26.238182",
     "exception": false,
     "start_time": "2024-07-25T10:18:26.212278",
     "status": "completed"
    },
    "tags": []
   },
   "outputs": [],
   "source": [
    "# print(train_ros.shape)\n",
    "# print(\"training shape: \",X_train.shape)\n",
    "# print(\"validation shape: \",X_valid.shape)"
   ]
  },
  {
   "cell_type": "code",
   "execution_count": 24,
   "id": "b368ec95",
   "metadata": {
    "execution": {
     "iopub.execute_input": "2024-07-25T10:18:26.278035Z",
     "iopub.status.busy": "2024-07-25T10:18:26.277738Z",
     "iopub.status.idle": "2024-07-25T10:18:26.281474Z",
     "shell.execute_reply": "2024-07-25T10:18:26.280646Z"
    },
    "papermill": {
     "duration": 0.026081,
     "end_time": "2024-07-25T10:18:26.283475",
     "exception": false,
     "start_time": "2024-07-25T10:18:26.257394",
     "status": "completed"
    },
    "tags": []
   },
   "outputs": [],
   "source": [
    "# X_train = train_ros.copy()\n",
    "# y_train = X_train.pop(\"Response\")\n",
    "\n",
    "# X_valid = valid_ros.copy()\n",
    "# y_valid = X_valid.pop(\"Response\")\n",
    "\n"
   ]
  },
  {
   "cell_type": "code",
   "execution_count": 25,
   "id": "0f9f69d7",
   "metadata": {
    "execution": {
     "iopub.execute_input": "2024-07-25T10:18:26.323868Z",
     "iopub.status.busy": "2024-07-25T10:18:26.323155Z",
     "iopub.status.idle": "2024-07-25T10:18:26.326974Z",
     "shell.execute_reply": "2024-07-25T10:18:26.326135Z"
    },
    "papermill": {
     "duration": 0.02597,
     "end_time": "2024-07-25T10:18:26.328824",
     "exception": false,
     "start_time": "2024-07-25T10:18:26.302854",
     "status": "completed"
    },
    "tags": []
   },
   "outputs": [],
   "source": [
    "# X_train = train_sub.copy()\n",
    "# y_train = X_train.pop(\"Response\")\n",
    "\n",
    "# X_valid = valid_sub.copy()\n",
    "# y_valid = X_valid.pop(\"Response\")"
   ]
  },
  {
   "cell_type": "code",
   "execution_count": 26,
   "id": "61e94c86",
   "metadata": {
    "execution": {
     "iopub.execute_input": "2024-07-25T10:18:26.369097Z",
     "iopub.status.busy": "2024-07-25T10:18:26.368382Z",
     "iopub.status.idle": "2024-07-25T10:18:26.372277Z",
     "shell.execute_reply": "2024-07-25T10:18:26.371421Z"
    },
    "papermill": {
     "duration": 0.025953,
     "end_time": "2024-07-25T10:18:26.374142",
     "exception": false,
     "start_time": "2024-07-25T10:18:26.348189",
     "status": "completed"
    },
    "tags": []
   },
   "outputs": [],
   "source": [
    "# X_train"
   ]
  },
  {
   "cell_type": "code",
   "execution_count": 27,
   "id": "3b625c53",
   "metadata": {
    "execution": {
     "iopub.execute_input": "2024-07-25T10:18:26.414166Z",
     "iopub.status.busy": "2024-07-25T10:18:26.413845Z",
     "iopub.status.idle": "2024-07-25T10:18:26.417765Z",
     "shell.execute_reply": "2024-07-25T10:18:26.416902Z"
    },
    "papermill": {
     "duration": 0.026083,
     "end_time": "2024-07-25T10:18:26.419512",
     "exception": false,
     "start_time": "2024-07-25T10:18:26.393429",
     "status": "completed"
    },
    "tags": []
   },
   "outputs": [],
   "source": [
    "# X_train[[\"Gender\",\"Vehicle_Age\",\"Vehicle_Damage\"]] = X_train[[\"Gender\",\"Vehicle_Age\",\"Vehicle_Damage\"]].astype(\"category\")\n",
    "# X_valid[[\"Gender\",\"Vehicle_Age\",\"Vehicle_Damage\"]] = X_valid[[\"Gender\",\"Vehicle_Age\",\"Vehicle_Damage\"]].astype(\"category\")"
   ]
  },
  {
   "cell_type": "code",
   "execution_count": 28,
   "id": "3ca3621b",
   "metadata": {
    "execution": {
     "iopub.execute_input": "2024-07-25T10:18:26.459262Z",
     "iopub.status.busy": "2024-07-25T10:18:26.458981Z",
     "iopub.status.idle": "2024-07-25T10:18:26.463680Z",
     "shell.execute_reply": "2024-07-25T10:18:26.462903Z"
    },
    "papermill": {
     "duration": 0.026732,
     "end_time": "2024-07-25T10:18:26.465564",
     "exception": false,
     "start_time": "2024-07-25T10:18:26.438832",
     "status": "completed"
    },
    "tags": []
   },
   "outputs": [],
   "source": [
    "# gender_mapping = {\n",
    "#     \"Male\":1,\n",
    "#     \"Female\":0\n",
    "# }\n",
    "# vehicle_age_mapping = {\n",
    "#     \"< 1 Year\":0,\n",
    "#     \"1-2 Year\":1,\n",
    "#     \"> 2 Years\":2\n",
    "# }\n",
    "# vehicle_damage_mapping = {\n",
    "#     \"Yes\":1,\n",
    "#     \"No\":0\n",
    "# }\n",
    "\n",
    "# X[\"Gender\"] = X[\"Gender\"].map(gender_mapping)\n",
    "# # X_ros[\"Gender\"] = X_ros[\"Gender\"].map(gender_mapping)\n",
    "# X_rus[\"Gender\"] = X_rus[\"Gender\"].map(gender_mapping)\n",
    "# # X_train[\"Gender\"] = X_train[\"Gender\"].map(gender_mapping)\n",
    "# # X_valid[\"Gender\"] = X_valid[\"Gender\"].map(gender_mapping)\n",
    "\n",
    "# X[\"Vehicle_Age\"] = X[\"Vehicle_Age\"].map(vehicle_age_mapping)\n",
    "# # X_ros[\"Vehicle_Age\"] = X_ros[\"Vehicle_Age\"].map(vehicle_age_mapping)\n",
    "# X_rus[\"Vehicle_Age\"] = X_rus[\"Vehicle_Age\"].map(vehicle_age_mapping)\n",
    "# # X_train[\"Vehicle_Age\"] = X_train[\"Vehicle_Age\"].map(vehicle_age_mapping)\n",
    "# # X_valid[\"Vehicle_Age\"] = X_valid[\"Vehicle_Age\"].map(vehicle_age_mapping)\n",
    "\n",
    "# X[\"Vehicle_Damage\"] = X[\"Vehicle_Damage\"].map(vehicle_damage_mapping)\n",
    "# # X_ros[\"Vehicle_Damage\"] = X_ros[\"Vehicle_Damage\"].map(vehicle_damage_mapping)\n",
    "# X_rus[\"Vehicle_Damage\"] = X_rus[\"Vehicle_Damage\"].map(vehicle_damage_mapping)\n",
    "# # X_train[\"Vehicle_Damage\"] = X_train[\"Vehicle_Damage\"].map(vehicle_damage_mapping)\n",
    "# # X_valid[\"Vehicle_Damage\"] = X_valid[\"Vehicle_Damage\"].map(vehicle_damage_mapping)"
   ]
  },
  {
   "cell_type": "code",
   "execution_count": 29,
   "id": "43fb0ace",
   "metadata": {
    "execution": {
     "iopub.execute_input": "2024-07-25T10:18:26.505140Z",
     "iopub.status.busy": "2024-07-25T10:18:26.504853Z",
     "iopub.status.idle": "2024-07-25T10:18:26.508502Z",
     "shell.execute_reply": "2024-07-25T10:18:26.507772Z"
    },
    "papermill": {
     "duration": 0.025597,
     "end_time": "2024-07-25T10:18:26.510417",
     "exception": false,
     "start_time": "2024-07-25T10:18:26.484820",
     "status": "completed"
    },
    "tags": []
   },
   "outputs": [],
   "source": [
    "# smote = SMOTE(random_state=42)\n",
    "\n",
    "# X_smoted, y_smoted = smote.fit_resample(X, y)\n",
    "# train_smoted = pd.concat([X_smoted, y_smoted], axis=1)"
   ]
  },
  {
   "cell_type": "code",
   "execution_count": 30,
   "id": "98623ea6",
   "metadata": {
    "execution": {
     "iopub.execute_input": "2024-07-25T10:18:26.550206Z",
     "iopub.status.busy": "2024-07-25T10:18:26.549920Z",
     "iopub.status.idle": "2024-07-25T10:18:29.491338Z",
     "shell.execute_reply": "2024-07-25T10:18:29.490563Z"
    },
    "papermill": {
     "duration": 2.964086,
     "end_time": "2024-07-25T10:18:29.493712",
     "exception": false,
     "start_time": "2024-07-25T10:18:26.529626",
     "status": "completed"
    },
    "tags": []
   },
   "outputs": [],
   "source": [
    "test = features_mapping(test)\n",
    "test = new_features(test)\n",
    "test = memory_reduce(test)"
   ]
  },
  {
   "cell_type": "code",
   "execution_count": 31,
   "id": "930f8b1b",
   "metadata": {
    "execution": {
     "iopub.execute_input": "2024-07-25T10:18:29.534243Z",
     "iopub.status.busy": "2024-07-25T10:18:29.533904Z",
     "iopub.status.idle": "2024-07-25T10:18:29.538070Z",
     "shell.execute_reply": "2024-07-25T10:18:29.537194Z"
    },
    "papermill": {
     "duration": 0.026514,
     "end_time": "2024-07-25T10:18:29.540029",
     "exception": false,
     "start_time": "2024-07-25T10:18:29.513515",
     "status": "completed"
    },
    "tags": []
   },
   "outputs": [],
   "source": [
    "# features_to_scale = ['Age','Vintage','Annual_Premium',\t'Policy_Sales_Channel',\t'Age_Annual_Premium',\t'Vintage_Annual_Premium',\t'Mean_Annual_Premium_by_region',\t'Damage_by_Region',\t'Premium_Age_Ratio',\t'Vintage_Age_Ratio']\n",
    "# features_to_scale = ['Age', 'Vintage', 'Annual_Premium', 'Policy_Sales_Channel']\n",
    "# scaler = RobustScaler()\n",
    "# X[features_to_scale] = scaler.fit_transform(X[features_to_scale])"
   ]
  },
  {
   "cell_type": "code",
   "execution_count": 32,
   "id": "d46282b5",
   "metadata": {
    "execution": {
     "iopub.execute_input": "2024-07-25T10:18:29.579575Z",
     "iopub.status.busy": "2024-07-25T10:18:29.579280Z",
     "iopub.status.idle": "2024-07-25T10:18:29.583002Z",
     "shell.execute_reply": "2024-07-25T10:18:29.582283Z"
    },
    "papermill": {
     "duration": 0.025635,
     "end_time": "2024-07-25T10:18:29.584928",
     "exception": false,
     "start_time": "2024-07-25T10:18:29.559293",
     "status": "completed"
    },
    "tags": []
   },
   "outputs": [],
   "source": [
    "# test[features_to_scale] = scaler.transform(test[features_to_scale])"
   ]
  },
  {
   "cell_type": "code",
   "execution_count": 33,
   "id": "4c2ade55",
   "metadata": {
    "execution": {
     "iopub.execute_input": "2024-07-25T10:18:29.624701Z",
     "iopub.status.busy": "2024-07-25T10:18:29.624384Z",
     "iopub.status.idle": "2024-07-25T10:18:29.628062Z",
     "shell.execute_reply": "2024-07-25T10:18:29.627242Z"
    },
    "papermill": {
     "duration": 0.025848,
     "end_time": "2024-07-25T10:18:29.629974",
     "exception": false,
     "start_time": "2024-07-25T10:18:29.604126",
     "status": "completed"
    },
    "tags": []
   },
   "outputs": [],
   "source": [
    "# pd.reset_option('all')"
   ]
  },
  {
   "cell_type": "code",
   "execution_count": 34,
   "id": "b5172c9e",
   "metadata": {
    "execution": {
     "iopub.execute_input": "2024-07-25T10:18:29.670291Z",
     "iopub.status.busy": "2024-07-25T10:18:29.669445Z",
     "iopub.status.idle": "2024-07-25T10:18:29.673418Z",
     "shell.execute_reply": "2024-07-25T10:18:29.672579Z"
    },
    "papermill": {
     "duration": 0.026261,
     "end_time": "2024-07-25T10:18:29.675516",
     "exception": false,
     "start_time": "2024-07-25T10:18:29.649255",
     "status": "completed"
    },
    "tags": []
   },
   "outputs": [],
   "source": [
    "# X"
   ]
  },
  {
   "cell_type": "code",
   "execution_count": 35,
   "id": "f4262de1",
   "metadata": {
    "execution": {
     "iopub.execute_input": "2024-07-25T10:18:29.715287Z",
     "iopub.status.busy": "2024-07-25T10:18:29.714993Z",
     "iopub.status.idle": "2024-07-25T10:18:29.719040Z",
     "shell.execute_reply": "2024-07-25T10:18:29.718171Z"
    },
    "papermill": {
     "duration": 0.026022,
     "end_time": "2024-07-25T10:18:29.720915",
     "exception": false,
     "start_time": "2024-07-25T10:18:29.694893",
     "status": "completed"
    },
    "tags": []
   },
   "outputs": [],
   "source": [
    "# test[\"Gender\"] = test[\"Gender\"].map(gender_mapping)\n",
    "# # X_ros[\"Gender\"] = X_ros[\"Gender\"].map(gender_mapping)\n",
    "# test[\"Vehicle_Age\"] = test[\"Vehicle_Age\"].map(vehicle_age_mapping)\n",
    "# # X_ros[\"Vehicle_Age\"] = X_ros[\"Vehicle_Age\"].map(vehicle_age_mapping)\n",
    "# test[\"Vehicle_Damage\"] = test[\"Vehicle_Damage\"].map(vehicle_damage_mapping)\n",
    "# # X_ros[\"Vehicle_Damage\"] = X_ros[\"Vehicle_Damage\"].map(vehicle_damage_mapping)"
   ]
  },
  {
   "cell_type": "code",
   "execution_count": 36,
   "id": "85a75831",
   "metadata": {
    "execution": {
     "iopub.execute_input": "2024-07-25T10:18:29.761142Z",
     "iopub.status.busy": "2024-07-25T10:18:29.760844Z",
     "iopub.status.idle": "2024-07-25T10:18:29.764767Z",
     "shell.execute_reply": "2024-07-25T10:18:29.763905Z"
    },
    "papermill": {
     "duration": 0.026093,
     "end_time": "2024-07-25T10:18:29.766699",
     "exception": false,
     "start_time": "2024-07-25T10:18:29.740606",
     "status": "completed"
    },
    "tags": []
   },
   "outputs": [],
   "source": [
    "# continuous_features = [\"Age\",\"Region_Code\",\"Annual_Premium\",\"Policy_Sales_Channel\",\"Vintage\"]\n",
    "# # scaler = StandardScaler()\n",
    "# scaler = RobustScaler()\n",
    "# X[continuous_features] = scaler.fit_transform(X[continuous_features])\n",
    "# test[continuous_features] = scaler.fit_transform(test[continuous_features])"
   ]
  },
  {
   "cell_type": "code",
   "execution_count": 37,
   "id": "9c4d2b52",
   "metadata": {
    "execution": {
     "iopub.execute_input": "2024-07-25T10:18:29.807091Z",
     "iopub.status.busy": "2024-07-25T10:18:29.806589Z",
     "iopub.status.idle": "2024-07-25T10:18:29.810498Z",
     "shell.execute_reply": "2024-07-25T10:18:29.809691Z"
    },
    "papermill": {
     "duration": 0.026031,
     "end_time": "2024-07-25T10:18:29.812356",
     "exception": false,
     "start_time": "2024-07-25T10:18:29.786325",
     "status": "completed"
    },
    "tags": []
   },
   "outputs": [],
   "source": [
    "# test[continuous_features] = scaler.transform(test[continuous_features])"
   ]
  },
  {
   "cell_type": "code",
   "execution_count": 38,
   "id": "40ac88c3",
   "metadata": {
    "execution": {
     "iopub.execute_input": "2024-07-25T10:18:29.853519Z",
     "iopub.status.busy": "2024-07-25T10:18:29.853241Z",
     "iopub.status.idle": "2024-07-25T10:18:29.856807Z",
     "shell.execute_reply": "2024-07-25T10:18:29.855969Z"
    },
    "papermill": {
     "duration": 0.025552,
     "end_time": "2024-07-25T10:18:29.858702",
     "exception": false,
     "start_time": "2024-07-25T10:18:29.833150",
     "status": "completed"
    },
    "tags": []
   },
   "outputs": [],
   "source": [
    "# lgbm = LGBMClassifier(verbose=0, n_jobs=-1)\n",
    "# lgbm.fit(X_ros, y_ros)"
   ]
  },
  {
   "cell_type": "code",
   "execution_count": 39,
   "id": "f304fb00",
   "metadata": {
    "execution": {
     "iopub.execute_input": "2024-07-25T10:18:29.899113Z",
     "iopub.status.busy": "2024-07-25T10:18:29.898846Z",
     "iopub.status.idle": "2024-07-25T10:18:29.902829Z",
     "shell.execute_reply": "2024-07-25T10:18:29.901965Z"
    },
    "papermill": {
     "duration": 0.026364,
     "end_time": "2024-07-25T10:18:29.904639",
     "exception": false,
     "start_time": "2024-07-25T10:18:29.878275",
     "status": "completed"
    },
    "tags": []
   },
   "outputs": [],
   "source": [
    "# feature_importances = lgbm.feature_importances_\n",
    "\n",
    "# feature_importance_df = pd.DataFrame({'feature': X.columns, 'importance': feature_importances})\n",
    "\n",
    "# feature_importance_df = feature_importance_df.sort_values('importance', ascending=False)\n",
    "\n",
    "# print(feature_importance_df.head(10))"
   ]
  },
  {
   "cell_type": "code",
   "execution_count": 40,
   "id": "55838267",
   "metadata": {
    "execution": {
     "iopub.execute_input": "2024-07-25T10:18:29.944243Z",
     "iopub.status.busy": "2024-07-25T10:18:29.943971Z",
     "iopub.status.idle": "2024-07-25T10:18:29.947691Z",
     "shell.execute_reply": "2024-07-25T10:18:29.946852Z"
    },
    "papermill": {
     "duration": 0.02564,
     "end_time": "2024-07-25T10:18:29.949565",
     "exception": false,
     "start_time": "2024-07-25T10:18:29.923925",
     "status": "completed"
    },
    "tags": []
   },
   "outputs": [],
   "source": [
    "# X_ros.shape"
   ]
  },
  {
   "cell_type": "code",
   "execution_count": 41,
   "id": "eb252e1d",
   "metadata": {
    "execution": {
     "iopub.execute_input": "2024-07-25T10:18:29.989193Z",
     "iopub.status.busy": "2024-07-25T10:18:29.988903Z",
     "iopub.status.idle": "2024-07-25T10:18:29.992528Z",
     "shell.execute_reply": "2024-07-25T10:18:29.991803Z"
    },
    "papermill": {
     "duration": 0.025583,
     "end_time": "2024-07-25T10:18:29.994378",
     "exception": false,
     "start_time": "2024-07-25T10:18:29.968795",
     "status": "completed"
    },
    "tags": []
   },
   "outputs": [],
   "source": [
    "# y_ros.shape"
   ]
  },
  {
   "cell_type": "code",
   "execution_count": null,
   "id": "b8e01dbd",
   "metadata": {
    "papermill": {
     "duration": 0.019079,
     "end_time": "2024-07-25T10:18:30.033373",
     "exception": false,
     "start_time": "2024-07-25T10:18:30.014294",
     "status": "completed"
    },
    "tags": []
   },
   "outputs": [],
   "source": []
  },
  {
   "cell_type": "code",
   "execution_count": 42,
   "id": "9d5dff05",
   "metadata": {
    "execution": {
     "iopub.execute_input": "2024-07-25T10:18:30.073076Z",
     "iopub.status.busy": "2024-07-25T10:18:30.072745Z",
     "iopub.status.idle": "2024-07-25T10:18:30.076595Z",
     "shell.execute_reply": "2024-07-25T10:18:30.075730Z"
    },
    "papermill": {
     "duration": 0.025964,
     "end_time": "2024-07-25T10:18:30.078569",
     "exception": false,
     "start_time": "2024-07-25T10:18:30.052605",
     "status": "completed"
    },
    "tags": []
   },
   "outputs": [],
   "source": [
    "# X_train, X_valid, y_train, y_valid = train_test_split(X, y, test_size=0.3, stratify=y, random_state=42)"
   ]
  },
  {
   "cell_type": "code",
   "execution_count": 43,
   "id": "8cbd344a",
   "metadata": {
    "execution": {
     "iopub.execute_input": "2024-07-25T10:18:30.118613Z",
     "iopub.status.busy": "2024-07-25T10:18:30.118283Z",
     "iopub.status.idle": "2024-07-25T10:18:30.121984Z",
     "shell.execute_reply": "2024-07-25T10:18:30.121239Z"
    },
    "papermill": {
     "duration": 0.025576,
     "end_time": "2024-07-25T10:18:30.123840",
     "exception": false,
     "start_time": "2024-07-25T10:18:30.098264",
     "status": "completed"
    },
    "tags": []
   },
   "outputs": [],
   "source": [
    "# del X\n",
    "# del y"
   ]
  },
  {
   "cell_type": "code",
   "execution_count": 44,
   "id": "1ad06da7",
   "metadata": {
    "execution": {
     "iopub.execute_input": "2024-07-25T10:18:30.163685Z",
     "iopub.status.busy": "2024-07-25T10:18:30.163359Z",
     "iopub.status.idle": "2024-07-25T10:18:30.168063Z",
     "shell.execute_reply": "2024-07-25T10:18:30.167386Z"
    },
    "papermill": {
     "duration": 0.026793,
     "end_time": "2024-07-25T10:18:30.169885",
     "exception": false,
     "start_time": "2024-07-25T10:18:30.143092",
     "status": "completed"
    },
    "tags": []
   },
   "outputs": [],
   "source": [
    "# del X_ros, y_ros"
   ]
  },
  {
   "cell_type": "code",
   "execution_count": 45,
   "id": "83c6dcba",
   "metadata": {
    "execution": {
     "iopub.execute_input": "2024-07-25T10:18:30.209597Z",
     "iopub.status.busy": "2024-07-25T10:18:30.209284Z",
     "iopub.status.idle": "2024-07-25T10:18:30.213030Z",
     "shell.execute_reply": "2024-07-25T10:18:30.212289Z"
    },
    "papermill": {
     "duration": 0.025654,
     "end_time": "2024-07-25T10:18:30.214863",
     "exception": false,
     "start_time": "2024-07-25T10:18:30.189209",
     "status": "completed"
    },
    "tags": []
   },
   "outputs": [],
   "source": [
    "# X_ros"
   ]
  },
  {
   "cell_type": "code",
   "execution_count": 46,
   "id": "12747d2b",
   "metadata": {
    "execution": {
     "iopub.execute_input": "2024-07-25T10:18:30.254423Z",
     "iopub.status.busy": "2024-07-25T10:18:30.254119Z",
     "iopub.status.idle": "2024-07-25T10:18:34.951448Z",
     "shell.execute_reply": "2024-07-25T10:18:34.950669Z"
    },
    "papermill": {
     "duration": 4.719765,
     "end_time": "2024-07-25T10:18:34.953872",
     "exception": false,
     "start_time": "2024-07-25T10:18:30.234107",
     "status": "completed"
    },
    "tags": []
   },
   "outputs": [],
   "source": [
    "class_weights = compute_class_weight('balanced', classes = np.unique(y), y=y)\n",
    "class_labels = np.unique(y)\n",
    "class_weights_dict = {class_labels[i]: class_weights[i] for i in range(len(class_weights))}"
   ]
  },
  {
   "cell_type": "code",
   "execution_count": 47,
   "id": "d0413aad",
   "metadata": {
    "execution": {
     "iopub.execute_input": "2024-07-25T10:18:34.994352Z",
     "iopub.status.busy": "2024-07-25T10:18:34.994036Z",
     "iopub.status.idle": "2024-07-25T10:18:35.046303Z",
     "shell.execute_reply": "2024-07-25T10:18:35.045482Z"
    },
    "papermill": {
     "duration": 0.07514,
     "end_time": "2024-07-25T10:18:35.048700",
     "exception": false,
     "start_time": "2024-07-25T10:18:34.973560",
     "status": "completed"
    },
    "tags": []
   },
   "outputs": [],
   "source": [
    "sample_weights = np.where(y==0, class_weights_dict[0], class_weights_dict[1],)"
   ]
  },
  {
   "cell_type": "code",
   "execution_count": 48,
   "id": "41b522ec",
   "metadata": {
    "execution": {
     "iopub.execute_input": "2024-07-25T10:18:35.089611Z",
     "iopub.status.busy": "2024-07-25T10:18:35.089249Z",
     "iopub.status.idle": "2024-07-25T10:18:35.094802Z",
     "shell.execute_reply": "2024-07-25T10:18:35.093950Z"
    },
    "papermill": {
     "duration": 0.028529,
     "end_time": "2024-07-25T10:18:35.096958",
     "exception": false,
     "start_time": "2024-07-25T10:18:35.068429",
     "status": "completed"
    },
    "tags": []
   },
   "outputs": [
    {
     "data": {
      "text/plain": [
       "(11504798,)"
      ]
     },
     "execution_count": 48,
     "metadata": {},
     "output_type": "execute_result"
    }
   ],
   "source": [
    "sample_weights.shape"
   ]
  },
  {
   "cell_type": "code",
   "execution_count": 49,
   "id": "a88948dc",
   "metadata": {
    "execution": {
     "iopub.execute_input": "2024-07-25T10:18:35.137200Z",
     "iopub.status.busy": "2024-07-25T10:18:35.136907Z",
     "iopub.status.idle": "2024-07-25T10:18:35.140844Z",
     "shell.execute_reply": "2024-07-25T10:18:35.139977Z"
    },
    "papermill": {
     "duration": 0.026267,
     "end_time": "2024-07-25T10:18:35.142739",
     "exception": false,
     "start_time": "2024-07-25T10:18:35.116472",
     "status": "completed"
    },
    "tags": []
   },
   "outputs": [],
   "source": [
    "# # Compile the model\n",
    "# model.compile(loss='binary_crossentropy', optimizer=keras.optimizers.SGD(learning_rate=0.55), metrics=['accuracy', keras.metrics.AUC()])\n",
    "\n",
    "# # Print the model summary\n",
    "# model.summary()"
   ]
  },
  {
   "cell_type": "code",
   "execution_count": 50,
   "id": "5b3d8828",
   "metadata": {
    "execution": {
     "iopub.execute_input": "2024-07-25T10:18:35.183218Z",
     "iopub.status.busy": "2024-07-25T10:18:35.182914Z",
     "iopub.status.idle": "2024-07-25T10:18:35.186901Z",
     "shell.execute_reply": "2024-07-25T10:18:35.186029Z"
    },
    "papermill": {
     "duration": 0.02626,
     "end_time": "2024-07-25T10:18:35.188742",
     "exception": false,
     "start_time": "2024-07-25T10:18:35.162482",
     "status": "completed"
    },
    "tags": []
   },
   "outputs": [],
   "source": [
    "# history = model.fit(X_train,y_train,\n",
    "#                    epochs=100,\n",
    "#                    batch_size=10000,\n",
    "#                    sample_weight=sample_weights,\n",
    "#                    validation_data=(X_valid,y_valid))"
   ]
  },
  {
   "cell_type": "code",
   "execution_count": 51,
   "id": "c8c2ed15",
   "metadata": {
    "execution": {
     "iopub.execute_input": "2024-07-25T10:18:35.229081Z",
     "iopub.status.busy": "2024-07-25T10:18:35.228780Z",
     "iopub.status.idle": "2024-07-25T10:18:35.233028Z",
     "shell.execute_reply": "2024-07-25T10:18:35.232279Z"
    },
    "papermill": {
     "duration": 0.026567,
     "end_time": "2024-07-25T10:18:35.234952",
     "exception": false,
     "start_time": "2024-07-25T10:18:35.208385",
     "status": "completed"
    },
    "tags": []
   },
   "outputs": [],
   "source": [
    "# model = Sequential([\n",
    "#     Dense(128, activation='mish'),\n",
    "#     layers.LayerNormalization(),\n",
    "#     Dense(64, activation='mish'),\n",
    "#     layers.LayerNormalization(),\n",
    "#     Dense(32, activation='mish'),\n",
    "#     layers.LayerNormalization(),\n",
    "#     Dense(16, activation='mish'),\n",
    "#     layers.LayerNormalization(),\n",
    "#     Dense(8, activation='mish'),\n",
    "#     layers.LayerNormalization(),\n",
    "#     Dense(1, activation='sigmoid')\n",
    "# ])\n",
    "\n",
    "# model.compile(optimizer = 'adam', loss='binary_crossentropy', metrics=['accuracy',tf.keras.metrics.AUC()])\n",
    "\n",
    "# model.summary()"
   ]
  },
  {
   "cell_type": "code",
   "execution_count": 52,
   "id": "14ce9a58",
   "metadata": {
    "execution": {
     "iopub.execute_input": "2024-07-25T10:18:35.275180Z",
     "iopub.status.busy": "2024-07-25T10:18:35.274884Z",
     "iopub.status.idle": "2024-07-25T10:18:35.278614Z",
     "shell.execute_reply": "2024-07-25T10:18:35.277816Z"
    },
    "papermill": {
     "duration": 0.026066,
     "end_time": "2024-07-25T10:18:35.280436",
     "exception": false,
     "start_time": "2024-07-25T10:18:35.254370",
     "status": "completed"
    },
    "tags": []
   },
   "outputs": [],
   "source": [
    "# y_train.shape"
   ]
  },
  {
   "cell_type": "code",
   "execution_count": 53,
   "id": "276e1d8d",
   "metadata": {
    "execution": {
     "iopub.execute_input": "2024-07-25T10:18:35.321121Z",
     "iopub.status.busy": "2024-07-25T10:18:35.320802Z",
     "iopub.status.idle": "2024-07-25T10:18:35.324743Z",
     "shell.execute_reply": "2024-07-25T10:18:35.323950Z"
    },
    "papermill": {
     "duration": 0.02653,
     "end_time": "2024-07-25T10:18:35.326627",
     "exception": false,
     "start_time": "2024-07-25T10:18:35.300097",
     "status": "completed"
    },
    "tags": []
   },
   "outputs": [],
   "source": [
    "# history = model.fit(X_train,y_train,\n",
    "#                    epochs=50,\n",
    "#                    batch_size=10000,\n",
    "#                    sample_weight=sample_weights,\n",
    "#                    validation_data=(X_valid,y_valid))"
   ]
  },
  {
   "cell_type": "code",
   "execution_count": 54,
   "id": "827f2a94",
   "metadata": {
    "execution": {
     "iopub.execute_input": "2024-07-25T10:18:35.366616Z",
     "iopub.status.busy": "2024-07-25T10:18:35.366240Z",
     "iopub.status.idle": "2024-07-25T10:18:35.370462Z",
     "shell.execute_reply": "2024-07-25T10:18:35.369471Z"
    },
    "papermill": {
     "duration": 0.026631,
     "end_time": "2024-07-25T10:18:35.372527",
     "exception": false,
     "start_time": "2024-07-25T10:18:35.345896",
     "status": "completed"
    },
    "tags": []
   },
   "outputs": [],
   "source": [
    "# lgbm = LGBMClassifier(device='gpu', n_jobs=-1)\n",
    "# lgbm.fit(X_ros, y_ros)"
   ]
  },
  {
   "cell_type": "code",
   "execution_count": 55,
   "id": "dc086b0b",
   "metadata": {
    "execution": {
     "iopub.execute_input": "2024-07-25T10:18:35.412625Z",
     "iopub.status.busy": "2024-07-25T10:18:35.412311Z",
     "iopub.status.idle": "2024-07-25T10:18:35.420586Z",
     "shell.execute_reply": "2024-07-25T10:18:35.419909Z"
    },
    "papermill": {
     "duration": 0.030302,
     "end_time": "2024-07-25T10:18:35.422420",
     "exception": false,
     "start_time": "2024-07-25T10:18:35.392118",
     "status": "completed"
    },
    "tags": []
   },
   "outputs": [],
   "source": [
    "xgb_params = {              \n",
    "    'objective': 'binary:logistic',\n",
    "    'eval_metric': 'auc',\n",
    "    'booster': 'gbtree',\n",
    "    'n_estimators': 1500,       \n",
    "    'learning_rate': 0.55,                   \n",
    "    'min_child_weight': 17,      \n",
    "    'reg_lambda': 0.2,           \n",
    "    'reg_alpha': 7,              \n",
    "    'max_bin': 52000,            \n",
    "    'colsample_bytree': 0.65,    \n",
    "    'max_delta_step': 2,         \n",
    "    'random_state': 0,\n",
    "    'tree_method': 'hist',\n",
    "    'device': 'cuda',\n",
    "    'n_jobs': -1,\n",
    "    'scale_pos_weight': class_weights_dict[1] \n",
    "}\n",
    "lgbm_params = {\n",
    "    'objective': 'binary',\n",
    "    'metric': 'auc',\n",
    "    'boosting_type': 'gbdt',\n",
    "    'num_boost_round': 1500,\n",
    "    'learning_rate': 0.55,\n",
    "    'min_child_samples': 17,\n",
    "    'lambda_l2': 0.2,\n",
    "    'lambda_l1': 7,\n",
    "    'max_bin': 255,\n",
    "    'feature_fraction': 0.65,\n",
    "    'random_state': 0,\n",
    "    'tree_learner': 'serial',  # 'serial' for CPU; 'data' or 'feature' for parallel learning\n",
    "    'device_type': 'gpu',  # Use 'gpu' if using GPU, else 'cpu'\n",
    "    'num_threads': -1,\n",
    "    'class_weight': 'balanced'\n",
    "}\n",
    "cat_params = {\n",
    "    'objective': 'Logloss',\n",
    "    'eval_metric': 'AUC',\n",
    "    'iterations': 1500,\n",
    "    'learning_rate': 0.55,\n",
    "    'depth': 6,  # Depth is analogous to max_depth in other GBMs; you might need to tune it\n",
    "    'l2_leaf_reg': 0.2,  # Analogous to reg_lambda\n",
    "    'random_seed': 0,\n",
    "    'task_type': 'GPU',  # 'GPU' for GPU training; 'CPU' for CPU\n",
    "    'thread_count': -1,\n",
    "    'class_weights': [class_weights_dict[0],class_weights_dict[1]]\n",
    "}"
   ]
  },
  {
   "cell_type": "code",
   "execution_count": 56,
   "id": "737e331f",
   "metadata": {
    "execution": {
     "iopub.execute_input": "2024-07-25T10:18:35.462702Z",
     "iopub.status.busy": "2024-07-25T10:18:35.462197Z",
     "iopub.status.idle": "2024-07-25T10:18:35.466985Z",
     "shell.execute_reply": "2024-07-25T10:18:35.466112Z"
    },
    "papermill": {
     "duration": 0.027075,
     "end_time": "2024-07-25T10:18:35.468924",
     "exception": false,
     "start_time": "2024-07-25T10:18:35.441849",
     "status": "completed"
    },
    "tags": []
   },
   "outputs": [],
   "source": [
    "# models = {\n",
    "# #     \"HistGradientBoosting\": HistGradientBoostingClassifier(class_weight='balanced'),\n",
    "# #     \"LightGBM\": LGBMClassifier(device='gpu', n_jobs=-1,class_weight= 'balanced'),\n",
    "# #     \"CatBoost\": CatBoostClassifier(task_type='GPU', thread_count=-1, class_weights= [class_weights_dict[0], class_weights_dict[1]]),\n",
    "#       \"XGBoost\": XGBClassifier(**xgb_params), # attained 0.8899 score\n",
    "# #     'Lightgbm': LGBMClassifier(**lgbm_params),\n",
    "# #     'Catboost': CatBoostClassifier(**cat_params)\n",
    "# }\n",
    "\n",
    "# # KFold cross-validation\n",
    "# kf = KFold(n_splits=3, shuffle=True, random_state=1)\n",
    "\n",
    "# # Dictionary to store results\n",
    "# roc_auc_results = {}\n",
    "# logloss_results = {}\n",
    "\n",
    "# X = X.reset_index(drop=True)\n",
    "# y = y.reset_index(drop=True)\n",
    "# # Evaluate each model\n",
    "# for name, model in models.items():\n",
    "#     roc_auc_list = []\n",
    "#     logloss_list = []\n",
    "#     for train_index, test_index in kf.split(X):\n",
    "#         X_train, X_test = X.iloc[train_index], X.iloc[test_index]\n",
    "#         y_train, y_test = y.iloc[train_index], y.iloc[test_index]\n",
    "#         model.fit(X_train, y_train)\n",
    "#         preds = model.predict_proba(X_test)[:,1]\n",
    "#         roc_auc = roc_auc_score(y_test, preds)\n",
    "#         roc_auc_list.append(roc_auc)\n",
    "#     roc_auc_results[name] = roc_auc_list\n",
    "#     print(f\"{name} - ROC AUC: {np.mean(roc_auc_list):.4f} (+/- {np.std(roc_auc_list):.4f})\")"
   ]
  },
  {
   "cell_type": "code",
   "execution_count": 57,
   "id": "56fb87a9",
   "metadata": {
    "execution": {
     "iopub.execute_input": "2024-07-25T10:18:35.509632Z",
     "iopub.status.busy": "2024-07-25T10:18:35.509086Z",
     "iopub.status.idle": "2024-07-25T10:18:35.514185Z",
     "shell.execute_reply": "2024-07-25T10:18:35.513498Z"
    },
    "papermill": {
     "duration": 0.027727,
     "end_time": "2024-07-25T10:18:35.516067",
     "exception": false,
     "start_time": "2024-07-25T10:18:35.488340",
     "status": "completed"
    },
    "tags": []
   },
   "outputs": [],
   "source": [
    "# X_ros = X_ros.reset_index(drop=True)\n",
    "# y_ros = y_ros.reset_index(drop=True)\n",
    "\n",
    "# # Print indices\n",
    "# print(f\"X_ros index:\\n{X_ros.index}\")\n",
    "# print(f\"y_ros index:\\n{y_ros.index}\")\n",
    "\n",
    "# # Evaluate each model\n",
    "# for fold, (train_index, test_index) in enumerate(kf.split(X_ros), 1):\n",
    "#     print(f\"\\nFold {fold}:\")\n",
    "#     print(f\"Train indices: {train_index}\")\n",
    "#     print(f\"Test indices: {test_index}\")"
   ]
  },
  {
   "cell_type": "code",
   "execution_count": 58,
   "id": "748d05a5",
   "metadata": {
    "execution": {
     "iopub.execute_input": "2024-07-25T10:18:35.556962Z",
     "iopub.status.busy": "2024-07-25T10:18:35.556287Z",
     "iopub.status.idle": "2024-07-25T10:18:35.560107Z",
     "shell.execute_reply": "2024-07-25T10:18:35.559278Z"
    },
    "papermill": {
     "duration": 0.026229,
     "end_time": "2024-07-25T10:18:35.561998",
     "exception": false,
     "start_time": "2024-07-25T10:18:35.535769",
     "status": "completed"
    },
    "tags": []
   },
   "outputs": [],
   "source": [
    "# roc_auc_results"
   ]
  },
  {
   "cell_type": "code",
   "execution_count": 59,
   "id": "111be5ee",
   "metadata": {
    "execution": {
     "iopub.execute_input": "2024-07-25T10:18:35.602526Z",
     "iopub.status.busy": "2024-07-25T10:18:35.601927Z",
     "iopub.status.idle": "2024-07-25T10:18:35.606176Z",
     "shell.execute_reply": "2024-07-25T10:18:35.605309Z"
    },
    "papermill": {
     "duration": 0.026502,
     "end_time": "2024-07-25T10:18:35.608003",
     "exception": false,
     "start_time": "2024-07-25T10:18:35.581501",
     "status": "completed"
    },
    "tags": []
   },
   "outputs": [],
   "source": [
    "# # Display summary of ROC AUC results\n",
    "# roc_auc_df = pd.DataFrame(roc_auc_results).T\n",
    "# roc_auc_df.columns = ['Fold 1', 'Fold 2', 'Fold 3']\n",
    "# roc_auc_df['Mean ROC AUC'] = roc_auc_df.mean(axis=1)\n",
    "# roc_auc_df['Std Dev'] = roc_auc_df.std(axis=1)\n",
    "\n",
    "# print(\"\\nSummary of ROC AUC results:\")\n",
    "# print(roc_auc_df)\n",
    "\n",
    "# # Display summary of log loss results\n",
    "# # logloss_df = pd.DataFrame(logloss_results).T\n",
    "# # logloss_df.columns = ['Fold 1', 'Fold 2', 'Fold 3']\n",
    "# # logloss_df['Mean Log Loss'] = logloss_df.mean(axis=1)\n",
    "# # logloss_df['Std Dev'] = logloss_df.std(axis=1)\n",
    "\n",
    "# # print(\"\\nSummary of LogLoss results:\")\n",
    "# # print(logloss_df)"
   ]
  },
  {
   "cell_type": "code",
   "execution_count": 60,
   "id": "9f88ca82",
   "metadata": {
    "execution": {
     "iopub.execute_input": "2024-07-25T10:18:35.648294Z",
     "iopub.status.busy": "2024-07-25T10:18:35.648015Z",
     "iopub.status.idle": "2024-07-25T10:18:35.652717Z",
     "shell.execute_reply": "2024-07-25T10:18:35.651851Z"
    },
    "papermill": {
     "duration": 0.027316,
     "end_time": "2024-07-25T10:18:35.654662",
     "exception": false,
     "start_time": "2024-07-25T10:18:35.627346",
     "status": "completed"
    },
    "tags": []
   },
   "outputs": [],
   "source": [
    "# Summary of ROC AUC results:\n",
    "#                         Fold 1    Fold 2    Fold 3  Mean ROC AUC   Std Dev\n",
    "# RandomForest          0.851484  0.852166  0.851353      0.851668  0.000356\n",
    "# AdaBoost              0.859190  0.859731  0.858918      0.859280  0.000338\n",
    "# GradientBoosting      0.865154  0.865599  0.864776      0.865176  0.000336\n",
    "# HistGradientBoosting  0.875041  0.875562  0.875206      0.875270  0.000218\n",
    "# ExtraTrees            0.841332  0.841713  0.841180      0.841408  0.000224\n",
    "# LightGBM              0.875722  0.876071  0.875340      0.875711  0.000298\n",
    "# CatBoost              0.870625  0.871408  0.870140      0.870724  0.000523\n",
    "# XGBoost               0.878114  0.878968  0.877698      0.878260  0.000528\n",
    "\n",
    "# Summary of LogLoss results:\n",
    "#                         Fold 1    Fold 2    Fold 3  Mean Log Loss   Std Dev\n",
    "# RandomForest          0.475906  0.474242  0.475362       0.475170  0.000693\n",
    "# AdaBoost              0.673588  0.673637  0.673632       0.673619  0.000022\n",
    "# GradientBoosting      0.413304  0.412833  0.413254       0.413130  0.000211\n",
    "# HistGradientBoosting  0.401352  0.400915  0.400952       0.401073  0.000198\n",
    "# ExtraTrees            0.647964  0.648817  0.657455       0.651412  0.004287\n",
    "# LightGBM              0.400750  0.400494  0.400831       0.400692  0.000143\n",
    "# CatBoost              0.405725  0.405028  0.405738       0.405497  0.000332\n",
    "# XGBoost               0.397448  0.396583  0.397677       0.397236  0.000471\n",
    "\n",
    "\n",
    "# summary of roc_auc results with no random over sampling with feature engineering\n",
    "# Summary of ROC AUC results:\n",
    "#                         Fold 1    Fold 2    Fold 3  Mean ROC AUC   Std Dev\n",
    "# HistGradientBoosting  0.875687  0.875219  0.875401      0.875436  0.000193\n",
    "# LightGBM              0.875538  0.875763  0.876056      0.875785  0.000212\n",
    "# CatBoost              0.870475  0.870682  0.870775      0.870644  0.000125\n",
    "# XGBoost               0.877918  0.878111  0.878382      0.878137  0.000191"
   ]
  },
  {
   "cell_type": "code",
   "execution_count": 61,
   "id": "08d835fb",
   "metadata": {
    "execution": {
     "iopub.execute_input": "2024-07-25T10:18:35.695510Z",
     "iopub.status.busy": "2024-07-25T10:18:35.694794Z",
     "iopub.status.idle": "2024-07-25T10:18:35.699939Z",
     "shell.execute_reply": "2024-07-25T10:18:35.699077Z"
    },
    "papermill": {
     "duration": 0.027738,
     "end_time": "2024-07-25T10:18:35.701805",
     "exception": false,
     "start_time": "2024-07-25T10:18:35.674067",
     "status": "completed"
    },
    "tags": []
   },
   "outputs": [],
   "source": [
    "# import matplotlib.pyplot as plt\n",
    "\n",
    "# save_dir = \"/kaggle/working/feature_importance_plots\"\n",
    "# os.makedirs(save_dir, exist_ok=True)\n",
    "\n",
    "# for name, model in models.items():\n",
    "#     plt.figure(figsize=(10, 5))\n",
    "    \n",
    "#     if hasattr(model, 'feature_importances_'):\n",
    "#         # For models that have feature_importances_ attribute (like RandomForestClassifier, ExtraTreesClassifier, etc.)\n",
    "#         feature_importances = model.feature_importances_\n",
    "#         plt.barh(X.columns, feature_importances)\n",
    "#         plt.title(f\"Feature importances for {name}\")\n",
    "#         plt.xlabel(\"Importance\")\n",
    "#         plt.ylabel(\"Feature\")\n",
    "#         plt.tight_layout()\n",
    "        \n",
    "#         # Save figure\n",
    "#         save_path = os.path.join(save_dir, f\"{name}_feature_importance.png\")\n",
    "#         plt.savefig(save_path)\n",
    "        \n",
    "#         # Display figure\n",
    "#         plt.show()\n",
    "        \n",
    "#     elif hasattr(model, 'plot_feature_importances'):\n",
    "#         # For HistGradientBoostingClassifier, CatBoostClassifier, etc. that provide plot_feature_importances() method\n",
    "#         model.plot_feature_importances()\n",
    "#         plt.title(f\"Feature importances for {name}\")\n",
    "#         plt.tight_layout()\n",
    "        \n",
    "#         # Save figure\n",
    "#         save_path = os.path.join(save_dir, f\"{name}_feature_importance.png\")\n",
    "#         plt.savefig(save_path)\n",
    "        \n",
    "#         # Display figure\n",
    "#         plt.show()\n",
    "        \n",
    "#     else:\n",
    "#         print(f\"{name} does not have feature importances available.\")"
   ]
  },
  {
   "cell_type": "code",
   "execution_count": 62,
   "id": "2e00f26d",
   "metadata": {
    "execution": {
     "iopub.execute_input": "2024-07-25T10:18:35.742575Z",
     "iopub.status.busy": "2024-07-25T10:18:35.741944Z",
     "iopub.status.idle": "2024-07-25T10:18:35.747342Z",
     "shell.execute_reply": "2024-07-25T10:18:35.746489Z"
    },
    "papermill": {
     "duration": 0.027867,
     "end_time": "2024-07-25T10:18:35.749261",
     "exception": false,
     "start_time": "2024-07-25T10:18:35.721394",
     "status": "completed"
    },
    "tags": []
   },
   "outputs": [],
   "source": [
    "# def objective(trial):\n",
    "#     # Define the hyperparameter search space\n",
    "#     param = {\n",
    "#         'objective': 'binary:logistic',\n",
    "#         'eval_metric': 'auc',\n",
    "#         'booster': 'gbtree',\n",
    "#         'n_estimators': trial.suggest_int('n_estimators', 1000, 2000),       \n",
    "#         'learning_rate': trial.suggest_float('learning_rate', 0.01, 0.55),                   \n",
    "#         'min_child_weight': trial.suggest_int('min_child_weight', 1, 20),      \n",
    "#         'reg_lambda': trial.suggest_float('reg_lambda', 0.1, 10.0),           \n",
    "#         'reg_alpha': trial.suggest_float('reg_alpha', 0.1, 10.0),              \n",
    "#         'max_bin': trial.suggest_int('max_bin', 100, 60000),            \n",
    "#         'colsample_bytree': trial.suggest_float('colsample_bytree', 0.1, 1.0),    \n",
    "#         'max_delta_step': trial.suggest_int('max_delta_step', 0, 10),         \n",
    "#         'random_state': 0,\n",
    "#         'tree_method': 'hist',\n",
    "#         'device': 'cuda',\n",
    "#         'n_jobs': -1,\n",
    "#         'scale_pos_weight': class_weights_dict[1] \n",
    "#     }\n",
    "    \n",
    "#     # Split data into training and validation sets\n",
    "#     X_train, X_val, y_train, y_val = train_test_split(X, y, test_size=0.2, random_state=0)\n",
    "    \n",
    "#     # Train the model\n",
    "#     model = XGBClassifier(**param)\n",
    "#     model.fit(X_train, y_train)\n",
    "    \n",
    "#     # Predict probabilities\n",
    "#     y_pred = model.predict_proba(X_val)[:, 1]\n",
    "    \n",
    "#     # Evaluate the model\n",
    "#     auc = roc_auc_score(y_val, y_pred)\n",
    "    \n",
    "#     return auc\n",
    "\n",
    "# # Create the study and optimize\n",
    "# study = optuna.create_study(direction='maximize')\n",
    "# study.optimize(objective, n_trials=50)  # You can adjust the number of trials\n",
    "\n",
    "# # Retrieve the best hyperparameters\n",
    "# best_params = study.best_params\n",
    "# print(\"Best hyperparameters: \", best_params)\n",
    "\n",
    "# # Train the final model with the best hyperparameters\n",
    "# best_model = XGBClassifier(**best_params)\n",
    "# best_model.fit(X, y)"
   ]
  },
  {
   "cell_type": "code",
   "execution_count": 63,
   "id": "b39bae87",
   "metadata": {
    "execution": {
     "iopub.execute_input": "2024-07-25T10:18:35.789334Z",
     "iopub.status.busy": "2024-07-25T10:18:35.789065Z",
     "iopub.status.idle": "2024-07-25T10:18:35.793085Z",
     "shell.execute_reply": "2024-07-25T10:18:35.792322Z"
    },
    "papermill": {
     "duration": 0.026652,
     "end_time": "2024-07-25T10:18:35.795314",
     "exception": false,
     "start_time": "2024-07-25T10:18:35.768662",
     "status": "completed"
    },
    "tags": []
   },
   "outputs": [],
   "source": [
    "# dict1 = {\n",
    "#     \"a\":1,\n",
    "#     \"b\":2,\n",
    "#     \"c\":3,\n",
    "#     \"d\":4\n",
    "# }\n",
    "# dict2 = {}\n",
    "# list2 = [1,2,3,4]\n",
    "# for key, value in dict1.items():\n",
    "#     list1 = []\n",
    "#     for i in range(4):\n",
    "#         list1.append(list2[i])\n",
    "#     dict2[key] = list1\n",
    "    \n",
    "# print(dict2)"
   ]
  },
  {
   "cell_type": "code",
   "execution_count": 64,
   "id": "62cc7b85",
   "metadata": {
    "execution": {
     "iopub.execute_input": "2024-07-25T10:18:35.835424Z",
     "iopub.status.busy": "2024-07-25T10:18:35.835130Z",
     "iopub.status.idle": "2024-07-25T10:28:48.398995Z",
     "shell.execute_reply": "2024-07-25T10:28:48.398032Z"
    },
    "papermill": {
     "duration": 612.605954,
     "end_time": "2024-07-25T10:28:48.420876",
     "exception": false,
     "start_time": "2024-07-25T10:18:35.814922",
     "status": "completed"
    },
    "tags": []
   },
   "outputs": [
    {
     "data": {
      "text/html": [
       "<style>#sk-container-id-1 {color: black;background-color: white;}#sk-container-id-1 pre{padding: 0;}#sk-container-id-1 div.sk-toggleable {background-color: white;}#sk-container-id-1 label.sk-toggleable__label {cursor: pointer;display: block;width: 100%;margin-bottom: 0;padding: 0.3em;box-sizing: border-box;text-align: center;}#sk-container-id-1 label.sk-toggleable__label-arrow:before {content: \"▸\";float: left;margin-right: 0.25em;color: #696969;}#sk-container-id-1 label.sk-toggleable__label-arrow:hover:before {color: black;}#sk-container-id-1 div.sk-estimator:hover label.sk-toggleable__label-arrow:before {color: black;}#sk-container-id-1 div.sk-toggleable__content {max-height: 0;max-width: 0;overflow: hidden;text-align: left;background-color: #f0f8ff;}#sk-container-id-1 div.sk-toggleable__content pre {margin: 0.2em;color: black;border-radius: 0.25em;background-color: #f0f8ff;}#sk-container-id-1 input.sk-toggleable__control:checked~div.sk-toggleable__content {max-height: 200px;max-width: 100%;overflow: auto;}#sk-container-id-1 input.sk-toggleable__control:checked~label.sk-toggleable__label-arrow:before {content: \"▾\";}#sk-container-id-1 div.sk-estimator input.sk-toggleable__control:checked~label.sk-toggleable__label {background-color: #d4ebff;}#sk-container-id-1 div.sk-label input.sk-toggleable__control:checked~label.sk-toggleable__label {background-color: #d4ebff;}#sk-container-id-1 input.sk-hidden--visually {border: 0;clip: rect(1px 1px 1px 1px);clip: rect(1px, 1px, 1px, 1px);height: 1px;margin: -1px;overflow: hidden;padding: 0;position: absolute;width: 1px;}#sk-container-id-1 div.sk-estimator {font-family: monospace;background-color: #f0f8ff;border: 1px dotted black;border-radius: 0.25em;box-sizing: border-box;margin-bottom: 0.5em;}#sk-container-id-1 div.sk-estimator:hover {background-color: #d4ebff;}#sk-container-id-1 div.sk-parallel-item::after {content: \"\";width: 100%;border-bottom: 1px solid gray;flex-grow: 1;}#sk-container-id-1 div.sk-label:hover label.sk-toggleable__label {background-color: #d4ebff;}#sk-container-id-1 div.sk-serial::before {content: \"\";position: absolute;border-left: 1px solid gray;box-sizing: border-box;top: 0;bottom: 0;left: 50%;z-index: 0;}#sk-container-id-1 div.sk-serial {display: flex;flex-direction: column;align-items: center;background-color: white;padding-right: 0.2em;padding-left: 0.2em;position: relative;}#sk-container-id-1 div.sk-item {position: relative;z-index: 1;}#sk-container-id-1 div.sk-parallel {display: flex;align-items: stretch;justify-content: center;background-color: white;position: relative;}#sk-container-id-1 div.sk-item::before, #sk-container-id-1 div.sk-parallel-item::before {content: \"\";position: absolute;border-left: 1px solid gray;box-sizing: border-box;top: 0;bottom: 0;left: 50%;z-index: -1;}#sk-container-id-1 div.sk-parallel-item {display: flex;flex-direction: column;z-index: 1;position: relative;background-color: white;}#sk-container-id-1 div.sk-parallel-item:first-child::after {align-self: flex-end;width: 50%;}#sk-container-id-1 div.sk-parallel-item:last-child::after {align-self: flex-start;width: 50%;}#sk-container-id-1 div.sk-parallel-item:only-child::after {width: 0;}#sk-container-id-1 div.sk-dashed-wrapped {border: 1px dashed gray;margin: 0 0.4em 0.5em 0.4em;box-sizing: border-box;padding-bottom: 0.4em;background-color: white;}#sk-container-id-1 div.sk-label label {font-family: monospace;font-weight: bold;display: inline-block;line-height: 1.2em;}#sk-container-id-1 div.sk-label-container {text-align: center;}#sk-container-id-1 div.sk-container {/* jupyter's `normalize.less` sets `[hidden] { display: none; }` but bootstrap.min.css set `[hidden] { display: none !important; }` so we also need the `!important` here to be able to override the default hidden behavior on the sphinx rendered scikit-learn.org. See: https://github.com/scikit-learn/scikit-learn/issues/21755 */display: inline-block !important;position: relative;}#sk-container-id-1 div.sk-text-repr-fallback {display: none;}</style><div id=\"sk-container-id-1\" class=\"sk-top-container\"><div class=\"sk-text-repr-fallback\"><pre>XGBClassifier(base_score=None, booster=&#x27;gbtree&#x27;, callbacks=None,\n",
       "              colsample_bylevel=None, colsample_bynode=None,\n",
       "              colsample_bytree=0.7110267255919047, device=&#x27;cuda&#x27;,\n",
       "              early_stopping_rounds=None, enable_categorical=False,\n",
       "              eval_metric=&#x27;auc&#x27;, feature_types=None, gamma=None,\n",
       "              grow_policy=None, importance_type=None,\n",
       "              interaction_constraints=None, learning_rate=0.31581996209523133,\n",
       "              max_bin=59883, max_cat_threshold=None, max_cat_to_onehot=None,\n",
       "              max_delta_step=10, max_depth=None, max_leaves=None,\n",
       "              min_child_weight=11, missing=nan, monotone_constraints=None,\n",
       "              multi_strategy=None, n_estimators=1924, n_jobs=-1,\n",
       "              num_parallel_tree=None, random_state=0, ...)</pre><b>In a Jupyter environment, please rerun this cell to show the HTML representation or trust the notebook. <br />On GitHub, the HTML representation is unable to render, please try loading this page with nbviewer.org.</b></div><div class=\"sk-container\" hidden><div class=\"sk-item\"><div class=\"sk-estimator sk-toggleable\"><input class=\"sk-toggleable__control sk-hidden--visually\" id=\"sk-estimator-id-1\" type=\"checkbox\" checked><label for=\"sk-estimator-id-1\" class=\"sk-toggleable__label sk-toggleable__label-arrow\">XGBClassifier</label><div class=\"sk-toggleable__content\"><pre>XGBClassifier(base_score=None, booster=&#x27;gbtree&#x27;, callbacks=None,\n",
       "              colsample_bylevel=None, colsample_bynode=None,\n",
       "              colsample_bytree=0.7110267255919047, device=&#x27;cuda&#x27;,\n",
       "              early_stopping_rounds=None, enable_categorical=False,\n",
       "              eval_metric=&#x27;auc&#x27;, feature_types=None, gamma=None,\n",
       "              grow_policy=None, importance_type=None,\n",
       "              interaction_constraints=None, learning_rate=0.31581996209523133,\n",
       "              max_bin=59883, max_cat_threshold=None, max_cat_to_onehot=None,\n",
       "              max_delta_step=10, max_depth=None, max_leaves=None,\n",
       "              min_child_weight=11, missing=nan, monotone_constraints=None,\n",
       "              multi_strategy=None, n_estimators=1924, n_jobs=-1,\n",
       "              num_parallel_tree=None, random_state=0, ...)</pre></div></div></div></div></div>"
      ],
      "text/plain": [
       "XGBClassifier(base_score=None, booster='gbtree', callbacks=None,\n",
       "              colsample_bylevel=None, colsample_bynode=None,\n",
       "              colsample_bytree=0.7110267255919047, device='cuda',\n",
       "              early_stopping_rounds=None, enable_categorical=False,\n",
       "              eval_metric='auc', feature_types=None, gamma=None,\n",
       "              grow_policy=None, importance_type=None,\n",
       "              interaction_constraints=None, learning_rate=0.31581996209523133,\n",
       "              max_bin=59883, max_cat_threshold=None, max_cat_to_onehot=None,\n",
       "              max_delta_step=10, max_depth=None, max_leaves=None,\n",
       "              min_child_weight=11, missing=nan, monotone_constraints=None,\n",
       "              multi_strategy=None, n_estimators=1924, n_jobs=-1,\n",
       "              num_parallel_tree=None, random_state=0, ...)"
      ]
     },
     "execution_count": 64,
     "metadata": {},
     "output_type": "execute_result"
    }
   ],
   "source": [
    "best_model = XGBClassifier(\n",
    "    objective='binary:logistic',\n",
    "    eval_metric='auc',\n",
    "    booster='gbtree',\n",
    "    colsample_bytree=0.7110267255919047,\n",
    "    learning_rate=0.31581996209523133,\n",
    "    max_bin=59883,\n",
    "    max_delta_step=10,\n",
    "    min_child_weight=11,\n",
    "    missing=np.nan,\n",
    "    n_estimators=1924,\n",
    "    random_state=0,\n",
    "    tree_method='hist',\n",
    "    device='cuda',\n",
    "    n_jobs=-1,\n",
    "    scale_pos_weight=class_weights_dict[1]\n",
    ")\n",
    "\n",
    "best_model.fit(X, y)"
   ]
  },
  {
   "cell_type": "code",
   "execution_count": 65,
   "id": "e065841f",
   "metadata": {
    "execution": {
     "iopub.execute_input": "2024-07-25T10:28:48.461861Z",
     "iopub.status.busy": "2024-07-25T10:28:48.461485Z",
     "iopub.status.idle": "2024-07-25T10:28:57.983304Z",
     "shell.execute_reply": "2024-07-25T10:28:57.982509Z"
    },
    "papermill": {
     "duration": 9.544441,
     "end_time": "2024-07-25T10:28:57.985582",
     "exception": false,
     "start_time": "2024-07-25T10:28:48.441141",
     "status": "completed"
    },
    "tags": []
   },
   "outputs": [],
   "source": [
    "new_test = pd.read_csv(\"/kaggle/input/playground-series-s4e7/test.csv\")\n",
    "idx = new_test[\"id\"]"
   ]
  },
  {
   "cell_type": "code",
   "execution_count": 66,
   "id": "607b3d9d",
   "metadata": {
    "execution": {
     "iopub.execute_input": "2024-07-25T10:28:58.028026Z",
     "iopub.status.busy": "2024-07-25T10:28:58.027329Z",
     "iopub.status.idle": "2024-07-25T10:28:58.031322Z",
     "shell.execute_reply": "2024-07-25T10:28:58.030495Z"
    },
    "papermill": {
     "duration": 0.026834,
     "end_time": "2024-07-25T10:28:58.033241",
     "exception": false,
     "start_time": "2024-07-25T10:28:58.006407",
     "status": "completed"
    },
    "tags": []
   },
   "outputs": [],
   "source": [
    "# lgbm_preds"
   ]
  },
  {
   "cell_type": "code",
   "execution_count": 67,
   "id": "2fc0905a",
   "metadata": {
    "execution": {
     "iopub.execute_input": "2024-07-25T10:28:58.074948Z",
     "iopub.status.busy": "2024-07-25T10:28:58.074636Z",
     "iopub.status.idle": "2024-07-25T10:28:58.078658Z",
     "shell.execute_reply": "2024-07-25T10:28:58.077733Z"
    },
    "papermill": {
     "duration": 0.026572,
     "end_time": "2024-07-25T10:28:58.080605",
     "exception": false,
     "start_time": "2024-07-25T10:28:58.054033",
     "status": "completed"
    },
    "tags": []
   },
   "outputs": [],
   "source": [
    "# xgb = XGBClassifier(tree_method='gpu_hist', n_jobs=-1)\n",
    "# xgb.fit(X_ros, y_ros)"
   ]
  },
  {
   "cell_type": "code",
   "execution_count": 68,
   "id": "300d6b7e",
   "metadata": {
    "execution": {
     "iopub.execute_input": "2024-07-25T10:28:58.121329Z",
     "iopub.status.busy": "2024-07-25T10:28:58.121036Z",
     "iopub.status.idle": "2024-07-25T10:29:03.250657Z",
     "shell.execute_reply": "2024-07-25T10:29:03.249876Z"
    },
    "papermill": {
     "duration": 5.152468,
     "end_time": "2024-07-25T10:29:03.252996",
     "exception": false,
     "start_time": "2024-07-25T10:28:58.100528",
     "status": "completed"
    },
    "tags": []
   },
   "outputs": [
    {
     "name": "stderr",
     "output_type": "stream",
     "text": [
      "/opt/conda/lib/python3.10/site-packages/xgboost/core.py:160: UserWarning: [10:28:58] WARNING: /workspace/src/common/error_msg.cc:58: Falling back to prediction using DMatrix due to mismatched devices. This might lead to higher memory usage and slower performance. XGBoost is running on: cuda:0, while the input data is on: cpu.\n",
      "Potential solutions:\n",
      "- Use a data structure that matches the device ordinal in the booster.\n",
      "- Set the device for booster before call to inplace_predict.\n",
      "\n",
      "This warning will only be shown once.\n",
      "\n",
      "  warnings.warn(smsg, UserWarning)\n"
     ]
    }
   ],
   "source": [
    "xgb_preds = best_model.predict_proba(test)[:,1]"
   ]
  },
  {
   "cell_type": "code",
   "execution_count": 69,
   "id": "85d7a65c",
   "metadata": {
    "execution": {
     "iopub.execute_input": "2024-07-25T10:29:03.296002Z",
     "iopub.status.busy": "2024-07-25T10:29:03.295662Z",
     "iopub.status.idle": "2024-07-25T10:29:20.536055Z",
     "shell.execute_reply": "2024-07-25T10:29:20.535039Z"
    },
    "papermill": {
     "duration": 17.264127,
     "end_time": "2024-07-25T10:29:20.538342",
     "exception": false,
     "start_time": "2024-07-25T10:29:03.274215",
     "status": "completed"
    },
    "tags": []
   },
   "outputs": [],
   "source": [
    "result = pd.DataFrame({\n",
    "    \"id\":idx,\n",
    "    \"Response\":xgb_preds\n",
    "})\n",
    "result.to_csv(\"submission.csv\", index=False)"
   ]
  },
  {
   "cell_type": "code",
   "execution_count": 70,
   "id": "6b75a474",
   "metadata": {
    "execution": {
     "iopub.execute_input": "2024-07-25T10:29:20.590147Z",
     "iopub.status.busy": "2024-07-25T10:29:20.589528Z",
     "iopub.status.idle": "2024-07-25T10:29:20.594752Z",
     "shell.execute_reply": "2024-07-25T10:29:20.593504Z"
    },
    "papermill": {
     "duration": 0.037864,
     "end_time": "2024-07-25T10:29:20.597436",
     "exception": false,
     "start_time": "2024-07-25T10:29:20.559572",
     "status": "completed"
    },
    "tags": []
   },
   "outputs": [],
   "source": [
    "# roc_score = roc_auc_score(y_valid, lgbm_preds)\n",
    "# print(roc_score)"
   ]
  },
  {
   "cell_type": "code",
   "execution_count": 71,
   "id": "6d5a1e54",
   "metadata": {
    "execution": {
     "iopub.execute_input": "2024-07-25T10:29:20.640011Z",
     "iopub.status.busy": "2024-07-25T10:29:20.639396Z",
     "iopub.status.idle": "2024-07-25T10:29:20.643408Z",
     "shell.execute_reply": "2024-07-25T10:29:20.642560Z"
    },
    "papermill": {
     "duration": 0.026632,
     "end_time": "2024-07-25T10:29:20.645319",
     "exception": false,
     "start_time": "2024-07-25T10:29:20.618687",
     "status": "completed"
    },
    "tags": []
   },
   "outputs": [],
   "source": [
    "# hgbc = HistaGradientBoostingClassifier(n_jobs=-1)\n",
    "# hgbc.fit(X, y)"
   ]
  }
 ],
 "metadata": {
  "kaggle": {
   "accelerator": "none",
   "dataSources": [
    {
     "databundleVersionId": 8930475,
     "sourceId": 73291,
     "sourceType": "competition"
    }
   ],
   "isGpuEnabled": false,
   "isInternetEnabled": true,
   "language": "python",
   "sourceType": "notebook"
  },
  "kernelspec": {
   "display_name": "Python 3",
   "language": "python",
   "name": "python3"
  },
  "language_info": {
   "codemirror_mode": {
    "name": "ipython",
    "version": 3
   },
   "file_extension": ".py",
   "mimetype": "text/x-python",
   "name": "python",
   "nbconvert_exporter": "python",
   "pygments_lexer": "ipython3",
   "version": "3.10.13"
  },
  "papermill": {
   "default_parameters": {},
   "duration": 719.52551,
   "end_time": "2024-07-25T10:29:23.171174",
   "environment_variables": {},
   "exception": null,
   "input_path": "__notebook__.ipynb",
   "output_path": "__notebook__.ipynb",
   "parameters": {},
   "start_time": "2024-07-25T10:17:23.645664",
   "version": "2.5.0"
  }
 },
 "nbformat": 4,
 "nbformat_minor": 5
}
