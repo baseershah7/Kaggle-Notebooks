{
 "cells": [
  {
   "cell_type": "code",
   "execution_count": 1,
   "id": "4e225d5a",
   "metadata": {
    "_cell_guid": "b1076dfc-b9ad-4769-8c92-a6c4dae69d19",
    "_uuid": "8f2839f25d086af736a60e9eeb907d3b93b6e0e5",
    "execution": {
     "iopub.execute_input": "2024-07-25T10:32:05.296218Z",
     "iopub.status.busy": "2024-07-25T10:32:05.295936Z",
     "iopub.status.idle": "2024-07-25T10:32:22.598432Z",
     "shell.execute_reply": "2024-07-25T10:32:22.597147Z"
    },
    "papermill": {
     "duration": 17.324047,
     "end_time": "2024-07-25T10:32:22.600565",
     "exception": false,
     "start_time": "2024-07-25T10:32:05.276518",
     "status": "completed"
    },
    "tags": []
   },
   "outputs": [
    {
     "name": "stderr",
     "output_type": "stream",
     "text": [
      "2024-07-25 10:32:07.910895: E external/local_xla/xla/stream_executor/cuda/cuda_dnn.cc:9261] Unable to register cuDNN factory: Attempting to register factory for plugin cuDNN when one has already been registered\n",
      "2024-07-25 10:32:07.911044: E external/local_xla/xla/stream_executor/cuda/cuda_fft.cc:607] Unable to register cuFFT factory: Attempting to register factory for plugin cuFFT when one has already been registered\n",
      "2024-07-25 10:32:08.054494: E external/local_xla/xla/stream_executor/cuda/cuda_blas.cc:1515] Unable to register cuBLAS factory: Attempting to register factory for plugin cuBLAS when one has already been registered\n"
     ]
    },
    {
     "name": "stdout",
     "output_type": "stream",
     "text": [
      "/kaggle/input/playground-series-s4e7/sample_submission.csv\n",
      "/kaggle/input/playground-series-s4e7/train.csv\n",
      "/kaggle/input/playground-series-s4e7/test.csv\n"
     ]
    }
   ],
   "source": [
    "# This Python 3 environment comes with many helpful analytics libraries installed\n",
    "# It is defined by the kaggle/python Docker image: https://github.com/kaggle/docker-python\n",
    "# For example, here's several helpful packages to load\n",
    "# import cudf\n",
    "# %load_ext cudf.pandas\n",
    "import numpy as np # linear algebra\n",
    "import pandas as pd # data processing, CSV file I/O (e.g. pd.read_csv)\n",
    "import tensorflow as tf\n",
    "import optuna\n",
    "import tensorflow.keras as keras\n",
    "from tensorflow.keras.models import Sequential\n",
    "from tensorflow.keras.layers import Dense, Normalization, Dropout\n",
    "from tensorflow.keras import layers\n",
    "from tensorflow.keras.optimizers import Adam\n",
    "from tensorflow.keras.callbacks import EarlyStopping\n",
    "from sklearn.utils.class_weight import compute_class_weight\n",
    "from sklearn.ensemble import HistGradientBoostingClassifier\n",
    "from sklearn.preprocessing import OrdinalEncoder, StandardScaler, RobustScaler, MinMaxScaler\n",
    "from sklearn.metrics import roc_auc_score, log_loss\n",
    "from sklearn.ensemble import RandomForestClassifier, AdaBoostClassifier, GradientBoostingClassifier, HistGradientBoostingClassifier, ExtraTreesClassifier\n",
    "from lightgbm import LGBMClassifier\n",
    "from catboost import CatBoostClassifier\n",
    "from xgboost import XGBClassifier\n",
    "from imblearn.over_sampling import RandomOverSampler, SMOTE\n",
    "from imblearn.under_sampling import RandomUnderSampler, NearMiss\n",
    "from sklearn.model_selection import train_test_split, KFold\n",
    "# Input data files are available in the read-only \"../input/\" directory\n",
    "# For example, running this (by clicking run or pressing Shift+Enter) will list all files under the input directory\n",
    "\n",
    "import os\n",
    "for dirname, _, filenames in os.walk('/kaggle/input'):\n",
    "    for filename in filenames:\n",
    "        print(os.path.join(dirname, filename))\n",
    "\n",
    "# You can write up to 20GB to the current directory (/kaggle/working/) that gets preserved as output when you create a version using \"Save & Run All\" \n",
    "# You can also write temporary files to /kaggle/temp/, but they won't be saved outside of the current session"
   ]
  },
  {
   "cell_type": "code",
   "execution_count": 2,
   "id": "e974272b",
   "metadata": {
    "execution": {
     "iopub.execute_input": "2024-07-25T10:32:22.639608Z",
     "iopub.status.busy": "2024-07-25T10:32:22.638901Z",
     "iopub.status.idle": "2024-07-25T10:32:57.878109Z",
     "shell.execute_reply": "2024-07-25T10:32:57.877140Z"
    },
    "papermill": {
     "duration": 35.279195,
     "end_time": "2024-07-25T10:32:57.898045",
     "exception": false,
     "start_time": "2024-07-25T10:32:22.618850",
     "status": "completed"
    },
    "tags": []
   },
   "outputs": [
    {
     "name": "stdout",
     "output_type": "stream",
     "text": [
      "train loading time is:  20.03750967979431\n",
      "test loading time is:  15.195441722869873\n"
     ]
    }
   ],
   "source": [
    "import time\n",
    "start_time = time.time()\n",
    "train = pd.read_csv(\"/kaggle/input/playground-series-s4e7/train.csv\", index_col=[0])\n",
    "time_now = time.time() - start_time\n",
    "print(\"train loading time is: \",time_now)\n",
    "start_time = time.time()\n",
    "test = pd.read_csv(\"/kaggle/input/playground-series-s4e7/test.csv\", index_col=[0])\n",
    "time_now = time.time() - start_time\n",
    "print(\"test loading time is: \",time_now)"
   ]
  },
  {
   "cell_type": "code",
   "execution_count": 3,
   "id": "f9b2c3f6",
   "metadata": {
    "execution": {
     "iopub.execute_input": "2024-07-25T10:32:57.935269Z",
     "iopub.status.busy": "2024-07-25T10:32:57.934952Z",
     "iopub.status.idle": "2024-07-25T10:32:58.482601Z",
     "shell.execute_reply": "2024-07-25T10:32:58.481519Z"
    },
    "papermill": {
     "duration": 0.568938,
     "end_time": "2024-07-25T10:32:58.485001",
     "exception": false,
     "start_time": "2024-07-25T10:32:57.916063",
     "status": "completed"
    },
    "tags": []
   },
   "outputs": [],
   "source": [
    "X = train.copy()\n",
    "y = X.pop(\"Response\")"
   ]
  },
  {
   "cell_type": "code",
   "execution_count": 4,
   "id": "8f010eb6",
   "metadata": {
    "execution": {
     "iopub.execute_input": "2024-07-25T10:32:58.523124Z",
     "iopub.status.busy": "2024-07-25T10:32:58.522308Z",
     "iopub.status.idle": "2024-07-25T10:32:58.526368Z",
     "shell.execute_reply": "2024-07-25T10:32:58.525484Z"
    },
    "papermill": {
     "duration": 0.024866,
     "end_time": "2024-07-25T10:32:58.528336",
     "exception": false,
     "start_time": "2024-07-25T10:32:58.503470",
     "status": "completed"
    },
    "tags": []
   },
   "outputs": [],
   "source": [
    "# train.loc[X['Driving_License'] == 0]"
   ]
  },
  {
   "cell_type": "code",
   "execution_count": 5,
   "id": "8b89009e",
   "metadata": {
    "execution": {
     "iopub.execute_input": "2024-07-25T10:32:58.565616Z",
     "iopub.status.busy": "2024-07-25T10:32:58.565364Z",
     "iopub.status.idle": "2024-07-25T10:32:58.591289Z",
     "shell.execute_reply": "2024-07-25T10:32:58.590433Z"
    },
    "papermill": {
     "duration": 0.046883,
     "end_time": "2024-07-25T10:32:58.593263",
     "exception": false,
     "start_time": "2024-07-25T10:32:58.546380",
     "status": "completed"
    },
    "tags": []
   },
   "outputs": [
    {
     "data": {
      "text/html": [
       "<div>\n",
       "<style scoped>\n",
       "    .dataframe tbody tr th:only-of-type {\n",
       "        vertical-align: middle;\n",
       "    }\n",
       "\n",
       "    .dataframe tbody tr th {\n",
       "        vertical-align: top;\n",
       "    }\n",
       "\n",
       "    .dataframe thead th {\n",
       "        text-align: right;\n",
       "    }\n",
       "</style>\n",
       "<table border=\"1\" class=\"dataframe\">\n",
       "  <thead>\n",
       "    <tr style=\"text-align: right;\">\n",
       "      <th></th>\n",
       "      <th>Gender</th>\n",
       "      <th>Age</th>\n",
       "      <th>Driving_License</th>\n",
       "      <th>Region_Code</th>\n",
       "      <th>Previously_Insured</th>\n",
       "      <th>Vehicle_Age</th>\n",
       "      <th>Vehicle_Damage</th>\n",
       "      <th>Annual_Premium</th>\n",
       "      <th>Policy_Sales_Channel</th>\n",
       "      <th>Vintage</th>\n",
       "    </tr>\n",
       "    <tr>\n",
       "      <th>id</th>\n",
       "      <th></th>\n",
       "      <th></th>\n",
       "      <th></th>\n",
       "      <th></th>\n",
       "      <th></th>\n",
       "      <th></th>\n",
       "      <th></th>\n",
       "      <th></th>\n",
       "      <th></th>\n",
       "      <th></th>\n",
       "    </tr>\n",
       "  </thead>\n",
       "  <tbody>\n",
       "    <tr>\n",
       "      <th>0</th>\n",
       "      <td>Male</td>\n",
       "      <td>21</td>\n",
       "      <td>1</td>\n",
       "      <td>35.0</td>\n",
       "      <td>0</td>\n",
       "      <td>1-2 Year</td>\n",
       "      <td>Yes</td>\n",
       "      <td>65101.0</td>\n",
       "      <td>124.0</td>\n",
       "      <td>187</td>\n",
       "    </tr>\n",
       "    <tr>\n",
       "      <th>1</th>\n",
       "      <td>Male</td>\n",
       "      <td>43</td>\n",
       "      <td>1</td>\n",
       "      <td>28.0</td>\n",
       "      <td>0</td>\n",
       "      <td>&gt; 2 Years</td>\n",
       "      <td>Yes</td>\n",
       "      <td>58911.0</td>\n",
       "      <td>26.0</td>\n",
       "      <td>288</td>\n",
       "    </tr>\n",
       "    <tr>\n",
       "      <th>2</th>\n",
       "      <td>Female</td>\n",
       "      <td>25</td>\n",
       "      <td>1</td>\n",
       "      <td>14.0</td>\n",
       "      <td>1</td>\n",
       "      <td>&lt; 1 Year</td>\n",
       "      <td>No</td>\n",
       "      <td>38043.0</td>\n",
       "      <td>152.0</td>\n",
       "      <td>254</td>\n",
       "    </tr>\n",
       "    <tr>\n",
       "      <th>3</th>\n",
       "      <td>Female</td>\n",
       "      <td>35</td>\n",
       "      <td>1</td>\n",
       "      <td>1.0</td>\n",
       "      <td>0</td>\n",
       "      <td>1-2 Year</td>\n",
       "      <td>Yes</td>\n",
       "      <td>2630.0</td>\n",
       "      <td>156.0</td>\n",
       "      <td>76</td>\n",
       "    </tr>\n",
       "    <tr>\n",
       "      <th>4</th>\n",
       "      <td>Female</td>\n",
       "      <td>36</td>\n",
       "      <td>1</td>\n",
       "      <td>15.0</td>\n",
       "      <td>1</td>\n",
       "      <td>1-2 Year</td>\n",
       "      <td>No</td>\n",
       "      <td>31951.0</td>\n",
       "      <td>152.0</td>\n",
       "      <td>294</td>\n",
       "    </tr>\n",
       "    <tr>\n",
       "      <th>...</th>\n",
       "      <td>...</td>\n",
       "      <td>...</td>\n",
       "      <td>...</td>\n",
       "      <td>...</td>\n",
       "      <td>...</td>\n",
       "      <td>...</td>\n",
       "      <td>...</td>\n",
       "      <td>...</td>\n",
       "      <td>...</td>\n",
       "      <td>...</td>\n",
       "    </tr>\n",
       "    <tr>\n",
       "      <th>11504793</th>\n",
       "      <td>Male</td>\n",
       "      <td>48</td>\n",
       "      <td>1</td>\n",
       "      <td>6.0</td>\n",
       "      <td>0</td>\n",
       "      <td>1-2 Year</td>\n",
       "      <td>Yes</td>\n",
       "      <td>27412.0</td>\n",
       "      <td>26.0</td>\n",
       "      <td>218</td>\n",
       "    </tr>\n",
       "    <tr>\n",
       "      <th>11504794</th>\n",
       "      <td>Female</td>\n",
       "      <td>26</td>\n",
       "      <td>1</td>\n",
       "      <td>36.0</td>\n",
       "      <td>0</td>\n",
       "      <td>&lt; 1 Year</td>\n",
       "      <td>Yes</td>\n",
       "      <td>29509.0</td>\n",
       "      <td>152.0</td>\n",
       "      <td>115</td>\n",
       "    </tr>\n",
       "    <tr>\n",
       "      <th>11504795</th>\n",
       "      <td>Female</td>\n",
       "      <td>29</td>\n",
       "      <td>1</td>\n",
       "      <td>32.0</td>\n",
       "      <td>1</td>\n",
       "      <td>&lt; 1 Year</td>\n",
       "      <td>No</td>\n",
       "      <td>2630.0</td>\n",
       "      <td>152.0</td>\n",
       "      <td>189</td>\n",
       "    </tr>\n",
       "    <tr>\n",
       "      <th>11504796</th>\n",
       "      <td>Female</td>\n",
       "      <td>51</td>\n",
       "      <td>1</td>\n",
       "      <td>28.0</td>\n",
       "      <td>0</td>\n",
       "      <td>1-2 Year</td>\n",
       "      <td>Yes</td>\n",
       "      <td>48443.0</td>\n",
       "      <td>26.0</td>\n",
       "      <td>274</td>\n",
       "    </tr>\n",
       "    <tr>\n",
       "      <th>11504797</th>\n",
       "      <td>Male</td>\n",
       "      <td>25</td>\n",
       "      <td>1</td>\n",
       "      <td>28.0</td>\n",
       "      <td>1</td>\n",
       "      <td>&lt; 1 Year</td>\n",
       "      <td>No</td>\n",
       "      <td>32855.0</td>\n",
       "      <td>152.0</td>\n",
       "      <td>189</td>\n",
       "    </tr>\n",
       "  </tbody>\n",
       "</table>\n",
       "<p>11504798 rows × 10 columns</p>\n",
       "</div>"
      ],
      "text/plain": [
       "          Gender  Age  Driving_License  Region_Code  Previously_Insured  \\\n",
       "id                                                                        \n",
       "0           Male   21                1         35.0                   0   \n",
       "1           Male   43                1         28.0                   0   \n",
       "2         Female   25                1         14.0                   1   \n",
       "3         Female   35                1          1.0                   0   \n",
       "4         Female   36                1         15.0                   1   \n",
       "...          ...  ...              ...          ...                 ...   \n",
       "11504793    Male   48                1          6.0                   0   \n",
       "11504794  Female   26                1         36.0                   0   \n",
       "11504795  Female   29                1         32.0                   1   \n",
       "11504796  Female   51                1         28.0                   0   \n",
       "11504797    Male   25                1         28.0                   1   \n",
       "\n",
       "         Vehicle_Age Vehicle_Damage  Annual_Premium  Policy_Sales_Channel  \\\n",
       "id                                                                          \n",
       "0           1-2 Year            Yes         65101.0                 124.0   \n",
       "1          > 2 Years            Yes         58911.0                  26.0   \n",
       "2           < 1 Year             No         38043.0                 152.0   \n",
       "3           1-2 Year            Yes          2630.0                 156.0   \n",
       "4           1-2 Year             No         31951.0                 152.0   \n",
       "...              ...            ...             ...                   ...   \n",
       "11504793    1-2 Year            Yes         27412.0                  26.0   \n",
       "11504794    < 1 Year            Yes         29509.0                 152.0   \n",
       "11504795    < 1 Year             No          2630.0                 152.0   \n",
       "11504796    1-2 Year            Yes         48443.0                  26.0   \n",
       "11504797    < 1 Year             No         32855.0                 152.0   \n",
       "\n",
       "          Vintage  \n",
       "id                 \n",
       "0             187  \n",
       "1             288  \n",
       "2             254  \n",
       "3              76  \n",
       "4             294  \n",
       "...           ...  \n",
       "11504793      218  \n",
       "11504794      115  \n",
       "11504795      189  \n",
       "11504796      274  \n",
       "11504797      189  \n",
       "\n",
       "[11504798 rows x 10 columns]"
      ]
     },
     "execution_count": 5,
     "metadata": {},
     "output_type": "execute_result"
    }
   ],
   "source": [
    "X"
   ]
  },
  {
   "cell_type": "code",
   "execution_count": 6,
   "id": "c07a1904",
   "metadata": {
    "execution": {
     "iopub.execute_input": "2024-07-25T10:32:58.631469Z",
     "iopub.status.busy": "2024-07-25T10:32:58.631225Z",
     "iopub.status.idle": "2024-07-25T10:33:01.848837Z",
     "shell.execute_reply": "2024-07-25T10:33:01.847967Z"
    },
    "papermill": {
     "duration": 3.238824,
     "end_time": "2024-07-25T10:33:01.850930",
     "exception": false,
     "start_time": "2024-07-25T10:32:58.612106",
     "status": "completed"
    },
    "tags": []
   },
   "outputs": [
    {
     "data": {
      "text/plain": [
       "Gender                      2\n",
       "Age                        66\n",
       "Driving_License             2\n",
       "Region_Code                54\n",
       "Previously_Insured          2\n",
       "Vehicle_Age                 3\n",
       "Vehicle_Damage              2\n",
       "Annual_Premium          51728\n",
       "Policy_Sales_Channel      152\n",
       "Vintage                   290\n",
       "dtype: int64"
      ]
     },
     "execution_count": 6,
     "metadata": {},
     "output_type": "execute_result"
    }
   ],
   "source": [
    "X.nunique()"
   ]
  },
  {
   "cell_type": "code",
   "execution_count": 7,
   "id": "8d664cc6",
   "metadata": {
    "execution": {
     "iopub.execute_input": "2024-07-25T10:33:01.889855Z",
     "iopub.status.busy": "2024-07-25T10:33:01.889536Z",
     "iopub.status.idle": "2024-07-25T10:33:01.893181Z",
     "shell.execute_reply": "2024-07-25T10:33:01.892366Z"
    },
    "papermill": {
     "duration": 0.024946,
     "end_time": "2024-07-25T10:33:01.895027",
     "exception": false,
     "start_time": "2024-07-25T10:33:01.870081",
     "status": "completed"
    },
    "tags": []
   },
   "outputs": [],
   "source": [
    "# cat_features = [\"Gender\", \"Vehicle_Age\", \"Vehicle_Damage\"]\n",
    "# X[cat_features] = X[cat_features].astype('category')\n",
    "# test[cat_features] = test[cat_features].astype('category')"
   ]
  },
  {
   "cell_type": "code",
   "execution_count": 8,
   "id": "bd798e22",
   "metadata": {
    "execution": {
     "iopub.execute_input": "2024-07-25T10:33:01.933076Z",
     "iopub.status.busy": "2024-07-25T10:33:01.932801Z",
     "iopub.status.idle": "2024-07-25T10:33:01.936276Z",
     "shell.execute_reply": "2024-07-25T10:33:01.935523Z"
    },
    "papermill": {
     "duration": 0.024621,
     "end_time": "2024-07-25T10:33:01.938148",
     "exception": false,
     "start_time": "2024-07-25T10:33:01.913527",
     "status": "completed"
    },
    "tags": []
   },
   "outputs": [],
   "source": [
    "# low_cardinality_features = [\"Gender\", \"Driving_License\", \"Previously_Insured\", \"Vehicle_Age\", \"Vehicle_Damage\"]\n",
    "# X_one_hot = pd.get_dummies(X[low_cardinality_features])\n",
    "# test_one_hot = pd.get_dummies(test[low_cardinality_features])"
   ]
  },
  {
   "cell_type": "code",
   "execution_count": 9,
   "id": "2932c33f",
   "metadata": {
    "execution": {
     "iopub.execute_input": "2024-07-25T10:33:01.977311Z",
     "iopub.status.busy": "2024-07-25T10:33:01.977072Z",
     "iopub.status.idle": "2024-07-25T10:33:01.980612Z",
     "shell.execute_reply": "2024-07-25T10:33:01.979749Z"
    },
    "papermill": {
     "duration": 0.025876,
     "end_time": "2024-07-25T10:33:01.982632",
     "exception": false,
     "start_time": "2024-07-25T10:33:01.956756",
     "status": "completed"
    },
    "tags": []
   },
   "outputs": [],
   "source": [
    "# high_cardinality_features = [\"Region_Code\", \"Annual_Premium\", \"Policy_Sales_Channel\", \"Vintage\"]"
   ]
  },
  {
   "cell_type": "code",
   "execution_count": 10,
   "id": "dcc38bfb",
   "metadata": {
    "execution": {
     "iopub.execute_input": "2024-07-25T10:33:02.021091Z",
     "iopub.status.busy": "2024-07-25T10:33:02.020340Z",
     "iopub.status.idle": "2024-07-25T10:33:02.024129Z",
     "shell.execute_reply": "2024-07-25T10:33:02.023421Z"
    },
    "papermill": {
     "duration": 0.02479,
     "end_time": "2024-07-25T10:33:02.025900",
     "exception": false,
     "start_time": "2024-07-25T10:33:02.001110",
     "status": "completed"
    },
    "tags": []
   },
   "outputs": [],
   "source": [
    "# X_high_cardinality = X[high_cardinality_features]\n",
    "# test_high_cardinality = test[high_cardinality_features]\n",
    "# X_high_cardinality"
   ]
  },
  {
   "cell_type": "code",
   "execution_count": 11,
   "id": "989d11c9",
   "metadata": {
    "execution": {
     "iopub.execute_input": "2024-07-25T10:33:02.064336Z",
     "iopub.status.busy": "2024-07-25T10:33:02.064099Z",
     "iopub.status.idle": "2024-07-25T10:33:02.067709Z",
     "shell.execute_reply": "2024-07-25T10:33:02.066927Z"
    },
    "papermill": {
     "duration": 0.025185,
     "end_time": "2024-07-25T10:33:02.069593",
     "exception": false,
     "start_time": "2024-07-25T10:33:02.044408",
     "status": "completed"
    },
    "tags": []
   },
   "outputs": [],
   "source": [
    "# X_new = pd.concat([X_one_hot,X_high_cardinality],axis=1)\n",
    "# test_new = pd.concat([test_one_hot,test_high_cardinality],axis=1)"
   ]
  },
  {
   "cell_type": "code",
   "execution_count": 12,
   "id": "e095ad00",
   "metadata": {
    "execution": {
     "iopub.execute_input": "2024-07-25T10:33:02.108590Z",
     "iopub.status.busy": "2024-07-25T10:33:02.108346Z",
     "iopub.status.idle": "2024-07-25T10:33:02.111823Z",
     "shell.execute_reply": "2024-07-25T10:33:02.111018Z"
    },
    "papermill": {
     "duration": 0.025028,
     "end_time": "2024-07-25T10:33:02.113708",
     "exception": false,
     "start_time": "2024-07-25T10:33:02.088680",
     "status": "completed"
    },
    "tags": []
   },
   "outputs": [],
   "source": [
    "# X_new"
   ]
  },
  {
   "cell_type": "code",
   "execution_count": 13,
   "id": "d25ecd24",
   "metadata": {
    "execution": {
     "iopub.execute_input": "2024-07-25T10:33:02.151658Z",
     "iopub.status.busy": "2024-07-25T10:33:02.151421Z",
     "iopub.status.idle": "2024-07-25T10:33:02.154937Z",
     "shell.execute_reply": "2024-07-25T10:33:02.154138Z"
    },
    "papermill": {
     "duration": 0.024706,
     "end_time": "2024-07-25T10:33:02.156948",
     "exception": false,
     "start_time": "2024-07-25T10:33:02.132242",
     "status": "completed"
    },
    "tags": []
   },
   "outputs": [],
   "source": [
    "# X_new.rename(columns={'Vehicle_Age_1-2 Year':'Vehicle_Age_betweeen_1and2Year','Vehicle_Age_< 1 Year':'Vehicle_Age_less_than_1Year','Vehicle_Age_> 2 Years':'Vehicle_Age_greater_than_2Year'}, inplace=True)\n",
    "# test_new.rename(columns={'Vehicle_Age_1-2 Year':'Vehicle_Age_betweeen_1and2Year','Vehicle_Age_< 1 Year':'Vehicle_Age_less_than_1Year','Vehicle_Age_> 2 Years':'Vehicle_Age_greater_than_2Year'}, inplace=True)"
   ]
  },
  {
   "cell_type": "code",
   "execution_count": 14,
   "id": "4efceba2",
   "metadata": {
    "execution": {
     "iopub.execute_input": "2024-07-25T10:33:02.196377Z",
     "iopub.status.busy": "2024-07-25T10:33:02.195843Z",
     "iopub.status.idle": "2024-07-25T10:33:02.199279Z",
     "shell.execute_reply": "2024-07-25T10:33:02.198453Z"
    },
    "papermill": {
     "duration": 0.025085,
     "end_time": "2024-07-25T10:33:02.201187",
     "exception": false,
     "start_time": "2024-07-25T10:33:02.176102",
     "status": "completed"
    },
    "tags": []
   },
   "outputs": [],
   "source": [
    "# X_new"
   ]
  },
  {
   "cell_type": "code",
   "execution_count": 15,
   "id": "c7456807",
   "metadata": {
    "execution": {
     "iopub.execute_input": "2024-07-25T10:33:02.238850Z",
     "iopub.status.busy": "2024-07-25T10:33:02.238614Z",
     "iopub.status.idle": "2024-07-25T10:33:02.242252Z",
     "shell.execute_reply": "2024-07-25T10:33:02.241439Z"
    },
    "papermill": {
     "duration": 0.02463,
     "end_time": "2024-07-25T10:33:02.244175",
     "exception": false,
     "start_time": "2024-07-25T10:33:02.219545",
     "status": "completed"
    },
    "tags": []
   },
   "outputs": [],
   "source": [
    "# ros = RandomOverSampler(random_state=42)\n",
    "# X_ros, y_ros = ros.fit_resample(X,y)\n",
    "# print(\"new shape is:\", X_ros.shape)"
   ]
  },
  {
   "cell_type": "code",
   "execution_count": 16,
   "id": "e8e01725",
   "metadata": {
    "execution": {
     "iopub.execute_input": "2024-07-25T10:33:02.282289Z",
     "iopub.status.busy": "2024-07-25T10:33:02.282035Z",
     "iopub.status.idle": "2024-07-25T10:33:02.288366Z",
     "shell.execute_reply": "2024-07-25T10:33:02.287604Z"
    },
    "papermill": {
     "duration": 0.027455,
     "end_time": "2024-07-25T10:33:02.290296",
     "exception": false,
     "start_time": "2024-07-25T10:33:02.262841",
     "status": "completed"
    },
    "tags": []
   },
   "outputs": [
    {
     "data": {
      "text/plain": [
       "Gender                   object\n",
       "Age                       int64\n",
       "Driving_License           int64\n",
       "Region_Code             float64\n",
       "Previously_Insured        int64\n",
       "Vehicle_Age              object\n",
       "Vehicle_Damage           object\n",
       "Annual_Premium          float64\n",
       "Policy_Sales_Channel    float64\n",
       "Vintage                   int64\n",
       "dtype: object"
      ]
     },
     "execution_count": 16,
     "metadata": {},
     "output_type": "execute_result"
    }
   ],
   "source": [
    "X.dtypes"
   ]
  },
  {
   "cell_type": "code",
   "execution_count": 17,
   "id": "7f1ca976",
   "metadata": {
    "execution": {
     "iopub.execute_input": "2024-07-25T10:33:02.328972Z",
     "iopub.status.busy": "2024-07-25T10:33:02.328686Z",
     "iopub.status.idle": "2024-07-25T10:33:02.342591Z",
     "shell.execute_reply": "2024-07-25T10:33:02.341931Z"
    },
    "papermill": {
     "duration": 0.0353,
     "end_time": "2024-07-25T10:33:02.344340",
     "exception": false,
     "start_time": "2024-07-25T10:33:02.309040",
     "status": "completed"
    },
    "tags": []
   },
   "outputs": [],
   "source": [
    "def features_mapping(df):\n",
    "    gender_mapping = {\n",
    "        \"Male\":1,\n",
    "        \"Female\":0\n",
    "    }\n",
    "    vehicle_age_mapping = {\n",
    "    \"< 1 Year\":0,\n",
    "    \"1-2 Year\":1,\n",
    "    \"> 2 Years\":2\n",
    "    }\n",
    "    vehicle_damage_mapping = {\n",
    "        \"Yes\":1,\n",
    "        \"No\":0\n",
    "    }\n",
    "    \n",
    "    df[\"Gender\"] = df[\"Gender\"].map(gender_mapping)\n",
    "# X_ros[\"Gender\"] = X_ros[\"Gender\"].map(gender_mapping)\n",
    "# X_rus[\"Gender\"] = X_rus[\"Gender\"].map(gender_mapping)\n",
    "# X_train[\"Gender\"] = X_train[\"Gender\"].map(gender_mapping)\n",
    "# X_valid[\"Gender\"] = X_valid[\"Gender\"].map(gender_mapping)\n",
    "\n",
    "    df[\"Vehicle_Age\"] = df[\"Vehicle_Age\"].map(vehicle_age_mapping)\n",
    "# X_ros[\"Vehicle_Age\"] = X_ros[\"Vehicle_Age\"].map(vehicle_age_mapping)\n",
    "# X_rus[\"Vehicle_Age\"] = X_rus[\"Vehicle_Age\"].map(vehicle_age_mapping)\n",
    "# X_train[\"Vehicle_Age\"] = X_train[\"Vehicle_Age\"].map(vehicle_age_mapping)\n",
    "# X_valid[\"Vehicle_Age\"] = X_valid[\"Vehicle_Age\"].map(vehicle_age_mapping)\n",
    "\n",
    "    df[\"Vehicle_Damage\"] = df[\"Vehicle_Damage\"].map(vehicle_damage_mapping)\n",
    "# X_ros[\"Vehicle_Damage\"] = X_ros[\"Vehicle_Damage\"].map(vehicle_damage_mapping)\n",
    "# X_rus[\"Vehicle_Damage\"] = X_rus[\"Vehicle_Damage\"].map(vehicle_damage_mapping)\n",
    "    return df\n",
    "\n",
    "def new_features(df):\n",
    "#     df['Age_Annual_Premium'] = df['Age'] * df['Annual_Premium']\n",
    "#     df['Vintage_Annual_Premium'] = df['Vintage'] * df['Annual_Premium']\n",
    "    \n",
    "#    df['VehicleDamage_RegionCode'] = df['Region_Code'] + df['Vehicle_Damage']\n",
    "#     df = pd.get_dummies(df, columns=['VehicleDamage_RegionCode'], drop_first=True)\n",
    "#     df['Vintage_Annual_Premium'] = df['Vintage'] * df['Annual_Premium']\n",
    "    \n",
    "#     df[\"Mean_Annual_Premium_by_region\"] = df.groupby(\"Region_Code\")[\"Annual_Premium\"].transform('mean')\n",
    "#     df[\"Damage_by_Region\"] = df.groupby(\"Region_Code\")[\"Annual_Premium\"].transform('sum')\n",
    "    \n",
    "#     df['Premium_Age_Ratio'] = df[\"Annual_Premium\"] / df[\"Age\"]\n",
    "#     df[\"Vintage_Age_Ratio\"] = df[\"Vintage\"] / df[\"Age\"]\n",
    "    \n",
    "#     vip_thresh = df[\"Annual_Premium\"].quantile(0.75)\n",
    "#     df[\"High_Premium\"] = (df[\"Annual_Premium\"] > vip_thresh).astype('int')\n",
    "#     df[\"Young_Driver\"] = (df[\"Age\"] < 25).astype('int')\n",
    "#     df['Gender_VehicleAge'] = df['Gender'] + df['Vehicle_Age']\n",
    "    df['DrivingLicense_VehicleAge'] = df['Driving_License'] + df['Vehicle_Age']\n",
    "    df['DrivingLicense_VehicleDamage'] = df['Driving_License'] + df['Vehicle_Damage']\n",
    "    df['DrivingLicense_PreviouslyInsured'] = df['Driving_License'] + df['Previously_Insured']\n",
    "#     df = pd.get_dummies(df, columns=['Gender_Vehicle_Age'], drop_first=True)\n",
    "    df['VehicleAge_VehicleDamage'] = df['Vehicle_Age']+ df['Vehicle_Damage']\n",
    "#     df = pd.get_dummies(df, columns=[\"Vehicle_Age_Vehicle_Damage\"], drop_first=True)\n",
    "\n",
    "    df['PreviouslyInsured_VehicleDamage'] = df['Previously_Insured'] + df['Vehicle_Damage']\n",
    "    df['PreviouslyInsured_VehicleAge'] = df['Previously_Insured'] + df['Vehicle_Age']\n",
    "#     df['PreviouslyInsured_YoungDriver'] = df['Previously_Insured'].astype(str) + '_' + df['Young_Driver'].astype(str)\n",
    "#     df = pd.get_dummies(df, columns=['PreviouslyInsured_YoungDriver'], drop_first=True)\n",
    "    \n",
    "#     df['YoungDriver_Vehicle_Damage'] = df['Young_Driver'].astype(str) + '_' + df['Vehicle_Damage'].astype(str)\n",
    "#     df = pd.get_dummies(df, columns=['YoungDriver_Vehicle_Damage'], drop_first=True)\n",
    "    return df\n",
    "\n",
    "def memory_reduce(df):\n",
    "    df['Gender'] = df['Gender'].astype('int8')\n",
    "    df['Age'] = df['Age'].astype('int8')\n",
    "    df['Driving_License'] = df['Driving_License'].astype('int8')\n",
    "    df['Region_Code'] = df['Region_Code'].astype('float32')\n",
    "    df['Previously_Insured'] = df['Previously_Insured'].astype('int8')\n",
    "    df['Vehicle_Age'] = df['Vehicle_Age'].astype('int8')\n",
    "    df['Vehicle_Damage'] = df['Vehicle_Damage'].astype('int8')\n",
    "    df['Annual_Premium'] = df['Annual_Premium'].astype('float32')\n",
    "    df['Policy_Sales_Channel'] = df['Policy_Sales_Channel'].astype('float32')\n",
    "    df['Vintage'] = df['Vintage'].astype('int8')\n",
    "    df['DrivingLicense_VehicleAge'] = df['DrivingLicense_VehicleAge'].astype('int8')\n",
    "    df['DrivingLicense_VehicleDamage'] =  df['DrivingLicense_VehicleDamage'].astype('int8')\n",
    "    df['DrivingLicense_PreviouslyInsured'] = df['DrivingLicense_PreviouslyInsured'].astype('int8')\n",
    "    df['VehicleAge_VehicleDamage'] = df['VehicleAge_VehicleDamage'].astype('int8')\n",
    "    df['PreviouslyInsured_VehicleDamage'] = df['PreviouslyInsured_VehicleDamage'].astype('int8')\n",
    "    df['PreviouslyInsured_VehicleAge'] = df['PreviouslyInsured_VehicleAge'].astype('int8')\n",
    "    return df"
   ]
  },
  {
   "cell_type": "code",
   "execution_count": 18,
   "id": "0dfe52f2",
   "metadata": {
    "execution": {
     "iopub.execute_input": "2024-07-25T10:33:02.382677Z",
     "iopub.status.busy": "2024-07-25T10:33:02.382416Z",
     "iopub.status.idle": "2024-07-25T10:33:06.521934Z",
     "shell.execute_reply": "2024-07-25T10:33:06.520970Z"
    },
    "papermill": {
     "duration": 4.161496,
     "end_time": "2024-07-25T10:33:06.524361",
     "exception": false,
     "start_time": "2024-07-25T10:33:02.362865",
     "status": "completed"
    },
    "tags": []
   },
   "outputs": [],
   "source": [
    "X = features_mapping(X)\n",
    "X = new_features(X)\n",
    "X = memory_reduce(X)"
   ]
  },
  {
   "cell_type": "code",
   "execution_count": 19,
   "id": "503ad73d",
   "metadata": {
    "execution": {
     "iopub.execute_input": "2024-07-25T10:33:06.563810Z",
     "iopub.status.busy": "2024-07-25T10:33:06.563498Z",
     "iopub.status.idle": "2024-07-25T10:33:06.585658Z",
     "shell.execute_reply": "2024-07-25T10:33:06.584121Z"
    },
    "papermill": {
     "duration": 0.044079,
     "end_time": "2024-07-25T10:33:06.587552",
     "exception": false,
     "start_time": "2024-07-25T10:33:06.543473",
     "status": "completed"
    },
    "tags": []
   },
   "outputs": [
    {
     "data": {
      "text/html": [
       "<div>\n",
       "<style scoped>\n",
       "    .dataframe tbody tr th:only-of-type {\n",
       "        vertical-align: middle;\n",
       "    }\n",
       "\n",
       "    .dataframe tbody tr th {\n",
       "        vertical-align: top;\n",
       "    }\n",
       "\n",
       "    .dataframe thead th {\n",
       "        text-align: right;\n",
       "    }\n",
       "</style>\n",
       "<table border=\"1\" class=\"dataframe\">\n",
       "  <thead>\n",
       "    <tr style=\"text-align: right;\">\n",
       "      <th></th>\n",
       "      <th>Gender</th>\n",
       "      <th>Age</th>\n",
       "      <th>Driving_License</th>\n",
       "      <th>Region_Code</th>\n",
       "      <th>Previously_Insured</th>\n",
       "      <th>Vehicle_Age</th>\n",
       "      <th>Vehicle_Damage</th>\n",
       "      <th>Annual_Premium</th>\n",
       "      <th>Policy_Sales_Channel</th>\n",
       "      <th>Vintage</th>\n",
       "      <th>DrivingLicense_VehicleAge</th>\n",
       "      <th>DrivingLicense_VehicleDamage</th>\n",
       "      <th>DrivingLicense_PreviouslyInsured</th>\n",
       "      <th>VehicleAge_VehicleDamage</th>\n",
       "      <th>PreviouslyInsured_VehicleDamage</th>\n",
       "      <th>PreviouslyInsured_VehicleAge</th>\n",
       "    </tr>\n",
       "    <tr>\n",
       "      <th>id</th>\n",
       "      <th></th>\n",
       "      <th></th>\n",
       "      <th></th>\n",
       "      <th></th>\n",
       "      <th></th>\n",
       "      <th></th>\n",
       "      <th></th>\n",
       "      <th></th>\n",
       "      <th></th>\n",
       "      <th></th>\n",
       "      <th></th>\n",
       "      <th></th>\n",
       "      <th></th>\n",
       "      <th></th>\n",
       "      <th></th>\n",
       "      <th></th>\n",
       "    </tr>\n",
       "  </thead>\n",
       "  <tbody>\n",
       "    <tr>\n",
       "      <th>0</th>\n",
       "      <td>1</td>\n",
       "      <td>21</td>\n",
       "      <td>1</td>\n",
       "      <td>35.0</td>\n",
       "      <td>0</td>\n",
       "      <td>1</td>\n",
       "      <td>1</td>\n",
       "      <td>65101.0</td>\n",
       "      <td>124.0</td>\n",
       "      <td>-69</td>\n",
       "      <td>2</td>\n",
       "      <td>2</td>\n",
       "      <td>1</td>\n",
       "      <td>2</td>\n",
       "      <td>1</td>\n",
       "      <td>1</td>\n",
       "    </tr>\n",
       "    <tr>\n",
       "      <th>1</th>\n",
       "      <td>1</td>\n",
       "      <td>43</td>\n",
       "      <td>1</td>\n",
       "      <td>28.0</td>\n",
       "      <td>0</td>\n",
       "      <td>2</td>\n",
       "      <td>1</td>\n",
       "      <td>58911.0</td>\n",
       "      <td>26.0</td>\n",
       "      <td>32</td>\n",
       "      <td>3</td>\n",
       "      <td>2</td>\n",
       "      <td>1</td>\n",
       "      <td>3</td>\n",
       "      <td>1</td>\n",
       "      <td>2</td>\n",
       "    </tr>\n",
       "    <tr>\n",
       "      <th>2</th>\n",
       "      <td>0</td>\n",
       "      <td>25</td>\n",
       "      <td>1</td>\n",
       "      <td>14.0</td>\n",
       "      <td>1</td>\n",
       "      <td>0</td>\n",
       "      <td>0</td>\n",
       "      <td>38043.0</td>\n",
       "      <td>152.0</td>\n",
       "      <td>-2</td>\n",
       "      <td>1</td>\n",
       "      <td>1</td>\n",
       "      <td>2</td>\n",
       "      <td>0</td>\n",
       "      <td>1</td>\n",
       "      <td>1</td>\n",
       "    </tr>\n",
       "    <tr>\n",
       "      <th>3</th>\n",
       "      <td>0</td>\n",
       "      <td>35</td>\n",
       "      <td>1</td>\n",
       "      <td>1.0</td>\n",
       "      <td>0</td>\n",
       "      <td>1</td>\n",
       "      <td>1</td>\n",
       "      <td>2630.0</td>\n",
       "      <td>156.0</td>\n",
       "      <td>76</td>\n",
       "      <td>2</td>\n",
       "      <td>2</td>\n",
       "      <td>1</td>\n",
       "      <td>2</td>\n",
       "      <td>1</td>\n",
       "      <td>1</td>\n",
       "    </tr>\n",
       "    <tr>\n",
       "      <th>4</th>\n",
       "      <td>0</td>\n",
       "      <td>36</td>\n",
       "      <td>1</td>\n",
       "      <td>15.0</td>\n",
       "      <td>1</td>\n",
       "      <td>1</td>\n",
       "      <td>0</td>\n",
       "      <td>31951.0</td>\n",
       "      <td>152.0</td>\n",
       "      <td>38</td>\n",
       "      <td>2</td>\n",
       "      <td>1</td>\n",
       "      <td>2</td>\n",
       "      <td>1</td>\n",
       "      <td>1</td>\n",
       "      <td>2</td>\n",
       "    </tr>\n",
       "    <tr>\n",
       "      <th>...</th>\n",
       "      <td>...</td>\n",
       "      <td>...</td>\n",
       "      <td>...</td>\n",
       "      <td>...</td>\n",
       "      <td>...</td>\n",
       "      <td>...</td>\n",
       "      <td>...</td>\n",
       "      <td>...</td>\n",
       "      <td>...</td>\n",
       "      <td>...</td>\n",
       "      <td>...</td>\n",
       "      <td>...</td>\n",
       "      <td>...</td>\n",
       "      <td>...</td>\n",
       "      <td>...</td>\n",
       "      <td>...</td>\n",
       "    </tr>\n",
       "    <tr>\n",
       "      <th>11504793</th>\n",
       "      <td>1</td>\n",
       "      <td>48</td>\n",
       "      <td>1</td>\n",
       "      <td>6.0</td>\n",
       "      <td>0</td>\n",
       "      <td>1</td>\n",
       "      <td>1</td>\n",
       "      <td>27412.0</td>\n",
       "      <td>26.0</td>\n",
       "      <td>-38</td>\n",
       "      <td>2</td>\n",
       "      <td>2</td>\n",
       "      <td>1</td>\n",
       "      <td>2</td>\n",
       "      <td>1</td>\n",
       "      <td>1</td>\n",
       "    </tr>\n",
       "    <tr>\n",
       "      <th>11504794</th>\n",
       "      <td>0</td>\n",
       "      <td>26</td>\n",
       "      <td>1</td>\n",
       "      <td>36.0</td>\n",
       "      <td>0</td>\n",
       "      <td>0</td>\n",
       "      <td>1</td>\n",
       "      <td>29509.0</td>\n",
       "      <td>152.0</td>\n",
       "      <td>115</td>\n",
       "      <td>1</td>\n",
       "      <td>2</td>\n",
       "      <td>1</td>\n",
       "      <td>1</td>\n",
       "      <td>1</td>\n",
       "      <td>0</td>\n",
       "    </tr>\n",
       "    <tr>\n",
       "      <th>11504795</th>\n",
       "      <td>0</td>\n",
       "      <td>29</td>\n",
       "      <td>1</td>\n",
       "      <td>32.0</td>\n",
       "      <td>1</td>\n",
       "      <td>0</td>\n",
       "      <td>0</td>\n",
       "      <td>2630.0</td>\n",
       "      <td>152.0</td>\n",
       "      <td>-67</td>\n",
       "      <td>1</td>\n",
       "      <td>1</td>\n",
       "      <td>2</td>\n",
       "      <td>0</td>\n",
       "      <td>1</td>\n",
       "      <td>1</td>\n",
       "    </tr>\n",
       "    <tr>\n",
       "      <th>11504796</th>\n",
       "      <td>0</td>\n",
       "      <td>51</td>\n",
       "      <td>1</td>\n",
       "      <td>28.0</td>\n",
       "      <td>0</td>\n",
       "      <td>1</td>\n",
       "      <td>1</td>\n",
       "      <td>48443.0</td>\n",
       "      <td>26.0</td>\n",
       "      <td>18</td>\n",
       "      <td>2</td>\n",
       "      <td>2</td>\n",
       "      <td>1</td>\n",
       "      <td>2</td>\n",
       "      <td>1</td>\n",
       "      <td>1</td>\n",
       "    </tr>\n",
       "    <tr>\n",
       "      <th>11504797</th>\n",
       "      <td>1</td>\n",
       "      <td>25</td>\n",
       "      <td>1</td>\n",
       "      <td>28.0</td>\n",
       "      <td>1</td>\n",
       "      <td>0</td>\n",
       "      <td>0</td>\n",
       "      <td>32855.0</td>\n",
       "      <td>152.0</td>\n",
       "      <td>-67</td>\n",
       "      <td>1</td>\n",
       "      <td>1</td>\n",
       "      <td>2</td>\n",
       "      <td>0</td>\n",
       "      <td>1</td>\n",
       "      <td>1</td>\n",
       "    </tr>\n",
       "  </tbody>\n",
       "</table>\n",
       "<p>11504798 rows × 16 columns</p>\n",
       "</div>"
      ],
      "text/plain": [
       "          Gender  Age  Driving_License  Region_Code  Previously_Insured  \\\n",
       "id                                                                        \n",
       "0              1   21                1         35.0                   0   \n",
       "1              1   43                1         28.0                   0   \n",
       "2              0   25                1         14.0                   1   \n",
       "3              0   35                1          1.0                   0   \n",
       "4              0   36                1         15.0                   1   \n",
       "...          ...  ...              ...          ...                 ...   \n",
       "11504793       1   48                1          6.0                   0   \n",
       "11504794       0   26                1         36.0                   0   \n",
       "11504795       0   29                1         32.0                   1   \n",
       "11504796       0   51                1         28.0                   0   \n",
       "11504797       1   25                1         28.0                   1   \n",
       "\n",
       "          Vehicle_Age  Vehicle_Damage  Annual_Premium  Policy_Sales_Channel  \\\n",
       "id                                                                            \n",
       "0                   1               1         65101.0                 124.0   \n",
       "1                   2               1         58911.0                  26.0   \n",
       "2                   0               0         38043.0                 152.0   \n",
       "3                   1               1          2630.0                 156.0   \n",
       "4                   1               0         31951.0                 152.0   \n",
       "...               ...             ...             ...                   ...   \n",
       "11504793            1               1         27412.0                  26.0   \n",
       "11504794            0               1         29509.0                 152.0   \n",
       "11504795            0               0          2630.0                 152.0   \n",
       "11504796            1               1         48443.0                  26.0   \n",
       "11504797            0               0         32855.0                 152.0   \n",
       "\n",
       "          Vintage  DrivingLicense_VehicleAge  DrivingLicense_VehicleDamage  \\\n",
       "id                                                                           \n",
       "0             -69                          2                             2   \n",
       "1              32                          3                             2   \n",
       "2              -2                          1                             1   \n",
       "3              76                          2                             2   \n",
       "4              38                          2                             1   \n",
       "...           ...                        ...                           ...   \n",
       "11504793      -38                          2                             2   \n",
       "11504794      115                          1                             2   \n",
       "11504795      -67                          1                             1   \n",
       "11504796       18                          2                             2   \n",
       "11504797      -67                          1                             1   \n",
       "\n",
       "          DrivingLicense_PreviouslyInsured  VehicleAge_VehicleDamage  \\\n",
       "id                                                                     \n",
       "0                                        1                         2   \n",
       "1                                        1                         3   \n",
       "2                                        2                         0   \n",
       "3                                        1                         2   \n",
       "4                                        2                         1   \n",
       "...                                    ...                       ...   \n",
       "11504793                                 1                         2   \n",
       "11504794                                 1                         1   \n",
       "11504795                                 2                         0   \n",
       "11504796                                 1                         2   \n",
       "11504797                                 2                         0   \n",
       "\n",
       "          PreviouslyInsured_VehicleDamage  PreviouslyInsured_VehicleAge  \n",
       "id                                                                       \n",
       "0                                       1                             1  \n",
       "1                                       1                             2  \n",
       "2                                       1                             1  \n",
       "3                                       1                             1  \n",
       "4                                       1                             2  \n",
       "...                                   ...                           ...  \n",
       "11504793                                1                             1  \n",
       "11504794                                1                             0  \n",
       "11504795                                1                             1  \n",
       "11504796                                1                             1  \n",
       "11504797                                1                             1  \n",
       "\n",
       "[11504798 rows x 16 columns]"
      ]
     },
     "execution_count": 19,
     "metadata": {},
     "output_type": "execute_result"
    }
   ],
   "source": [
    "pd.set_option('display.max_columns',None)\n",
    "X"
   ]
  },
  {
   "cell_type": "code",
   "execution_count": 20,
   "id": "c0ada371",
   "metadata": {
    "execution": {
     "iopub.execute_input": "2024-07-25T10:33:06.669418Z",
     "iopub.status.busy": "2024-07-25T10:33:06.669045Z",
     "iopub.status.idle": "2024-07-25T10:33:06.673161Z",
     "shell.execute_reply": "2024-07-25T10:33:06.672306Z"
    },
    "papermill": {
     "duration": 0.026426,
     "end_time": "2024-07-25T10:33:06.675061",
     "exception": false,
     "start_time": "2024-07-25T10:33:06.648635",
     "status": "completed"
    },
    "tags": []
   },
   "outputs": [],
   "source": [
    "# ros = RandomOverSampler(random_state=42)\n",
    "# X_ros, y_ros = ros.fit_resample(X,y)\n",
    "# print(\"new shape is:\", X_ros.shape)"
   ]
  },
  {
   "cell_type": "code",
   "execution_count": 21,
   "id": "415b6b4c",
   "metadata": {
    "execution": {
     "iopub.execute_input": "2024-07-25T10:33:06.714545Z",
     "iopub.status.busy": "2024-07-25T10:33:06.714262Z",
     "iopub.status.idle": "2024-07-25T10:33:06.717807Z",
     "shell.execute_reply": "2024-07-25T10:33:06.717022Z"
    },
    "papermill": {
     "duration": 0.025437,
     "end_time": "2024-07-25T10:33:06.719664",
     "exception": false,
     "start_time": "2024-07-25T10:33:06.694227",
     "status": "completed"
    },
    "tags": []
   },
   "outputs": [],
   "source": [
    "# del X\n",
    "# del y"
   ]
  },
  {
   "cell_type": "code",
   "execution_count": 22,
   "id": "0f86202f",
   "metadata": {
    "execution": {
     "iopub.execute_input": "2024-07-25T10:33:06.759752Z",
     "iopub.status.busy": "2024-07-25T10:33:06.759451Z",
     "iopub.status.idle": "2024-07-25T10:33:06.763241Z",
     "shell.execute_reply": "2024-07-25T10:33:06.762445Z"
    },
    "papermill": {
     "duration": 0.025616,
     "end_time": "2024-07-25T10:33:06.765094",
     "exception": false,
     "start_time": "2024-07-25T10:33:06.739478",
     "status": "completed"
    },
    "tags": []
   },
   "outputs": [],
   "source": [
    "# train_ros = pd.concat([X_ros, y_ros], axis=1)\n",
    "# train_ros, valid_ros = train_test_split(train_ros, test_size=0.35, stratify=train_ros[\"Response\"], random_state=42)\n",
    "\n",
    "# X_train = train_ros.copy()\n",
    "# y_train = X_train.pop(\"Response\")\n",
    "\n",
    "# X_valid = valid_ros.copy()\n",
    "# y_valid = X_valid.pop(\"Response\")"
   ]
  },
  {
   "cell_type": "code",
   "execution_count": 23,
   "id": "86b7a94f",
   "metadata": {
    "execution": {
     "iopub.execute_input": "2024-07-25T10:33:06.804273Z",
     "iopub.status.busy": "2024-07-25T10:33:06.804029Z",
     "iopub.status.idle": "2024-07-25T10:33:06.807664Z",
     "shell.execute_reply": "2024-07-25T10:33:06.806831Z"
    },
    "papermill": {
     "duration": 0.025246,
     "end_time": "2024-07-25T10:33:06.809464",
     "exception": false,
     "start_time": "2024-07-25T10:33:06.784218",
     "status": "completed"
    },
    "tags": []
   },
   "outputs": [],
   "source": [
    "# print(train_ros.shape)\n",
    "# print(\"training shape: \",X_train.shape)\n",
    "# print(\"validation shape: \",X_valid.shape)"
   ]
  },
  {
   "cell_type": "code",
   "execution_count": 24,
   "id": "87fb32ac",
   "metadata": {
    "execution": {
     "iopub.execute_input": "2024-07-25T10:33:06.848996Z",
     "iopub.status.busy": "2024-07-25T10:33:06.848457Z",
     "iopub.status.idle": "2024-07-25T10:33:06.852050Z",
     "shell.execute_reply": "2024-07-25T10:33:06.851233Z"
    },
    "papermill": {
     "duration": 0.025451,
     "end_time": "2024-07-25T10:33:06.854007",
     "exception": false,
     "start_time": "2024-07-25T10:33:06.828556",
     "status": "completed"
    },
    "tags": []
   },
   "outputs": [],
   "source": [
    "# X_train = train_ros.copy()\n",
    "# y_train = X_train.pop(\"Response\")\n",
    "\n",
    "# X_valid = valid_ros.copy()\n",
    "# y_valid = X_valid.pop(\"Response\")\n",
    "\n"
   ]
  },
  {
   "cell_type": "code",
   "execution_count": 25,
   "id": "60b32a50",
   "metadata": {
    "execution": {
     "iopub.execute_input": "2024-07-25T10:33:06.893537Z",
     "iopub.status.busy": "2024-07-25T10:33:06.892917Z",
     "iopub.status.idle": "2024-07-25T10:33:06.896644Z",
     "shell.execute_reply": "2024-07-25T10:33:06.895808Z"
    },
    "papermill": {
     "duration": 0.025079,
     "end_time": "2024-07-25T10:33:06.898399",
     "exception": false,
     "start_time": "2024-07-25T10:33:06.873320",
     "status": "completed"
    },
    "tags": []
   },
   "outputs": [],
   "source": [
    "# X_train = train_sub.copy()\n",
    "# y_train = X_train.pop(\"Response\")\n",
    "\n",
    "# X_valid = valid_sub.copy()\n",
    "# y_valid = X_valid.pop(\"Response\")"
   ]
  },
  {
   "cell_type": "code",
   "execution_count": 26,
   "id": "fdd82979",
   "metadata": {
    "execution": {
     "iopub.execute_input": "2024-07-25T10:33:06.937725Z",
     "iopub.status.busy": "2024-07-25T10:33:06.937449Z",
     "iopub.status.idle": "2024-07-25T10:33:06.940827Z",
     "shell.execute_reply": "2024-07-25T10:33:06.940021Z"
    },
    "papermill": {
     "duration": 0.025112,
     "end_time": "2024-07-25T10:33:06.942635",
     "exception": false,
     "start_time": "2024-07-25T10:33:06.917523",
     "status": "completed"
    },
    "tags": []
   },
   "outputs": [],
   "source": [
    "# X_train"
   ]
  },
  {
   "cell_type": "code",
   "execution_count": 27,
   "id": "478c5115",
   "metadata": {
    "execution": {
     "iopub.execute_input": "2024-07-25T10:33:06.981751Z",
     "iopub.status.busy": "2024-07-25T10:33:06.981516Z",
     "iopub.status.idle": "2024-07-25T10:33:06.984916Z",
     "shell.execute_reply": "2024-07-25T10:33:06.984143Z"
    },
    "papermill": {
     "duration": 0.02541,
     "end_time": "2024-07-25T10:33:06.987106",
     "exception": false,
     "start_time": "2024-07-25T10:33:06.961696",
     "status": "completed"
    },
    "tags": []
   },
   "outputs": [],
   "source": [
    "# X_train[[\"Gender\",\"Vehicle_Age\",\"Vehicle_Damage\"]] = X_train[[\"Gender\",\"Vehicle_Age\",\"Vehicle_Damage\"]].astype(\"category\")\n",
    "# X_valid[[\"Gender\",\"Vehicle_Age\",\"Vehicle_Damage\"]] = X_valid[[\"Gender\",\"Vehicle_Age\",\"Vehicle_Damage\"]].astype(\"category\")"
   ]
  },
  {
   "cell_type": "code",
   "execution_count": 28,
   "id": "dede8ff2",
   "metadata": {
    "execution": {
     "iopub.execute_input": "2024-07-25T10:33:07.027391Z",
     "iopub.status.busy": "2024-07-25T10:33:07.027154Z",
     "iopub.status.idle": "2024-07-25T10:33:07.031729Z",
     "shell.execute_reply": "2024-07-25T10:33:07.030921Z"
    },
    "papermill": {
     "duration": 0.026284,
     "end_time": "2024-07-25T10:33:07.033654",
     "exception": false,
     "start_time": "2024-07-25T10:33:07.007370",
     "status": "completed"
    },
    "tags": []
   },
   "outputs": [],
   "source": [
    "# gender_mapping = {\n",
    "#     \"Male\":1,\n",
    "#     \"Female\":0\n",
    "# }\n",
    "# vehicle_age_mapping = {\n",
    "#     \"< 1 Year\":0,\n",
    "#     \"1-2 Year\":1,\n",
    "#     \"> 2 Years\":2\n",
    "# }\n",
    "# vehicle_damage_mapping = {\n",
    "#     \"Yes\":1,\n",
    "#     \"No\":0\n",
    "# }\n",
    "\n",
    "# X[\"Gender\"] = X[\"Gender\"].map(gender_mapping)\n",
    "# # X_ros[\"Gender\"] = X_ros[\"Gender\"].map(gender_mapping)\n",
    "# X_rus[\"Gender\"] = X_rus[\"Gender\"].map(gender_mapping)\n",
    "# # X_train[\"Gender\"] = X_train[\"Gender\"].map(gender_mapping)\n",
    "# # X_valid[\"Gender\"] = X_valid[\"Gender\"].map(gender_mapping)\n",
    "\n",
    "# X[\"Vehicle_Age\"] = X[\"Vehicle_Age\"].map(vehicle_age_mapping)\n",
    "# # X_ros[\"Vehicle_Age\"] = X_ros[\"Vehicle_Age\"].map(vehicle_age_mapping)\n",
    "# X_rus[\"Vehicle_Age\"] = X_rus[\"Vehicle_Age\"].map(vehicle_age_mapping)\n",
    "# # X_train[\"Vehicle_Age\"] = X_train[\"Vehicle_Age\"].map(vehicle_age_mapping)\n",
    "# # X_valid[\"Vehicle_Age\"] = X_valid[\"Vehicle_Age\"].map(vehicle_age_mapping)\n",
    "\n",
    "# X[\"Vehicle_Damage\"] = X[\"Vehicle_Damage\"].map(vehicle_damage_mapping)\n",
    "# # X_ros[\"Vehicle_Damage\"] = X_ros[\"Vehicle_Damage\"].map(vehicle_damage_mapping)\n",
    "# X_rus[\"Vehicle_Damage\"] = X_rus[\"Vehicle_Damage\"].map(vehicle_damage_mapping)\n",
    "# # X_train[\"Vehicle_Damage\"] = X_train[\"Vehicle_Damage\"].map(vehicle_damage_mapping)\n",
    "# # X_valid[\"Vehicle_Damage\"] = X_valid[\"Vehicle_Damage\"].map(vehicle_damage_mapping)"
   ]
  },
  {
   "cell_type": "code",
   "execution_count": 29,
   "id": "7cf3c121",
   "metadata": {
    "execution": {
     "iopub.execute_input": "2024-07-25T10:33:07.072948Z",
     "iopub.status.busy": "2024-07-25T10:33:07.072705Z",
     "iopub.status.idle": "2024-07-25T10:33:07.076178Z",
     "shell.execute_reply": "2024-07-25T10:33:07.075370Z"
    },
    "papermill": {
     "duration": 0.025245,
     "end_time": "2024-07-25T10:33:07.077995",
     "exception": false,
     "start_time": "2024-07-25T10:33:07.052750",
     "status": "completed"
    },
    "tags": []
   },
   "outputs": [],
   "source": [
    "# smote = SMOTE(random_state=42)\n",
    "\n",
    "# X_smoted, y_smoted = smote.fit_resample(X, y)\n",
    "# train_smoted = pd.concat([X_smoted, y_smoted], axis=1)"
   ]
  },
  {
   "cell_type": "code",
   "execution_count": 30,
   "id": "cd6a157d",
   "metadata": {
    "execution": {
     "iopub.execute_input": "2024-07-25T10:33:07.117730Z",
     "iopub.status.busy": "2024-07-25T10:33:07.117092Z",
     "iopub.status.idle": "2024-07-25T10:33:09.894597Z",
     "shell.execute_reply": "2024-07-25T10:33:09.893612Z"
    },
    "papermill": {
     "duration": 2.799885,
     "end_time": "2024-07-25T10:33:09.897017",
     "exception": false,
     "start_time": "2024-07-25T10:33:07.097132",
     "status": "completed"
    },
    "tags": []
   },
   "outputs": [],
   "source": [
    "test = features_mapping(test)\n",
    "test = new_features(test)\n",
    "test = memory_reduce(test)"
   ]
  },
  {
   "cell_type": "code",
   "execution_count": 31,
   "id": "11b60550",
   "metadata": {
    "execution": {
     "iopub.execute_input": "2024-07-25T10:33:09.957167Z",
     "iopub.status.busy": "2024-07-25T10:33:09.956392Z",
     "iopub.status.idle": "2024-07-25T10:33:11.883777Z",
     "shell.execute_reply": "2024-07-25T10:33:11.883007Z"
    },
    "papermill": {
     "duration": 1.96263,
     "end_time": "2024-07-25T10:33:11.886145",
     "exception": false,
     "start_time": "2024-07-25T10:33:09.923515",
     "status": "completed"
    },
    "tags": []
   },
   "outputs": [],
   "source": [
    "# features_to_scale = ['Age','Vintage','Annual_Premium',\t'Policy_Sales_Channel',\t'Age_Annual_Premium',\t'Vintage_Annual_Premium',\t'Mean_Annual_Premium_by_region',\t'Damage_by_Region',\t'Premium_Age_Ratio',\t'Vintage_Age_Ratio']\n",
    "features_to_scale = ['Age', 'Vintage', 'Annual_Premium', 'Policy_Sales_Channel']\n",
    "scaler = RobustScaler()\n",
    "X[features_to_scale] = scaler.fit_transform(X[features_to_scale])"
   ]
  },
  {
   "cell_type": "code",
   "execution_count": 32,
   "id": "3c01d4d7",
   "metadata": {
    "execution": {
     "iopub.execute_input": "2024-07-25T10:33:11.927834Z",
     "iopub.status.busy": "2024-07-25T10:33:11.927556Z",
     "iopub.status.idle": "2024-07-25T10:33:12.209068Z",
     "shell.execute_reply": "2024-07-25T10:33:12.208079Z"
    },
    "papermill": {
     "duration": 0.304636,
     "end_time": "2024-07-25T10:33:12.211396",
     "exception": false,
     "start_time": "2024-07-25T10:33:11.906760",
     "status": "completed"
    },
    "tags": []
   },
   "outputs": [],
   "source": [
    "test[features_to_scale] = scaler.transform(test[features_to_scale])"
   ]
  },
  {
   "cell_type": "code",
   "execution_count": 33,
   "id": "fa72c1e3",
   "metadata": {
    "execution": {
     "iopub.execute_input": "2024-07-25T10:33:12.251122Z",
     "iopub.status.busy": "2024-07-25T10:33:12.250773Z",
     "iopub.status.idle": "2024-07-25T10:33:12.254590Z",
     "shell.execute_reply": "2024-07-25T10:33:12.253720Z"
    },
    "papermill": {
     "duration": 0.025545,
     "end_time": "2024-07-25T10:33:12.256427",
     "exception": false,
     "start_time": "2024-07-25T10:33:12.230882",
     "status": "completed"
    },
    "tags": []
   },
   "outputs": [],
   "source": [
    "# pd.reset_option('all')"
   ]
  },
  {
   "cell_type": "code",
   "execution_count": 34,
   "id": "e95ff95b",
   "metadata": {
    "execution": {
     "iopub.execute_input": "2024-07-25T10:33:12.295892Z",
     "iopub.status.busy": "2024-07-25T10:33:12.295310Z",
     "iopub.status.idle": "2024-07-25T10:33:12.298967Z",
     "shell.execute_reply": "2024-07-25T10:33:12.298187Z"
    },
    "papermill": {
     "duration": 0.02543,
     "end_time": "2024-07-25T10:33:12.300794",
     "exception": false,
     "start_time": "2024-07-25T10:33:12.275364",
     "status": "completed"
    },
    "tags": []
   },
   "outputs": [],
   "source": [
    "# X"
   ]
  },
  {
   "cell_type": "code",
   "execution_count": 35,
   "id": "ab9e1bd6",
   "metadata": {
    "execution": {
     "iopub.execute_input": "2024-07-25T10:33:12.339769Z",
     "iopub.status.busy": "2024-07-25T10:33:12.339511Z",
     "iopub.status.idle": "2024-07-25T10:33:12.343438Z",
     "shell.execute_reply": "2024-07-25T10:33:12.342624Z"
    },
    "papermill": {
     "duration": 0.025592,
     "end_time": "2024-07-25T10:33:12.345353",
     "exception": false,
     "start_time": "2024-07-25T10:33:12.319761",
     "status": "completed"
    },
    "tags": []
   },
   "outputs": [],
   "source": [
    "# test[\"Gender\"] = test[\"Gender\"].map(gender_mapping)\n",
    "# # X_ros[\"Gender\"] = X_ros[\"Gender\"].map(gender_mapping)\n",
    "# test[\"Vehicle_Age\"] = test[\"Vehicle_Age\"].map(vehicle_age_mapping)\n",
    "# # X_ros[\"Vehicle_Age\"] = X_ros[\"Vehicle_Age\"].map(vehicle_age_mapping)\n",
    "# test[\"Vehicle_Damage\"] = test[\"Vehicle_Damage\"].map(vehicle_damage_mapping)\n",
    "# # X_ros[\"Vehicle_Damage\"] = X_ros[\"Vehicle_Damage\"].map(vehicle_damage_mapping)"
   ]
  },
  {
   "cell_type": "code",
   "execution_count": 36,
   "id": "ab583b04",
   "metadata": {
    "execution": {
     "iopub.execute_input": "2024-07-25T10:33:12.385092Z",
     "iopub.status.busy": "2024-07-25T10:33:12.384820Z",
     "iopub.status.idle": "2024-07-25T10:33:12.388576Z",
     "shell.execute_reply": "2024-07-25T10:33:12.387769Z"
    },
    "papermill": {
     "duration": 0.026179,
     "end_time": "2024-07-25T10:33:12.390553",
     "exception": false,
     "start_time": "2024-07-25T10:33:12.364374",
     "status": "completed"
    },
    "tags": []
   },
   "outputs": [],
   "source": [
    "# continuous_features = [\"Age\",\"Region_Code\",\"Annual_Premium\",\"Policy_Sales_Channel\",\"Vintage\"]\n",
    "# # scaler = StandardScaler()\n",
    "# scaler = RobustScaler()\n",
    "# X[continuous_features] = scaler.fit_transform(X[continuous_features])\n",
    "# test[continuous_features] = scaler.fit_transform(test[continuous_features])"
   ]
  },
  {
   "cell_type": "code",
   "execution_count": 37,
   "id": "07093950",
   "metadata": {
    "execution": {
     "iopub.execute_input": "2024-07-25T10:33:12.430629Z",
     "iopub.status.busy": "2024-07-25T10:33:12.430356Z",
     "iopub.status.idle": "2024-07-25T10:33:12.434203Z",
     "shell.execute_reply": "2024-07-25T10:33:12.433301Z"
    },
    "papermill": {
     "duration": 0.026067,
     "end_time": "2024-07-25T10:33:12.436066",
     "exception": false,
     "start_time": "2024-07-25T10:33:12.409999",
     "status": "completed"
    },
    "tags": []
   },
   "outputs": [],
   "source": [
    "# test[continuous_features] = scaler.transform(test[continuous_features])"
   ]
  },
  {
   "cell_type": "code",
   "execution_count": 38,
   "id": "b136ec68",
   "metadata": {
    "execution": {
     "iopub.execute_input": "2024-07-25T10:33:12.475883Z",
     "iopub.status.busy": "2024-07-25T10:33:12.475626Z",
     "iopub.status.idle": "2024-07-25T10:33:12.479117Z",
     "shell.execute_reply": "2024-07-25T10:33:12.478414Z"
    },
    "papermill": {
     "duration": 0.025687,
     "end_time": "2024-07-25T10:33:12.481186",
     "exception": false,
     "start_time": "2024-07-25T10:33:12.455499",
     "status": "completed"
    },
    "tags": []
   },
   "outputs": [],
   "source": [
    "# lgbm = LGBMClassifier(verbose=0, n_jobs=-1)\n",
    "# lgbm.fit(X_ros, y_ros)"
   ]
  },
  {
   "cell_type": "code",
   "execution_count": 39,
   "id": "7277f5f8",
   "metadata": {
    "execution": {
     "iopub.execute_input": "2024-07-25T10:33:12.520627Z",
     "iopub.status.busy": "2024-07-25T10:33:12.520343Z",
     "iopub.status.idle": "2024-07-25T10:33:12.524061Z",
     "shell.execute_reply": "2024-07-25T10:33:12.523226Z"
    },
    "papermill": {
     "duration": 0.025585,
     "end_time": "2024-07-25T10:33:12.525899",
     "exception": false,
     "start_time": "2024-07-25T10:33:12.500314",
     "status": "completed"
    },
    "tags": []
   },
   "outputs": [],
   "source": [
    "# feature_importances = lgbm.feature_importances_\n",
    "\n",
    "# feature_importance_df = pd.DataFrame({'feature': X.columns, 'importance': feature_importances})\n",
    "\n",
    "# feature_importance_df = feature_importance_df.sort_values('importance', ascending=False)\n",
    "\n",
    "# print(feature_importance_df.head(10))"
   ]
  },
  {
   "cell_type": "code",
   "execution_count": 40,
   "id": "167bac0f",
   "metadata": {
    "execution": {
     "iopub.execute_input": "2024-07-25T10:33:12.564917Z",
     "iopub.status.busy": "2024-07-25T10:33:12.564655Z",
     "iopub.status.idle": "2024-07-25T10:33:12.568027Z",
     "shell.execute_reply": "2024-07-25T10:33:12.567277Z"
    },
    "papermill": {
     "duration": 0.024982,
     "end_time": "2024-07-25T10:33:12.569930",
     "exception": false,
     "start_time": "2024-07-25T10:33:12.544948",
     "status": "completed"
    },
    "tags": []
   },
   "outputs": [],
   "source": [
    "# X_ros.shape"
   ]
  },
  {
   "cell_type": "code",
   "execution_count": 41,
   "id": "ec06fc4a",
   "metadata": {
    "execution": {
     "iopub.execute_input": "2024-07-25T10:33:12.609075Z",
     "iopub.status.busy": "2024-07-25T10:33:12.608789Z",
     "iopub.status.idle": "2024-07-25T10:33:12.612277Z",
     "shell.execute_reply": "2024-07-25T10:33:12.611429Z"
    },
    "papermill": {
     "duration": 0.025186,
     "end_time": "2024-07-25T10:33:12.614069",
     "exception": false,
     "start_time": "2024-07-25T10:33:12.588883",
     "status": "completed"
    },
    "tags": []
   },
   "outputs": [],
   "source": [
    "# y_ros.shape"
   ]
  },
  {
   "cell_type": "code",
   "execution_count": null,
   "id": "70260911",
   "metadata": {
    "papermill": {
     "duration": 0.018863,
     "end_time": "2024-07-25T10:33:12.652072",
     "exception": false,
     "start_time": "2024-07-25T10:33:12.633209",
     "status": "completed"
    },
    "tags": []
   },
   "outputs": [],
   "source": []
  },
  {
   "cell_type": "code",
   "execution_count": 42,
   "id": "97af61ae",
   "metadata": {
    "execution": {
     "iopub.execute_input": "2024-07-25T10:33:12.691530Z",
     "iopub.status.busy": "2024-07-25T10:33:12.691258Z",
     "iopub.status.idle": "2024-07-25T10:33:12.694719Z",
     "shell.execute_reply": "2024-07-25T10:33:12.693915Z"
    },
    "papermill": {
     "duration": 0.025281,
     "end_time": "2024-07-25T10:33:12.696603",
     "exception": false,
     "start_time": "2024-07-25T10:33:12.671322",
     "status": "completed"
    },
    "tags": []
   },
   "outputs": [],
   "source": [
    "# X_train, X_valid, y_train, y_valid = train_test_split(X, y, test_size=0.3, stratify=y, random_state=42)"
   ]
  },
  {
   "cell_type": "code",
   "execution_count": 43,
   "id": "3dff1b33",
   "metadata": {
    "execution": {
     "iopub.execute_input": "2024-07-25T10:33:12.735659Z",
     "iopub.status.busy": "2024-07-25T10:33:12.735400Z",
     "iopub.status.idle": "2024-07-25T10:33:12.738680Z",
     "shell.execute_reply": "2024-07-25T10:33:12.737932Z"
    },
    "papermill": {
     "duration": 0.025428,
     "end_time": "2024-07-25T10:33:12.741041",
     "exception": false,
     "start_time": "2024-07-25T10:33:12.715613",
     "status": "completed"
    },
    "tags": []
   },
   "outputs": [],
   "source": [
    "# del X\n",
    "# del y"
   ]
  },
  {
   "cell_type": "code",
   "execution_count": 44,
   "id": "fe1e2d0c",
   "metadata": {
    "execution": {
     "iopub.execute_input": "2024-07-25T10:33:12.780309Z",
     "iopub.status.busy": "2024-07-25T10:33:12.780028Z",
     "iopub.status.idle": "2024-07-25T10:33:12.783463Z",
     "shell.execute_reply": "2024-07-25T10:33:12.782668Z"
    },
    "papermill": {
     "duration": 0.025169,
     "end_time": "2024-07-25T10:33:12.785317",
     "exception": false,
     "start_time": "2024-07-25T10:33:12.760148",
     "status": "completed"
    },
    "tags": []
   },
   "outputs": [],
   "source": [
    "# del X_ros, y_ros"
   ]
  },
  {
   "cell_type": "code",
   "execution_count": 45,
   "id": "831f43ad",
   "metadata": {
    "execution": {
     "iopub.execute_input": "2024-07-25T10:33:12.824485Z",
     "iopub.status.busy": "2024-07-25T10:33:12.824220Z",
     "iopub.status.idle": "2024-07-25T10:33:12.827665Z",
     "shell.execute_reply": "2024-07-25T10:33:12.826943Z"
    },
    "papermill": {
     "duration": 0.024941,
     "end_time": "2024-07-25T10:33:12.829443",
     "exception": false,
     "start_time": "2024-07-25T10:33:12.804502",
     "status": "completed"
    },
    "tags": []
   },
   "outputs": [],
   "source": [
    "# X_ros"
   ]
  },
  {
   "cell_type": "code",
   "execution_count": 46,
   "id": "a702fe01",
   "metadata": {
    "execution": {
     "iopub.execute_input": "2024-07-25T10:33:12.868571Z",
     "iopub.status.busy": "2024-07-25T10:33:12.868314Z",
     "iopub.status.idle": "2024-07-25T10:33:17.416004Z",
     "shell.execute_reply": "2024-07-25T10:33:17.415224Z"
    },
    "papermill": {
     "duration": 4.569887,
     "end_time": "2024-07-25T10:33:17.418334",
     "exception": false,
     "start_time": "2024-07-25T10:33:12.848447",
     "status": "completed"
    },
    "tags": []
   },
   "outputs": [],
   "source": [
    "class_weights = compute_class_weight('balanced', classes = np.unique(y), y=y)\n",
    "class_labels = np.unique(y)\n",
    "class_weights_dict = {class_labels[i]: class_weights[i] for i in range(len(class_weights))}"
   ]
  },
  {
   "cell_type": "code",
   "execution_count": 47,
   "id": "15b873a4",
   "metadata": {
    "execution": {
     "iopub.execute_input": "2024-07-25T10:33:17.458030Z",
     "iopub.status.busy": "2024-07-25T10:33:17.457719Z",
     "iopub.status.idle": "2024-07-25T10:33:17.509882Z",
     "shell.execute_reply": "2024-07-25T10:33:17.509088Z"
    },
    "papermill": {
     "duration": 0.074354,
     "end_time": "2024-07-25T10:33:17.512295",
     "exception": false,
     "start_time": "2024-07-25T10:33:17.437941",
     "status": "completed"
    },
    "tags": []
   },
   "outputs": [],
   "source": [
    "sample_weights = np.where(y==0, class_weights_dict[0], class_weights_dict[1],)"
   ]
  },
  {
   "cell_type": "code",
   "execution_count": 48,
   "id": "785667d4",
   "metadata": {
    "execution": {
     "iopub.execute_input": "2024-07-25T10:33:17.552770Z",
     "iopub.status.busy": "2024-07-25T10:33:17.552457Z",
     "iopub.status.idle": "2024-07-25T10:33:17.557727Z",
     "shell.execute_reply": "2024-07-25T10:33:17.556919Z"
    },
    "papermill": {
     "duration": 0.027374,
     "end_time": "2024-07-25T10:33:17.559688",
     "exception": false,
     "start_time": "2024-07-25T10:33:17.532314",
     "status": "completed"
    },
    "tags": []
   },
   "outputs": [
    {
     "data": {
      "text/plain": [
       "(11504798,)"
      ]
     },
     "execution_count": 48,
     "metadata": {},
     "output_type": "execute_result"
    }
   ],
   "source": [
    "sample_weights.shape"
   ]
  },
  {
   "cell_type": "code",
   "execution_count": 49,
   "id": "bc2f1666",
   "metadata": {
    "execution": {
     "iopub.execute_input": "2024-07-25T10:33:17.599251Z",
     "iopub.status.busy": "2024-07-25T10:33:17.598927Z",
     "iopub.status.idle": "2024-07-25T10:33:17.602848Z",
     "shell.execute_reply": "2024-07-25T10:33:17.601994Z"
    },
    "papermill": {
     "duration": 0.025823,
     "end_time": "2024-07-25T10:33:17.604821",
     "exception": false,
     "start_time": "2024-07-25T10:33:17.578998",
     "status": "completed"
    },
    "tags": []
   },
   "outputs": [],
   "source": [
    "# # Compile the model\n",
    "# model.compile(loss='binary_crossentropy', optimizer=keras.optimizers.SGD(learning_rate=0.55), metrics=['accuracy', keras.metrics.AUC()])\n",
    "\n",
    "# # Print the model summary\n",
    "# model.summary()"
   ]
  },
  {
   "cell_type": "code",
   "execution_count": 50,
   "id": "d4f86a9c",
   "metadata": {
    "execution": {
     "iopub.execute_input": "2024-07-25T10:33:17.644312Z",
     "iopub.status.busy": "2024-07-25T10:33:17.644046Z",
     "iopub.status.idle": "2024-07-25T10:33:17.647618Z",
     "shell.execute_reply": "2024-07-25T10:33:17.646823Z"
    },
    "papermill": {
     "duration": 0.025404,
     "end_time": "2024-07-25T10:33:17.649449",
     "exception": false,
     "start_time": "2024-07-25T10:33:17.624045",
     "status": "completed"
    },
    "tags": []
   },
   "outputs": [],
   "source": [
    "# history = model.fit(X_train,y_train,\n",
    "#                    epochs=100,\n",
    "#                    batch_size=10000,\n",
    "#                    sample_weight=sample_weights,\n",
    "#                    validation_data=(X_valid,y_valid))"
   ]
  },
  {
   "cell_type": "code",
   "execution_count": 51,
   "id": "faf3e90d",
   "metadata": {
    "execution": {
     "iopub.execute_input": "2024-07-25T10:33:17.689072Z",
     "iopub.status.busy": "2024-07-25T10:33:17.688779Z",
     "iopub.status.idle": "2024-07-25T10:33:17.692835Z",
     "shell.execute_reply": "2024-07-25T10:33:17.692009Z"
    },
    "papermill": {
     "duration": 0.026009,
     "end_time": "2024-07-25T10:33:17.694650",
     "exception": false,
     "start_time": "2024-07-25T10:33:17.668641",
     "status": "completed"
    },
    "tags": []
   },
   "outputs": [],
   "source": [
    "# model = Sequential([\n",
    "#     Dense(128, activation='mish'),\n",
    "#     layers.LayerNormalization(),\n",
    "#     Dense(64, activation='mish'),\n",
    "#     layers.LayerNormalization(),\n",
    "#     Dense(32, activation='mish'),\n",
    "#     layers.LayerNormalization(),\n",
    "#     Dense(16, activation='mish'),\n",
    "#     layers.LayerNormalization(),\n",
    "#     Dense(8, activation='mish'),\n",
    "#     layers.LayerNormalization(),\n",
    "#     Dense(1, activation='sigmoid')\n",
    "# ])\n",
    "\n",
    "# model.compile(optimizer = 'adam', loss='binary_crossentropy', metrics=['accuracy',tf.keras.metrics.AUC()])\n",
    "\n",
    "# model.summary()"
   ]
  },
  {
   "cell_type": "code",
   "execution_count": 52,
   "id": "05d692e2",
   "metadata": {
    "execution": {
     "iopub.execute_input": "2024-07-25T10:33:17.734194Z",
     "iopub.status.busy": "2024-07-25T10:33:17.733906Z",
     "iopub.status.idle": "2024-07-25T10:33:17.737352Z",
     "shell.execute_reply": "2024-07-25T10:33:17.736533Z"
    },
    "papermill": {
     "duration": 0.025397,
     "end_time": "2024-07-25T10:33:17.739262",
     "exception": false,
     "start_time": "2024-07-25T10:33:17.713865",
     "status": "completed"
    },
    "tags": []
   },
   "outputs": [],
   "source": [
    "# y_train.shape"
   ]
  },
  {
   "cell_type": "code",
   "execution_count": 53,
   "id": "08a28c2a",
   "metadata": {
    "execution": {
     "iopub.execute_input": "2024-07-25T10:33:17.779298Z",
     "iopub.status.busy": "2024-07-25T10:33:17.779041Z",
     "iopub.status.idle": "2024-07-25T10:33:17.782684Z",
     "shell.execute_reply": "2024-07-25T10:33:17.781908Z"
    },
    "papermill": {
     "duration": 0.025354,
     "end_time": "2024-07-25T10:33:17.784526",
     "exception": false,
     "start_time": "2024-07-25T10:33:17.759172",
     "status": "completed"
    },
    "tags": []
   },
   "outputs": [],
   "source": [
    "# history = model.fit(X_train,y_train,\n",
    "#                    epochs=50,\n",
    "#                    batch_size=10000,\n",
    "#                    sample_weight=sample_weights,\n",
    "#                    validation_data=(X_valid,y_valid))"
   ]
  },
  {
   "cell_type": "code",
   "execution_count": 54,
   "id": "a8d663de",
   "metadata": {
    "execution": {
     "iopub.execute_input": "2024-07-25T10:33:17.823977Z",
     "iopub.status.busy": "2024-07-25T10:33:17.823700Z",
     "iopub.status.idle": "2024-07-25T10:33:17.827153Z",
     "shell.execute_reply": "2024-07-25T10:33:17.826425Z"
    },
    "papermill": {
     "duration": 0.025037,
     "end_time": "2024-07-25T10:33:17.828906",
     "exception": false,
     "start_time": "2024-07-25T10:33:17.803869",
     "status": "completed"
    },
    "tags": []
   },
   "outputs": [],
   "source": [
    "# lgbm = LGBMClassifier(device='gpu', n_jobs=-1)\n",
    "# lgbm.fit(X_ros, y_ros)"
   ]
  },
  {
   "cell_type": "code",
   "execution_count": 55,
   "id": "b59502fa",
   "metadata": {
    "execution": {
     "iopub.execute_input": "2024-07-25T10:33:17.869062Z",
     "iopub.status.busy": "2024-07-25T10:33:17.868354Z",
     "iopub.status.idle": "2024-07-25T10:33:17.876787Z",
     "shell.execute_reply": "2024-07-25T10:33:17.875997Z"
    },
    "papermill": {
     "duration": 0.030316,
     "end_time": "2024-07-25T10:33:17.878644",
     "exception": false,
     "start_time": "2024-07-25T10:33:17.848328",
     "status": "completed"
    },
    "tags": []
   },
   "outputs": [],
   "source": [
    "xgb_params = {              \n",
    "    'objective': 'binary:logistic',\n",
    "    'eval_metric': 'auc',\n",
    "    'booster': 'gbtree',\n",
    "    'n_estimators': 1500,       \n",
    "    'learning_rate': 0.55,                   \n",
    "    'min_child_weight': 17,      \n",
    "    'reg_lambda': 0.2,           \n",
    "    'reg_alpha': 7,              \n",
    "    'max_bin': 52000,            \n",
    "    'colsample_bytree': 0.65,    \n",
    "    'max_delta_step': 2,         \n",
    "    'random_state': 0,\n",
    "    'tree_method': 'hist',\n",
    "    'device': 'cuda',\n",
    "    'n_jobs': -1,\n",
    "    'scale_pos_weight': class_weights_dict[1] \n",
    "}\n",
    "lgbm_params = {\n",
    "    'objective': 'binary',\n",
    "    'metric': 'auc',\n",
    "    'boosting_type': 'gbdt',\n",
    "    'num_boost_round': 1500,\n",
    "    'learning_rate': 0.55,\n",
    "    'min_child_samples': 17,\n",
    "    'lambda_l2': 0.2,\n",
    "    'lambda_l1': 7,\n",
    "    'max_bin': 255,\n",
    "    'feature_fraction': 0.65,\n",
    "    'random_state': 0,\n",
    "    'tree_learner': 'serial',  # 'serial' for CPU; 'data' or 'feature' for parallel learning\n",
    "    'device_type': 'gpu',  # Use 'gpu' if using GPU, else 'cpu'\n",
    "    'num_threads': -1,\n",
    "    'class_weight': 'balanced'\n",
    "}\n",
    "cat_params = {\n",
    "    'objective': 'Logloss',\n",
    "    'eval_metric': 'AUC',\n",
    "    'iterations': 1500,\n",
    "    'learning_rate': 0.55,\n",
    "    'depth': 6,  # Depth is analogous to max_depth in other GBMs; you might need to tune it\n",
    "    'l2_leaf_reg': 0.2,  # Analogous to reg_lambda\n",
    "    'random_seed': 0,\n",
    "    'task_type': 'GPU',  # 'GPU' for GPU training; 'CPU' for CPU\n",
    "    'thread_count': -1,\n",
    "    'class_weights': [class_weights_dict[0],class_weights_dict[1]]\n",
    "}"
   ]
  },
  {
   "cell_type": "code",
   "execution_count": 56,
   "id": "99fd3c00",
   "metadata": {
    "execution": {
     "iopub.execute_input": "2024-07-25T10:33:17.918832Z",
     "iopub.status.busy": "2024-07-25T10:33:17.918571Z",
     "iopub.status.idle": "2024-07-25T10:33:17.923213Z",
     "shell.execute_reply": "2024-07-25T10:33:17.922415Z"
    },
    "papermill": {
     "duration": 0.026879,
     "end_time": "2024-07-25T10:33:17.925004",
     "exception": false,
     "start_time": "2024-07-25T10:33:17.898125",
     "status": "completed"
    },
    "tags": []
   },
   "outputs": [],
   "source": [
    "# models = {\n",
    "# #     \"HistGradientBoosting\": HistGradientBoostingClassifier(class_weight='balanced'),\n",
    "# #     \"LightGBM\": LGBMClassifier(device='gpu', n_jobs=-1,class_weight= 'balanced'),\n",
    "# #     \"CatBoost\": CatBoostClassifier(task_type='GPU', thread_count=-1, class_weights= [class_weights_dict[0], class_weights_dict[1]]),\n",
    "#       \"XGBoost\": XGBClassifier(**xgb_params), # attained 0.8899 score\n",
    "# #     'Lightgbm': LGBMClassifier(**lgbm_params),\n",
    "# #     'Catboost': CatBoostClassifier(**cat_params)\n",
    "# }\n",
    "\n",
    "# # KFold cross-validation\n",
    "# kf = KFold(n_splits=3, shuffle=True, random_state=1)\n",
    "\n",
    "# # Dictionary to store results\n",
    "# roc_auc_results = {}\n",
    "# logloss_results = {}\n",
    "\n",
    "# X = X.reset_index(drop=True)\n",
    "# y = y.reset_index(drop=True)\n",
    "# # Evaluate each model\n",
    "# for name, model in models.items():\n",
    "#     roc_auc_list = []\n",
    "#     logloss_list = []\n",
    "#     for train_index, test_index in kf.split(X):\n",
    "#         X_train, X_test = X.iloc[train_index], X.iloc[test_index]\n",
    "#         y_train, y_test = y.iloc[train_index], y.iloc[test_index]\n",
    "#         model.fit(X_train, y_train)\n",
    "#         preds = model.predict_proba(X_test)[:,1]\n",
    "#         roc_auc = roc_auc_score(y_test, preds)\n",
    "#         roc_auc_list.append(roc_auc)\n",
    "#     roc_auc_results[name] = roc_auc_list\n",
    "#     print(f\"{name} - ROC AUC: {np.mean(roc_auc_list):.4f} (+/- {np.std(roc_auc_list):.4f})\")"
   ]
  },
  {
   "cell_type": "code",
   "execution_count": 57,
   "id": "738f7181",
   "metadata": {
    "execution": {
     "iopub.execute_input": "2024-07-25T10:33:17.964272Z",
     "iopub.status.busy": "2024-07-25T10:33:17.964011Z",
     "iopub.status.idle": "2024-07-25T10:33:17.967638Z",
     "shell.execute_reply": "2024-07-25T10:33:17.966922Z"
    },
    "papermill": {
     "duration": 0.025416,
     "end_time": "2024-07-25T10:33:17.969584",
     "exception": false,
     "start_time": "2024-07-25T10:33:17.944168",
     "status": "completed"
    },
    "tags": []
   },
   "outputs": [],
   "source": [
    "# X_ros = X_ros.reset_index(drop=True)\n",
    "# y_ros = y_ros.reset_index(drop=True)\n",
    "\n",
    "# # Print indices\n",
    "# print(f\"X_ros index:\\n{X_ros.index}\")\n",
    "# print(f\"y_ros index:\\n{y_ros.index}\")\n",
    "\n",
    "# # Evaluate each model\n",
    "# for fold, (train_index, test_index) in enumerate(kf.split(X_ros), 1):\n",
    "#     print(f\"\\nFold {fold}:\")\n",
    "#     print(f\"Train indices: {train_index}\")\n",
    "#     print(f\"Test indices: {test_index}\")"
   ]
  },
  {
   "cell_type": "code",
   "execution_count": 58,
   "id": "73d8191d",
   "metadata": {
    "execution": {
     "iopub.execute_input": "2024-07-25T10:33:18.009314Z",
     "iopub.status.busy": "2024-07-25T10:33:18.009058Z",
     "iopub.status.idle": "2024-07-25T10:33:18.012491Z",
     "shell.execute_reply": "2024-07-25T10:33:18.011688Z"
    },
    "papermill": {
     "duration": 0.025484,
     "end_time": "2024-07-25T10:33:18.014274",
     "exception": false,
     "start_time": "2024-07-25T10:33:17.988790",
     "status": "completed"
    },
    "tags": []
   },
   "outputs": [],
   "source": [
    "# roc_auc_results"
   ]
  },
  {
   "cell_type": "code",
   "execution_count": 59,
   "id": "dbfa7acf",
   "metadata": {
    "execution": {
     "iopub.execute_input": "2024-07-25T10:33:18.055330Z",
     "iopub.status.busy": "2024-07-25T10:33:18.055071Z",
     "iopub.status.idle": "2024-07-25T10:33:18.058907Z",
     "shell.execute_reply": "2024-07-25T10:33:18.058137Z"
    },
    "papermill": {
     "duration": 0.026234,
     "end_time": "2024-07-25T10:33:18.060810",
     "exception": false,
     "start_time": "2024-07-25T10:33:18.034576",
     "status": "completed"
    },
    "tags": []
   },
   "outputs": [],
   "source": [
    "# # Display summary of ROC AUC results\n",
    "# roc_auc_df = pd.DataFrame(roc_auc_results).T\n",
    "# roc_auc_df.columns = ['Fold 1', 'Fold 2', 'Fold 3']\n",
    "# roc_auc_df['Mean ROC AUC'] = roc_auc_df.mean(axis=1)\n",
    "# roc_auc_df['Std Dev'] = roc_auc_df.std(axis=1)\n",
    "\n",
    "# print(\"\\nSummary of ROC AUC results:\")\n",
    "# print(roc_auc_df)\n",
    "\n",
    "# # Display summary of log loss results\n",
    "# # logloss_df = pd.DataFrame(logloss_results).T\n",
    "# # logloss_df.columns = ['Fold 1', 'Fold 2', 'Fold 3']\n",
    "# # logloss_df['Mean Log Loss'] = logloss_df.mean(axis=1)\n",
    "# # logloss_df['Std Dev'] = logloss_df.std(axis=1)\n",
    "\n",
    "# # print(\"\\nSummary of LogLoss results:\")\n",
    "# # print(logloss_df)"
   ]
  },
  {
   "cell_type": "code",
   "execution_count": 60,
   "id": "a994f849",
   "metadata": {
    "execution": {
     "iopub.execute_input": "2024-07-25T10:33:18.100015Z",
     "iopub.status.busy": "2024-07-25T10:33:18.099733Z",
     "iopub.status.idle": "2024-07-25T10:33:18.104692Z",
     "shell.execute_reply": "2024-07-25T10:33:18.103890Z"
    },
    "papermill": {
     "duration": 0.026675,
     "end_time": "2024-07-25T10:33:18.106575",
     "exception": false,
     "start_time": "2024-07-25T10:33:18.079900",
     "status": "completed"
    },
    "tags": []
   },
   "outputs": [],
   "source": [
    "# Summary of ROC AUC results:\n",
    "#                         Fold 1    Fold 2    Fold 3  Mean ROC AUC   Std Dev\n",
    "# RandomForest          0.851484  0.852166  0.851353      0.851668  0.000356\n",
    "# AdaBoost              0.859190  0.859731  0.858918      0.859280  0.000338\n",
    "# GradientBoosting      0.865154  0.865599  0.864776      0.865176  0.000336\n",
    "# HistGradientBoosting  0.875041  0.875562  0.875206      0.875270  0.000218\n",
    "# ExtraTrees            0.841332  0.841713  0.841180      0.841408  0.000224\n",
    "# LightGBM              0.875722  0.876071  0.875340      0.875711  0.000298\n",
    "# CatBoost              0.870625  0.871408  0.870140      0.870724  0.000523\n",
    "# XGBoost               0.878114  0.878968  0.877698      0.878260  0.000528\n",
    "\n",
    "# Summary of LogLoss results:\n",
    "#                         Fold 1    Fold 2    Fold 3  Mean Log Loss   Std Dev\n",
    "# RandomForest          0.475906  0.474242  0.475362       0.475170  0.000693\n",
    "# AdaBoost              0.673588  0.673637  0.673632       0.673619  0.000022\n",
    "# GradientBoosting      0.413304  0.412833  0.413254       0.413130  0.000211\n",
    "# HistGradientBoosting  0.401352  0.400915  0.400952       0.401073  0.000198\n",
    "# ExtraTrees            0.647964  0.648817  0.657455       0.651412  0.004287\n",
    "# LightGBM              0.400750  0.400494  0.400831       0.400692  0.000143\n",
    "# CatBoost              0.405725  0.405028  0.405738       0.405497  0.000332\n",
    "# XGBoost               0.397448  0.396583  0.397677       0.397236  0.000471\n",
    "\n",
    "\n",
    "# summary of roc_auc results with no random over sampling with feature engineering\n",
    "# Summary of ROC AUC results:\n",
    "#                         Fold 1    Fold 2    Fold 3  Mean ROC AUC   Std Dev\n",
    "# HistGradientBoosting  0.875687  0.875219  0.875401      0.875436  0.000193\n",
    "# LightGBM              0.875538  0.875763  0.876056      0.875785  0.000212\n",
    "# CatBoost              0.870475  0.870682  0.870775      0.870644  0.000125\n",
    "# XGBoost               0.877918  0.878111  0.878382      0.878137  0.000191"
   ]
  },
  {
   "cell_type": "code",
   "execution_count": 61,
   "id": "a1e99ecb",
   "metadata": {
    "execution": {
     "iopub.execute_input": "2024-07-25T10:33:18.145984Z",
     "iopub.status.busy": "2024-07-25T10:33:18.145707Z",
     "iopub.status.idle": "2024-07-25T10:33:18.150320Z",
     "shell.execute_reply": "2024-07-25T10:33:18.149501Z"
    },
    "papermill": {
     "duration": 0.026491,
     "end_time": "2024-07-25T10:33:18.152245",
     "exception": false,
     "start_time": "2024-07-25T10:33:18.125754",
     "status": "completed"
    },
    "tags": []
   },
   "outputs": [],
   "source": [
    "# import matplotlib.pyplot as plt\n",
    "\n",
    "# save_dir = \"/kaggle/working/feature_importance_plots\"\n",
    "# os.makedirs(save_dir, exist_ok=True)\n",
    "\n",
    "# for name, model in models.items():\n",
    "#     plt.figure(figsize=(10, 5))\n",
    "    \n",
    "#     if hasattr(model, 'feature_importances_'):\n",
    "#         # For models that have feature_importances_ attribute (like RandomForestClassifier, ExtraTreesClassifier, etc.)\n",
    "#         feature_importances = model.feature_importances_\n",
    "#         plt.barh(X.columns, feature_importances)\n",
    "#         plt.title(f\"Feature importances for {name}\")\n",
    "#         plt.xlabel(\"Importance\")\n",
    "#         plt.ylabel(\"Feature\")\n",
    "#         plt.tight_layout()\n",
    "        \n",
    "#         # Save figure\n",
    "#         save_path = os.path.join(save_dir, f\"{name}_feature_importance.png\")\n",
    "#         plt.savefig(save_path)\n",
    "        \n",
    "#         # Display figure\n",
    "#         plt.show()\n",
    "        \n",
    "#     elif hasattr(model, 'plot_feature_importances'):\n",
    "#         # For HistGradientBoostingClassifier, CatBoostClassifier, etc. that provide plot_feature_importances() method\n",
    "#         model.plot_feature_importances()\n",
    "#         plt.title(f\"Feature importances for {name}\")\n",
    "#         plt.tight_layout()\n",
    "        \n",
    "#         # Save figure\n",
    "#         save_path = os.path.join(save_dir, f\"{name}_feature_importance.png\")\n",
    "#         plt.savefig(save_path)\n",
    "        \n",
    "#         # Display figure\n",
    "#         plt.show()\n",
    "        \n",
    "#     else:\n",
    "#         print(f\"{name} does not have feature importances available.\")"
   ]
  },
  {
   "cell_type": "code",
   "execution_count": 62,
   "id": "83b69571",
   "metadata": {
    "execution": {
     "iopub.execute_input": "2024-07-25T10:33:18.192022Z",
     "iopub.status.busy": "2024-07-25T10:33:18.191560Z",
     "iopub.status.idle": "2024-07-25T10:33:18.196525Z",
     "shell.execute_reply": "2024-07-25T10:33:18.195729Z"
    },
    "papermill": {
     "duration": 0.027072,
     "end_time": "2024-07-25T10:33:18.198389",
     "exception": false,
     "start_time": "2024-07-25T10:33:18.171317",
     "status": "completed"
    },
    "tags": []
   },
   "outputs": [],
   "source": [
    "# def objective(trial):\n",
    "#     # Define the hyperparameter search space\n",
    "#     param = {\n",
    "#         'objective': 'binary:logistic',\n",
    "#         'eval_metric': 'auc',\n",
    "#         'booster': 'gbtree',\n",
    "#         'n_estimators': trial.suggest_int('n_estimators', 1000, 2000),       \n",
    "#         'learning_rate': trial.suggest_float('learning_rate', 0.01, 0.55),                   \n",
    "#         'min_child_weight': trial.suggest_int('min_child_weight', 1, 20),      \n",
    "#         'reg_lambda': trial.suggest_float('reg_lambda', 0.1, 10.0),           \n",
    "#         'reg_alpha': trial.suggest_float('reg_alpha', 0.1, 10.0),              \n",
    "#         'max_bin': trial.suggest_int('max_bin', 100, 60000),            \n",
    "#         'colsample_bytree': trial.suggest_float('colsample_bytree', 0.1, 1.0),    \n",
    "#         'max_delta_step': trial.suggest_int('max_delta_step', 0, 10),         \n",
    "#         'random_state': 0,\n",
    "#         'tree_method': 'hist',\n",
    "#         'device': 'cuda',\n",
    "#         'n_jobs': -1,\n",
    "#         'scale_pos_weight': class_weights_dict[1] \n",
    "#     }\n",
    "    \n",
    "#     # Split data into training and validation sets\n",
    "#     X_train, X_val, y_train, y_val = train_test_split(X, y, test_size=0.2, random_state=0)\n",
    "    \n",
    "#     # Train the model\n",
    "#     model = XGBClassifier(**param)\n",
    "#     model.fit(X_train, y_train)\n",
    "    \n",
    "#     # Predict probabilities\n",
    "#     y_pred = model.predict_proba(X_val)[:, 1]\n",
    "    \n",
    "#     # Evaluate the model\n",
    "#     auc = roc_auc_score(y_val, y_pred)\n",
    "    \n",
    "#     return auc\n",
    "\n",
    "# # Create the study and optimize\n",
    "# study = optuna.create_study(direction='maximize')\n",
    "# study.optimize(objective, n_trials=50)  # You can adjust the number of trials\n",
    "\n",
    "# # Retrieve the best hyperparameters\n",
    "# best_params = study.best_params\n",
    "# print(\"Best hyperparameters: \", best_params)\n",
    "\n",
    "# # Train the final model with the best hyperparameters\n",
    "# best_model = XGBClassifier(**best_params)\n",
    "# best_model.fit(X, y)"
   ]
  },
  {
   "cell_type": "code",
   "execution_count": 63,
   "id": "422eb4a4",
   "metadata": {
    "execution": {
     "iopub.execute_input": "2024-07-25T10:33:18.237809Z",
     "iopub.status.busy": "2024-07-25T10:33:18.237575Z",
     "iopub.status.idle": "2024-07-25T10:33:18.241431Z",
     "shell.execute_reply": "2024-07-25T10:33:18.240657Z"
    },
    "papermill": {
     "duration": 0.025815,
     "end_time": "2024-07-25T10:33:18.243368",
     "exception": false,
     "start_time": "2024-07-25T10:33:18.217553",
     "status": "completed"
    },
    "tags": []
   },
   "outputs": [],
   "source": [
    "# dict1 = {\n",
    "#     \"a\":1,\n",
    "#     \"b\":2,\n",
    "#     \"c\":3,\n",
    "#     \"d\":4\n",
    "# }\n",
    "# dict2 = {}\n",
    "# list2 = [1,2,3,4]\n",
    "# for key, value in dict1.items():\n",
    "#     list1 = []\n",
    "#     for i in range(4):\n",
    "#         list1.append(list2[i])\n",
    "#     dict2[key] = list1\n",
    "    \n",
    "# print(dict2)"
   ]
  },
  {
   "cell_type": "code",
   "execution_count": 64,
   "id": "c381795a",
   "metadata": {
    "execution": {
     "iopub.execute_input": "2024-07-25T10:33:18.283315Z",
     "iopub.status.busy": "2024-07-25T10:33:18.282667Z",
     "iopub.status.idle": "2024-07-25T10:43:32.371912Z",
     "shell.execute_reply": "2024-07-25T10:43:32.370949Z"
    },
    "papermill": {
     "duration": 614.13474,
     "end_time": "2024-07-25T10:43:32.397360",
     "exception": false,
     "start_time": "2024-07-25T10:33:18.262620",
     "status": "completed"
    },
    "tags": []
   },
   "outputs": [
    {
     "data": {
      "text/html": [
       "<style>#sk-container-id-1 {color: black;background-color: white;}#sk-container-id-1 pre{padding: 0;}#sk-container-id-1 div.sk-toggleable {background-color: white;}#sk-container-id-1 label.sk-toggleable__label {cursor: pointer;display: block;width: 100%;margin-bottom: 0;padding: 0.3em;box-sizing: border-box;text-align: center;}#sk-container-id-1 label.sk-toggleable__label-arrow:before {content: \"▸\";float: left;margin-right: 0.25em;color: #696969;}#sk-container-id-1 label.sk-toggleable__label-arrow:hover:before {color: black;}#sk-container-id-1 div.sk-estimator:hover label.sk-toggleable__label-arrow:before {color: black;}#sk-container-id-1 div.sk-toggleable__content {max-height: 0;max-width: 0;overflow: hidden;text-align: left;background-color: #f0f8ff;}#sk-container-id-1 div.sk-toggleable__content pre {margin: 0.2em;color: black;border-radius: 0.25em;background-color: #f0f8ff;}#sk-container-id-1 input.sk-toggleable__control:checked~div.sk-toggleable__content {max-height: 200px;max-width: 100%;overflow: auto;}#sk-container-id-1 input.sk-toggleable__control:checked~label.sk-toggleable__label-arrow:before {content: \"▾\";}#sk-container-id-1 div.sk-estimator input.sk-toggleable__control:checked~label.sk-toggleable__label {background-color: #d4ebff;}#sk-container-id-1 div.sk-label input.sk-toggleable__control:checked~label.sk-toggleable__label {background-color: #d4ebff;}#sk-container-id-1 input.sk-hidden--visually {border: 0;clip: rect(1px 1px 1px 1px);clip: rect(1px, 1px, 1px, 1px);height: 1px;margin: -1px;overflow: hidden;padding: 0;position: absolute;width: 1px;}#sk-container-id-1 div.sk-estimator {font-family: monospace;background-color: #f0f8ff;border: 1px dotted black;border-radius: 0.25em;box-sizing: border-box;margin-bottom: 0.5em;}#sk-container-id-1 div.sk-estimator:hover {background-color: #d4ebff;}#sk-container-id-1 div.sk-parallel-item::after {content: \"\";width: 100%;border-bottom: 1px solid gray;flex-grow: 1;}#sk-container-id-1 div.sk-label:hover label.sk-toggleable__label {background-color: #d4ebff;}#sk-container-id-1 div.sk-serial::before {content: \"\";position: absolute;border-left: 1px solid gray;box-sizing: border-box;top: 0;bottom: 0;left: 50%;z-index: 0;}#sk-container-id-1 div.sk-serial {display: flex;flex-direction: column;align-items: center;background-color: white;padding-right: 0.2em;padding-left: 0.2em;position: relative;}#sk-container-id-1 div.sk-item {position: relative;z-index: 1;}#sk-container-id-1 div.sk-parallel {display: flex;align-items: stretch;justify-content: center;background-color: white;position: relative;}#sk-container-id-1 div.sk-item::before, #sk-container-id-1 div.sk-parallel-item::before {content: \"\";position: absolute;border-left: 1px solid gray;box-sizing: border-box;top: 0;bottom: 0;left: 50%;z-index: -1;}#sk-container-id-1 div.sk-parallel-item {display: flex;flex-direction: column;z-index: 1;position: relative;background-color: white;}#sk-container-id-1 div.sk-parallel-item:first-child::after {align-self: flex-end;width: 50%;}#sk-container-id-1 div.sk-parallel-item:last-child::after {align-self: flex-start;width: 50%;}#sk-container-id-1 div.sk-parallel-item:only-child::after {width: 0;}#sk-container-id-1 div.sk-dashed-wrapped {border: 1px dashed gray;margin: 0 0.4em 0.5em 0.4em;box-sizing: border-box;padding-bottom: 0.4em;background-color: white;}#sk-container-id-1 div.sk-label label {font-family: monospace;font-weight: bold;display: inline-block;line-height: 1.2em;}#sk-container-id-1 div.sk-label-container {text-align: center;}#sk-container-id-1 div.sk-container {/* jupyter's `normalize.less` sets `[hidden] { display: none; }` but bootstrap.min.css set `[hidden] { display: none !important; }` so we also need the `!important` here to be able to override the default hidden behavior on the sphinx rendered scikit-learn.org. See: https://github.com/scikit-learn/scikit-learn/issues/21755 */display: inline-block !important;position: relative;}#sk-container-id-1 div.sk-text-repr-fallback {display: none;}</style><div id=\"sk-container-id-1\" class=\"sk-top-container\"><div class=\"sk-text-repr-fallback\"><pre>XGBClassifier(base_score=None, booster=&#x27;gbtree&#x27;, callbacks=None,\n",
       "              colsample_bylevel=None, colsample_bynode=None,\n",
       "              colsample_bytree=0.7110267255919047, device=&#x27;cuda&#x27;,\n",
       "              early_stopping_rounds=None, enable_categorical=False,\n",
       "              eval_metric=&#x27;auc&#x27;, feature_types=None, gamma=None,\n",
       "              grow_policy=None, importance_type=None,\n",
       "              interaction_constraints=None, learning_rate=0.31581996209523133,\n",
       "              max_bin=59883, max_cat_threshold=None, max_cat_to_onehot=None,\n",
       "              max_delta_step=10, max_depth=None, max_leaves=None,\n",
       "              min_child_weight=11, missing=nan, monotone_constraints=None,\n",
       "              multi_strategy=None, n_estimators=1924, n_jobs=-1,\n",
       "              num_parallel_tree=None, random_state=0, ...)</pre><b>In a Jupyter environment, please rerun this cell to show the HTML representation or trust the notebook. <br />On GitHub, the HTML representation is unable to render, please try loading this page with nbviewer.org.</b></div><div class=\"sk-container\" hidden><div class=\"sk-item\"><div class=\"sk-estimator sk-toggleable\"><input class=\"sk-toggleable__control sk-hidden--visually\" id=\"sk-estimator-id-1\" type=\"checkbox\" checked><label for=\"sk-estimator-id-1\" class=\"sk-toggleable__label sk-toggleable__label-arrow\">XGBClassifier</label><div class=\"sk-toggleable__content\"><pre>XGBClassifier(base_score=None, booster=&#x27;gbtree&#x27;, callbacks=None,\n",
       "              colsample_bylevel=None, colsample_bynode=None,\n",
       "              colsample_bytree=0.7110267255919047, device=&#x27;cuda&#x27;,\n",
       "              early_stopping_rounds=None, enable_categorical=False,\n",
       "              eval_metric=&#x27;auc&#x27;, feature_types=None, gamma=None,\n",
       "              grow_policy=None, importance_type=None,\n",
       "              interaction_constraints=None, learning_rate=0.31581996209523133,\n",
       "              max_bin=59883, max_cat_threshold=None, max_cat_to_onehot=None,\n",
       "              max_delta_step=10, max_depth=None, max_leaves=None,\n",
       "              min_child_weight=11, missing=nan, monotone_constraints=None,\n",
       "              multi_strategy=None, n_estimators=1924, n_jobs=-1,\n",
       "              num_parallel_tree=None, random_state=0, ...)</pre></div></div></div></div></div>"
      ],
      "text/plain": [
       "XGBClassifier(base_score=None, booster='gbtree', callbacks=None,\n",
       "              colsample_bylevel=None, colsample_bynode=None,\n",
       "              colsample_bytree=0.7110267255919047, device='cuda',\n",
       "              early_stopping_rounds=None, enable_categorical=False,\n",
       "              eval_metric='auc', feature_types=None, gamma=None,\n",
       "              grow_policy=None, importance_type=None,\n",
       "              interaction_constraints=None, learning_rate=0.31581996209523133,\n",
       "              max_bin=59883, max_cat_threshold=None, max_cat_to_onehot=None,\n",
       "              max_delta_step=10, max_depth=None, max_leaves=None,\n",
       "              min_child_weight=11, missing=nan, monotone_constraints=None,\n",
       "              multi_strategy=None, n_estimators=1924, n_jobs=-1,\n",
       "              num_parallel_tree=None, random_state=0, ...)"
      ]
     },
     "execution_count": 64,
     "metadata": {},
     "output_type": "execute_result"
    }
   ],
   "source": [
    "best_model = XGBClassifier(\n",
    "    objective='binary:logistic',\n",
    "    eval_metric='auc',\n",
    "    booster='gbtree',\n",
    "    colsample_bytree=0.7110267255919047,\n",
    "    learning_rate=0.31581996209523133,\n",
    "    max_bin=59883,\n",
    "    max_delta_step=10,\n",
    "    min_child_weight=11,\n",
    "    missing=np.nan,\n",
    "    n_estimators=1924,\n",
    "    random_state=0,\n",
    "    tree_method='hist',\n",
    "    device='cuda',\n",
    "    n_jobs=-1,\n",
    "    scale_pos_weight=class_weights_dict[1]\n",
    ")\n",
    "\n",
    "best_model.fit(X, y)"
   ]
  },
  {
   "cell_type": "code",
   "execution_count": 65,
   "id": "f332ec6f",
   "metadata": {
    "execution": {
     "iopub.execute_input": "2024-07-25T10:43:32.438379Z",
     "iopub.status.busy": "2024-07-25T10:43:32.438072Z",
     "iopub.status.idle": "2024-07-25T10:43:42.055903Z",
     "shell.execute_reply": "2024-07-25T10:43:42.054914Z"
    },
    "papermill": {
     "duration": 9.640769,
     "end_time": "2024-07-25T10:43:42.058146",
     "exception": false,
     "start_time": "2024-07-25T10:43:32.417377",
     "status": "completed"
    },
    "tags": []
   },
   "outputs": [],
   "source": [
    "new_test = pd.read_csv(\"/kaggle/input/playground-series-s4e7/test.csv\")\n",
    "idx = new_test[\"id\"]"
   ]
  },
  {
   "cell_type": "code",
   "execution_count": 66,
   "id": "02e28949",
   "metadata": {
    "execution": {
     "iopub.execute_input": "2024-07-25T10:43:42.099711Z",
     "iopub.status.busy": "2024-07-25T10:43:42.099412Z",
     "iopub.status.idle": "2024-07-25T10:43:42.103131Z",
     "shell.execute_reply": "2024-07-25T10:43:42.102339Z"
    },
    "papermill": {
     "duration": 0.0261,
     "end_time": "2024-07-25T10:43:42.104993",
     "exception": false,
     "start_time": "2024-07-25T10:43:42.078893",
     "status": "completed"
    },
    "tags": []
   },
   "outputs": [],
   "source": [
    "# lgbm_preds"
   ]
  },
  {
   "cell_type": "code",
   "execution_count": 67,
   "id": "20921c0d",
   "metadata": {
    "execution": {
     "iopub.execute_input": "2024-07-25T10:43:42.145402Z",
     "iopub.status.busy": "2024-07-25T10:43:42.145114Z",
     "iopub.status.idle": "2024-07-25T10:43:42.148589Z",
     "shell.execute_reply": "2024-07-25T10:43:42.147809Z"
    },
    "papermill": {
     "duration": 0.025986,
     "end_time": "2024-07-25T10:43:42.150460",
     "exception": false,
     "start_time": "2024-07-25T10:43:42.124474",
     "status": "completed"
    },
    "tags": []
   },
   "outputs": [],
   "source": [
    "# xgb = XGBClassifier(tree_method='gpu_hist', n_jobs=-1)\n",
    "# xgb.fit(X_ros, y_ros)"
   ]
  },
  {
   "cell_type": "code",
   "execution_count": 68,
   "id": "8cdb1518",
   "metadata": {
    "execution": {
     "iopub.execute_input": "2024-07-25T10:43:42.192328Z",
     "iopub.status.busy": "2024-07-25T10:43:42.192065Z",
     "iopub.status.idle": "2024-07-25T10:43:47.433704Z",
     "shell.execute_reply": "2024-07-25T10:43:47.432878Z"
    },
    "papermill": {
     "duration": 5.265856,
     "end_time": "2024-07-25T10:43:47.436157",
     "exception": false,
     "start_time": "2024-07-25T10:43:42.170301",
     "status": "completed"
    },
    "tags": []
   },
   "outputs": [
    {
     "name": "stderr",
     "output_type": "stream",
     "text": [
      "/opt/conda/lib/python3.10/site-packages/xgboost/core.py:160: UserWarning: [10:43:42] WARNING: /workspace/src/common/error_msg.cc:58: Falling back to prediction using DMatrix due to mismatched devices. This might lead to higher memory usage and slower performance. XGBoost is running on: cuda:0, while the input data is on: cpu.\n",
      "Potential solutions:\n",
      "- Use a data structure that matches the device ordinal in the booster.\n",
      "- Set the device for booster before call to inplace_predict.\n",
      "\n",
      "This warning will only be shown once.\n",
      "\n",
      "  warnings.warn(smsg, UserWarning)\n"
     ]
    }
   ],
   "source": [
    "xgb_preds = best_model.predict_proba(test)[:,1]"
   ]
  },
  {
   "cell_type": "code",
   "execution_count": 69,
   "id": "1663e221",
   "metadata": {
    "execution": {
     "iopub.execute_input": "2024-07-25T10:43:47.478953Z",
     "iopub.status.busy": "2024-07-25T10:43:47.478211Z",
     "iopub.status.idle": "2024-07-25T10:44:04.377937Z",
     "shell.execute_reply": "2024-07-25T10:44:04.377169Z"
    },
    "papermill": {
     "duration": 16.922943,
     "end_time": "2024-07-25T10:44:04.380248",
     "exception": false,
     "start_time": "2024-07-25T10:43:47.457305",
     "status": "completed"
    },
    "tags": []
   },
   "outputs": [],
   "source": [
    "result = pd.DataFrame({\n",
    "    \"id\":idx,\n",
    "    \"Response\":xgb_preds\n",
    "})\n",
    "result.to_csv(\"submission.csv\", index=False)"
   ]
  },
  {
   "cell_type": "code",
   "execution_count": 70,
   "id": "bc251170",
   "metadata": {
    "execution": {
     "iopub.execute_input": "2024-07-25T10:44:04.421855Z",
     "iopub.status.busy": "2024-07-25T10:44:04.421572Z",
     "iopub.status.idle": "2024-07-25T10:44:04.425487Z",
     "shell.execute_reply": "2024-07-25T10:44:04.424619Z"
    },
    "papermill": {
     "duration": 0.027014,
     "end_time": "2024-07-25T10:44:04.427629",
     "exception": false,
     "start_time": "2024-07-25T10:44:04.400615",
     "status": "completed"
    },
    "tags": []
   },
   "outputs": [],
   "source": [
    "# roc_score = roc_auc_score(y_valid, lgbm_preds)\n",
    "# print(roc_score)"
   ]
  },
  {
   "cell_type": "code",
   "execution_count": 71,
   "id": "9bb4fa14",
   "metadata": {
    "execution": {
     "iopub.execute_input": "2024-07-25T10:44:04.468551Z",
     "iopub.status.busy": "2024-07-25T10:44:04.468280Z",
     "iopub.status.idle": "2024-07-25T10:44:04.471765Z",
     "shell.execute_reply": "2024-07-25T10:44:04.470952Z"
    },
    "papermill": {
     "duration": 0.026045,
     "end_time": "2024-07-25T10:44:04.473612",
     "exception": false,
     "start_time": "2024-07-25T10:44:04.447567",
     "status": "completed"
    },
    "tags": []
   },
   "outputs": [],
   "source": [
    "# hgbc = HistaGradientBoostingClassifier(n_jobs=-1)\n",
    "# hgbc.fit(X, y)"
   ]
  }
 ],
 "metadata": {
  "kaggle": {
   "accelerator": "none",
   "dataSources": [
    {
     "databundleVersionId": 8930475,
     "sourceId": 73291,
     "sourceType": "competition"
    }
   ],
   "isGpuEnabled": false,
   "isInternetEnabled": true,
   "language": "python",
   "sourceType": "notebook"
  },
  "kernelspec": {
   "display_name": "Python 3",
   "language": "python",
   "name": "python3"
  },
  "language_info": {
   "codemirror_mode": {
    "name": "ipython",
    "version": 3
   },
   "file_extension": ".py",
   "mimetype": "text/x-python",
   "name": "python",
   "nbconvert_exporter": "python",
   "pygments_lexer": "ipython3",
   "version": "3.10.13"
  },
  "papermill": {
   "default_parameters": {},
   "duration": 724.42745,
   "end_time": "2024-07-25T10:44:07.015412",
   "environment_variables": {},
   "exception": null,
   "input_path": "__notebook__.ipynb",
   "output_path": "__notebook__.ipynb",
   "parameters": {},
   "start_time": "2024-07-25T10:32:02.587962",
   "version": "2.5.0"
  }
 },
 "nbformat": 4,
 "nbformat_minor": 5
}
