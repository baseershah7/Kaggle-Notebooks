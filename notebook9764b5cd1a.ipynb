{
 "cells": [
  {
   "cell_type": "code",
   "execution_count": 1,
   "id": "0b02f804",
   "metadata": {
    "_cell_guid": "b1076dfc-b9ad-4769-8c92-a6c4dae69d19",
    "_uuid": "8f2839f25d086af736a60e9eeb907d3b93b6e0e5",
    "execution": {
     "iopub.execute_input": "2024-07-24T21:12:05.258199Z",
     "iopub.status.busy": "2024-07-24T21:12:05.257381Z",
     "iopub.status.idle": "2024-07-24T21:12:23.072344Z",
     "shell.execute_reply": "2024-07-24T21:12:23.071108Z"
    },
    "papermill": {
     "duration": 17.837822,
     "end_time": "2024-07-24T21:12:23.075091",
     "exception": false,
     "start_time": "2024-07-24T21:12:05.237269",
     "status": "completed"
    },
    "tags": []
   },
   "outputs": [
    {
     "name": "stderr",
     "output_type": "stream",
     "text": [
      "2024-07-24 21:12:07.860591: E external/local_xla/xla/stream_executor/cuda/cuda_dnn.cc:9261] Unable to register cuDNN factory: Attempting to register factory for plugin cuDNN when one has already been registered\n",
      "2024-07-24 21:12:07.860701: E external/local_xla/xla/stream_executor/cuda/cuda_fft.cc:607] Unable to register cuFFT factory: Attempting to register factory for plugin cuFFT when one has already been registered\n",
      "2024-07-24 21:12:07.994655: E external/local_xla/xla/stream_executor/cuda/cuda_blas.cc:1515] Unable to register cuBLAS factory: Attempting to register factory for plugin cuBLAS when one has already been registered\n"
     ]
    },
    {
     "name": "stdout",
     "output_type": "stream",
     "text": [
      "/kaggle/input/playground-series-s4e7/sample_submission.csv\n",
      "/kaggle/input/playground-series-s4e7/train.csv\n",
      "/kaggle/input/playground-series-s4e7/test.csv\n"
     ]
    }
   ],
   "source": [
    "# This Python 3 environment comes with many helpful analytics libraries installed\n",
    "# It is defined by the kaggle/python Docker image: https://github.com/kaggle/docker-python\n",
    "# For example, here's several helpful packages to load\n",
    "# import cudf\n",
    "# %load_ext cudf.pandas\n",
    "import numpy as np # linear algebra\n",
    "import pandas as pd # data processing, CSV file I/O (e.g. pd.read_csv)\n",
    "import tensorflow as tf\n",
    "import optuna\n",
    "import tensorflow.keras as keras\n",
    "from tensorflow.keras.models import Sequential\n",
    "from tensorflow.keras.layers import Dense, Normalization, Dropout\n",
    "from tensorflow.keras import layers\n",
    "from tensorflow.keras.optimizers import Adam\n",
    "from tensorflow.keras.callbacks import EarlyStopping\n",
    "from sklearn.utils.class_weight import compute_class_weight\n",
    "from sklearn.ensemble import HistGradientBoostingClassifier\n",
    "from sklearn.preprocessing import OrdinalEncoder, StandardScaler, RobustScaler, MinMaxScaler\n",
    "from sklearn.metrics import roc_auc_score, log_loss\n",
    "from sklearn.ensemble import RandomForestClassifier, AdaBoostClassifier, GradientBoostingClassifier, HistGradientBoostingClassifier, ExtraTreesClassifier\n",
    "from lightgbm import LGBMClassifier\n",
    "from catboost import CatBoostClassifier\n",
    "from xgboost import XGBClassifier\n",
    "from imblearn.over_sampling import RandomOverSampler, SMOTE\n",
    "from imblearn.under_sampling import RandomUnderSampler, NearMiss\n",
    "from sklearn.model_selection import train_test_split, KFold\n",
    "# Input data files are available in the read-only \"../input/\" directory\n",
    "# For example, running this (by clicking run or pressing Shift+Enter) will list all files under the input directory\n",
    "\n",
    "import os\n",
    "for dirname, _, filenames in os.walk('/kaggle/input'):\n",
    "    for filename in filenames:\n",
    "        print(os.path.join(dirname, filename))\n",
    "\n",
    "# You can write up to 20GB to the current directory (/kaggle/working/) that gets preserved as output when you create a version using \"Save & Run All\" \n",
    "# You can also write temporary files to /kaggle/temp/, but they won't be saved outside of the current session"
   ]
  },
  {
   "cell_type": "code",
   "execution_count": 2,
   "id": "fa9869c2",
   "metadata": {
    "execution": {
     "iopub.execute_input": "2024-07-24T21:12:23.119872Z",
     "iopub.status.busy": "2024-07-24T21:12:23.119085Z",
     "iopub.status.idle": "2024-07-24T21:12:58.314309Z",
     "shell.execute_reply": "2024-07-24T21:12:58.313274Z"
    },
    "papermill": {
     "duration": 35.238172,
     "end_time": "2024-07-24T21:12:58.334589",
     "exception": false,
     "start_time": "2024-07-24T21:12:23.096417",
     "status": "completed"
    },
    "tags": []
   },
   "outputs": [
    {
     "name": "stdout",
     "output_type": "stream",
     "text": [
      "train loading time is:  21.165302991867065\n",
      "test loading time is:  14.022817373275757\n"
     ]
    }
   ],
   "source": [
    "import time\n",
    "start_time = time.time()\n",
    "train = pd.read_csv(\"/kaggle/input/playground-series-s4e7/train.csv\", index_col=[0])\n",
    "time_now = time.time() - start_time\n",
    "print(\"train loading time is: \",time_now)\n",
    "start_time = time.time()\n",
    "test = pd.read_csv(\"/kaggle/input/playground-series-s4e7/test.csv\", index_col=[0])\n",
    "time_now = time.time() - start_time\n",
    "print(\"test loading time is: \",time_now)"
   ]
  },
  {
   "cell_type": "code",
   "execution_count": 3,
   "id": "660a0e52",
   "metadata": {
    "execution": {
     "iopub.execute_input": "2024-07-24T21:12:58.372708Z",
     "iopub.status.busy": "2024-07-24T21:12:58.372061Z",
     "iopub.status.idle": "2024-07-24T21:12:58.940463Z",
     "shell.execute_reply": "2024-07-24T21:12:58.939624Z"
    },
    "papermill": {
     "duration": 0.590046,
     "end_time": "2024-07-24T21:12:58.942769",
     "exception": false,
     "start_time": "2024-07-24T21:12:58.352723",
     "status": "completed"
    },
    "tags": []
   },
   "outputs": [],
   "source": [
    "X = train.copy()\n",
    "y = X.pop(\"Response\")"
   ]
  },
  {
   "cell_type": "code",
   "execution_count": 4,
   "id": "e84ca892",
   "metadata": {
    "execution": {
     "iopub.execute_input": "2024-07-24T21:12:58.982943Z",
     "iopub.status.busy": "2024-07-24T21:12:58.981772Z",
     "iopub.status.idle": "2024-07-24T21:12:58.986337Z",
     "shell.execute_reply": "2024-07-24T21:12:58.985569Z"
    },
    "papermill": {
     "duration": 0.026057,
     "end_time": "2024-07-24T21:12:58.988266",
     "exception": false,
     "start_time": "2024-07-24T21:12:58.962209",
     "status": "completed"
    },
    "tags": []
   },
   "outputs": [],
   "source": [
    "# train.loc[X['Driving_License'] == 0]"
   ]
  },
  {
   "cell_type": "code",
   "execution_count": 5,
   "id": "739492ce",
   "metadata": {
    "execution": {
     "iopub.execute_input": "2024-07-24T21:12:59.028478Z",
     "iopub.status.busy": "2024-07-24T21:12:59.028160Z",
     "iopub.status.idle": "2024-07-24T21:12:59.056850Z",
     "shell.execute_reply": "2024-07-24T21:12:59.055954Z"
    },
    "papermill": {
     "duration": 0.051071,
     "end_time": "2024-07-24T21:12:59.058858",
     "exception": false,
     "start_time": "2024-07-24T21:12:59.007787",
     "status": "completed"
    },
    "tags": []
   },
   "outputs": [
    {
     "data": {
      "text/html": [
       "<div>\n",
       "<style scoped>\n",
       "    .dataframe tbody tr th:only-of-type {\n",
       "        vertical-align: middle;\n",
       "    }\n",
       "\n",
       "    .dataframe tbody tr th {\n",
       "        vertical-align: top;\n",
       "    }\n",
       "\n",
       "    .dataframe thead th {\n",
       "        text-align: right;\n",
       "    }\n",
       "</style>\n",
       "<table border=\"1\" class=\"dataframe\">\n",
       "  <thead>\n",
       "    <tr style=\"text-align: right;\">\n",
       "      <th></th>\n",
       "      <th>Gender</th>\n",
       "      <th>Age</th>\n",
       "      <th>Driving_License</th>\n",
       "      <th>Region_Code</th>\n",
       "      <th>Previously_Insured</th>\n",
       "      <th>Vehicle_Age</th>\n",
       "      <th>Vehicle_Damage</th>\n",
       "      <th>Annual_Premium</th>\n",
       "      <th>Policy_Sales_Channel</th>\n",
       "      <th>Vintage</th>\n",
       "    </tr>\n",
       "    <tr>\n",
       "      <th>id</th>\n",
       "      <th></th>\n",
       "      <th></th>\n",
       "      <th></th>\n",
       "      <th></th>\n",
       "      <th></th>\n",
       "      <th></th>\n",
       "      <th></th>\n",
       "      <th></th>\n",
       "      <th></th>\n",
       "      <th></th>\n",
       "    </tr>\n",
       "  </thead>\n",
       "  <tbody>\n",
       "    <tr>\n",
       "      <th>0</th>\n",
       "      <td>Male</td>\n",
       "      <td>21</td>\n",
       "      <td>1</td>\n",
       "      <td>35.0</td>\n",
       "      <td>0</td>\n",
       "      <td>1-2 Year</td>\n",
       "      <td>Yes</td>\n",
       "      <td>65101.0</td>\n",
       "      <td>124.0</td>\n",
       "      <td>187</td>\n",
       "    </tr>\n",
       "    <tr>\n",
       "      <th>1</th>\n",
       "      <td>Male</td>\n",
       "      <td>43</td>\n",
       "      <td>1</td>\n",
       "      <td>28.0</td>\n",
       "      <td>0</td>\n",
       "      <td>&gt; 2 Years</td>\n",
       "      <td>Yes</td>\n",
       "      <td>58911.0</td>\n",
       "      <td>26.0</td>\n",
       "      <td>288</td>\n",
       "    </tr>\n",
       "    <tr>\n",
       "      <th>2</th>\n",
       "      <td>Female</td>\n",
       "      <td>25</td>\n",
       "      <td>1</td>\n",
       "      <td>14.0</td>\n",
       "      <td>1</td>\n",
       "      <td>&lt; 1 Year</td>\n",
       "      <td>No</td>\n",
       "      <td>38043.0</td>\n",
       "      <td>152.0</td>\n",
       "      <td>254</td>\n",
       "    </tr>\n",
       "    <tr>\n",
       "      <th>3</th>\n",
       "      <td>Female</td>\n",
       "      <td>35</td>\n",
       "      <td>1</td>\n",
       "      <td>1.0</td>\n",
       "      <td>0</td>\n",
       "      <td>1-2 Year</td>\n",
       "      <td>Yes</td>\n",
       "      <td>2630.0</td>\n",
       "      <td>156.0</td>\n",
       "      <td>76</td>\n",
       "    </tr>\n",
       "    <tr>\n",
       "      <th>4</th>\n",
       "      <td>Female</td>\n",
       "      <td>36</td>\n",
       "      <td>1</td>\n",
       "      <td>15.0</td>\n",
       "      <td>1</td>\n",
       "      <td>1-2 Year</td>\n",
       "      <td>No</td>\n",
       "      <td>31951.0</td>\n",
       "      <td>152.0</td>\n",
       "      <td>294</td>\n",
       "    </tr>\n",
       "    <tr>\n",
       "      <th>...</th>\n",
       "      <td>...</td>\n",
       "      <td>...</td>\n",
       "      <td>...</td>\n",
       "      <td>...</td>\n",
       "      <td>...</td>\n",
       "      <td>...</td>\n",
       "      <td>...</td>\n",
       "      <td>...</td>\n",
       "      <td>...</td>\n",
       "      <td>...</td>\n",
       "    </tr>\n",
       "    <tr>\n",
       "      <th>11504793</th>\n",
       "      <td>Male</td>\n",
       "      <td>48</td>\n",
       "      <td>1</td>\n",
       "      <td>6.0</td>\n",
       "      <td>0</td>\n",
       "      <td>1-2 Year</td>\n",
       "      <td>Yes</td>\n",
       "      <td>27412.0</td>\n",
       "      <td>26.0</td>\n",
       "      <td>218</td>\n",
       "    </tr>\n",
       "    <tr>\n",
       "      <th>11504794</th>\n",
       "      <td>Female</td>\n",
       "      <td>26</td>\n",
       "      <td>1</td>\n",
       "      <td>36.0</td>\n",
       "      <td>0</td>\n",
       "      <td>&lt; 1 Year</td>\n",
       "      <td>Yes</td>\n",
       "      <td>29509.0</td>\n",
       "      <td>152.0</td>\n",
       "      <td>115</td>\n",
       "    </tr>\n",
       "    <tr>\n",
       "      <th>11504795</th>\n",
       "      <td>Female</td>\n",
       "      <td>29</td>\n",
       "      <td>1</td>\n",
       "      <td>32.0</td>\n",
       "      <td>1</td>\n",
       "      <td>&lt; 1 Year</td>\n",
       "      <td>No</td>\n",
       "      <td>2630.0</td>\n",
       "      <td>152.0</td>\n",
       "      <td>189</td>\n",
       "    </tr>\n",
       "    <tr>\n",
       "      <th>11504796</th>\n",
       "      <td>Female</td>\n",
       "      <td>51</td>\n",
       "      <td>1</td>\n",
       "      <td>28.0</td>\n",
       "      <td>0</td>\n",
       "      <td>1-2 Year</td>\n",
       "      <td>Yes</td>\n",
       "      <td>48443.0</td>\n",
       "      <td>26.0</td>\n",
       "      <td>274</td>\n",
       "    </tr>\n",
       "    <tr>\n",
       "      <th>11504797</th>\n",
       "      <td>Male</td>\n",
       "      <td>25</td>\n",
       "      <td>1</td>\n",
       "      <td>28.0</td>\n",
       "      <td>1</td>\n",
       "      <td>&lt; 1 Year</td>\n",
       "      <td>No</td>\n",
       "      <td>32855.0</td>\n",
       "      <td>152.0</td>\n",
       "      <td>189</td>\n",
       "    </tr>\n",
       "  </tbody>\n",
       "</table>\n",
       "<p>11504798 rows × 10 columns</p>\n",
       "</div>"
      ],
      "text/plain": [
       "          Gender  Age  Driving_License  Region_Code  Previously_Insured  \\\n",
       "id                                                                        \n",
       "0           Male   21                1         35.0                   0   \n",
       "1           Male   43                1         28.0                   0   \n",
       "2         Female   25                1         14.0                   1   \n",
       "3         Female   35                1          1.0                   0   \n",
       "4         Female   36                1         15.0                   1   \n",
       "...          ...  ...              ...          ...                 ...   \n",
       "11504793    Male   48                1          6.0                   0   \n",
       "11504794  Female   26                1         36.0                   0   \n",
       "11504795  Female   29                1         32.0                   1   \n",
       "11504796  Female   51                1         28.0                   0   \n",
       "11504797    Male   25                1         28.0                   1   \n",
       "\n",
       "         Vehicle_Age Vehicle_Damage  Annual_Premium  Policy_Sales_Channel  \\\n",
       "id                                                                          \n",
       "0           1-2 Year            Yes         65101.0                 124.0   \n",
       "1          > 2 Years            Yes         58911.0                  26.0   \n",
       "2           < 1 Year             No         38043.0                 152.0   \n",
       "3           1-2 Year            Yes          2630.0                 156.0   \n",
       "4           1-2 Year             No         31951.0                 152.0   \n",
       "...              ...            ...             ...                   ...   \n",
       "11504793    1-2 Year            Yes         27412.0                  26.0   \n",
       "11504794    < 1 Year            Yes         29509.0                 152.0   \n",
       "11504795    < 1 Year             No          2630.0                 152.0   \n",
       "11504796    1-2 Year            Yes         48443.0                  26.0   \n",
       "11504797    < 1 Year             No         32855.0                 152.0   \n",
       "\n",
       "          Vintage  \n",
       "id                 \n",
       "0             187  \n",
       "1             288  \n",
       "2             254  \n",
       "3              76  \n",
       "4             294  \n",
       "...           ...  \n",
       "11504793      218  \n",
       "11504794      115  \n",
       "11504795      189  \n",
       "11504796      274  \n",
       "11504797      189  \n",
       "\n",
       "[11504798 rows x 10 columns]"
      ]
     },
     "execution_count": 5,
     "metadata": {},
     "output_type": "execute_result"
    }
   ],
   "source": [
    "X"
   ]
  },
  {
   "cell_type": "code",
   "execution_count": 6,
   "id": "fd3260d6",
   "metadata": {
    "execution": {
     "iopub.execute_input": "2024-07-24T21:12:59.099784Z",
     "iopub.status.busy": "2024-07-24T21:12:59.099519Z",
     "iopub.status.idle": "2024-07-24T21:13:02.712336Z",
     "shell.execute_reply": "2024-07-24T21:13:02.711342Z"
    },
    "papermill": {
     "duration": 3.635855,
     "end_time": "2024-07-24T21:13:02.714771",
     "exception": false,
     "start_time": "2024-07-24T21:12:59.078916",
     "status": "completed"
    },
    "tags": []
   },
   "outputs": [
    {
     "data": {
      "text/plain": [
       "Gender                      2\n",
       "Age                        66\n",
       "Driving_License             2\n",
       "Region_Code                54\n",
       "Previously_Insured          2\n",
       "Vehicle_Age                 3\n",
       "Vehicle_Damage              2\n",
       "Annual_Premium          51728\n",
       "Policy_Sales_Channel      152\n",
       "Vintage                   290\n",
       "dtype: int64"
      ]
     },
     "execution_count": 6,
     "metadata": {},
     "output_type": "execute_result"
    }
   ],
   "source": [
    "X.nunique()"
   ]
  },
  {
   "cell_type": "code",
   "execution_count": 7,
   "id": "9b910baa",
   "metadata": {
    "execution": {
     "iopub.execute_input": "2024-07-24T21:13:02.756066Z",
     "iopub.status.busy": "2024-07-24T21:13:02.755761Z",
     "iopub.status.idle": "2024-07-24T21:13:02.759835Z",
     "shell.execute_reply": "2024-07-24T21:13:02.758841Z"
    },
    "papermill": {
     "duration": 0.027818,
     "end_time": "2024-07-24T21:13:02.761808",
     "exception": false,
     "start_time": "2024-07-24T21:13:02.733990",
     "status": "completed"
    },
    "tags": []
   },
   "outputs": [],
   "source": [
    "# cat_features = [\"Gender\", \"Vehicle_Age\", \"Vehicle_Damage\"]\n",
    "# X[cat_features] = X[cat_features].astype('category')\n",
    "# test[cat_features] = test[cat_features].astype('category')"
   ]
  },
  {
   "cell_type": "code",
   "execution_count": 8,
   "id": "e178cacc",
   "metadata": {
    "execution": {
     "iopub.execute_input": "2024-07-24T21:13:02.801849Z",
     "iopub.status.busy": "2024-07-24T21:13:02.801602Z",
     "iopub.status.idle": "2024-07-24T21:13:02.805585Z",
     "shell.execute_reply": "2024-07-24T21:13:02.804659Z"
    },
    "papermill": {
     "duration": 0.02596,
     "end_time": "2024-07-24T21:13:02.807576",
     "exception": false,
     "start_time": "2024-07-24T21:13:02.781616",
     "status": "completed"
    },
    "tags": []
   },
   "outputs": [],
   "source": [
    "# low_cardinality_features = [\"Gender\", \"Driving_License\", \"Previously_Insured\", \"Vehicle_Age\", \"Vehicle_Damage\"]\n",
    "# X_one_hot = pd.get_dummies(X[low_cardinality_features])\n",
    "# test_one_hot = pd.get_dummies(test[low_cardinality_features])"
   ]
  },
  {
   "cell_type": "code",
   "execution_count": 9,
   "id": "86d31877",
   "metadata": {
    "execution": {
     "iopub.execute_input": "2024-07-24T21:13:02.848513Z",
     "iopub.status.busy": "2024-07-24T21:13:02.848204Z",
     "iopub.status.idle": "2024-07-24T21:13:02.852146Z",
     "shell.execute_reply": "2024-07-24T21:13:02.851375Z"
    },
    "papermill": {
     "duration": 0.026552,
     "end_time": "2024-07-24T21:13:02.854187",
     "exception": false,
     "start_time": "2024-07-24T21:13:02.827635",
     "status": "completed"
    },
    "tags": []
   },
   "outputs": [],
   "source": [
    "# high_cardinality_features = [\"Region_Code\", \"Annual_Premium\", \"Policy_Sales_Channel\", \"Vintage\"]"
   ]
  },
  {
   "cell_type": "code",
   "execution_count": 10,
   "id": "8927b1c4",
   "metadata": {
    "execution": {
     "iopub.execute_input": "2024-07-24T21:13:02.894013Z",
     "iopub.status.busy": "2024-07-24T21:13:02.893733Z",
     "iopub.status.idle": "2024-07-24T21:13:02.898565Z",
     "shell.execute_reply": "2024-07-24T21:13:02.897781Z"
    },
    "papermill": {
     "duration": 0.02693,
     "end_time": "2024-07-24T21:13:02.900595",
     "exception": false,
     "start_time": "2024-07-24T21:13:02.873665",
     "status": "completed"
    },
    "tags": []
   },
   "outputs": [],
   "source": [
    "# X_high_cardinality = X[high_cardinality_features]\n",
    "# test_high_cardinality = test[high_cardinality_features]\n",
    "# X_high_cardinality"
   ]
  },
  {
   "cell_type": "code",
   "execution_count": 11,
   "id": "1b7b3722",
   "metadata": {
    "execution": {
     "iopub.execute_input": "2024-07-24T21:13:02.941269Z",
     "iopub.status.busy": "2024-07-24T21:13:02.941009Z",
     "iopub.status.idle": "2024-07-24T21:13:02.944948Z",
     "shell.execute_reply": "2024-07-24T21:13:02.943962Z"
    },
    "papermill": {
     "duration": 0.026864,
     "end_time": "2024-07-24T21:13:02.946880",
     "exception": false,
     "start_time": "2024-07-24T21:13:02.920016",
     "status": "completed"
    },
    "tags": []
   },
   "outputs": [],
   "source": [
    "# X_new = pd.concat([X_one_hot,X_high_cardinality],axis=1)\n",
    "# test_new = pd.concat([test_one_hot,test_high_cardinality],axis=1)"
   ]
  },
  {
   "cell_type": "code",
   "execution_count": 12,
   "id": "bbd6c78d",
   "metadata": {
    "execution": {
     "iopub.execute_input": "2024-07-24T21:13:02.987340Z",
     "iopub.status.busy": "2024-07-24T21:13:02.987014Z",
     "iopub.status.idle": "2024-07-24T21:13:02.990991Z",
     "shell.execute_reply": "2024-07-24T21:13:02.990126Z"
    },
    "papermill": {
     "duration": 0.027154,
     "end_time": "2024-07-24T21:13:02.993315",
     "exception": false,
     "start_time": "2024-07-24T21:13:02.966161",
     "status": "completed"
    },
    "tags": []
   },
   "outputs": [],
   "source": [
    "# X_new"
   ]
  },
  {
   "cell_type": "code",
   "execution_count": 13,
   "id": "06830c6b",
   "metadata": {
    "execution": {
     "iopub.execute_input": "2024-07-24T21:13:03.035510Z",
     "iopub.status.busy": "2024-07-24T21:13:03.035194Z",
     "iopub.status.idle": "2024-07-24T21:13:03.039500Z",
     "shell.execute_reply": "2024-07-24T21:13:03.038524Z"
    },
    "papermill": {
     "duration": 0.027851,
     "end_time": "2024-07-24T21:13:03.041647",
     "exception": false,
     "start_time": "2024-07-24T21:13:03.013796",
     "status": "completed"
    },
    "tags": []
   },
   "outputs": [],
   "source": [
    "# X_new.rename(columns={'Vehicle_Age_1-2 Year':'Vehicle_Age_betweeen_1and2Year','Vehicle_Age_< 1 Year':'Vehicle_Age_less_than_1Year','Vehicle_Age_> 2 Years':'Vehicle_Age_greater_than_2Year'}, inplace=True)\n",
    "# test_new.rename(columns={'Vehicle_Age_1-2 Year':'Vehicle_Age_betweeen_1and2Year','Vehicle_Age_< 1 Year':'Vehicle_Age_less_than_1Year','Vehicle_Age_> 2 Years':'Vehicle_Age_greater_than_2Year'}, inplace=True)"
   ]
  },
  {
   "cell_type": "code",
   "execution_count": 14,
   "id": "437f3cc4",
   "metadata": {
    "execution": {
     "iopub.execute_input": "2024-07-24T21:13:03.082187Z",
     "iopub.status.busy": "2024-07-24T21:13:03.081924Z",
     "iopub.status.idle": "2024-07-24T21:13:03.085757Z",
     "shell.execute_reply": "2024-07-24T21:13:03.084940Z"
    },
    "papermill": {
     "duration": 0.025887,
     "end_time": "2024-07-24T21:13:03.087708",
     "exception": false,
     "start_time": "2024-07-24T21:13:03.061821",
     "status": "completed"
    },
    "tags": []
   },
   "outputs": [],
   "source": [
    "# X_new"
   ]
  },
  {
   "cell_type": "code",
   "execution_count": 15,
   "id": "ca345855",
   "metadata": {
    "execution": {
     "iopub.execute_input": "2024-07-24T21:13:03.129491Z",
     "iopub.status.busy": "2024-07-24T21:13:03.128863Z",
     "iopub.status.idle": "2024-07-24T21:13:03.132967Z",
     "shell.execute_reply": "2024-07-24T21:13:03.132011Z"
    },
    "papermill": {
     "duration": 0.028264,
     "end_time": "2024-07-24T21:13:03.135101",
     "exception": false,
     "start_time": "2024-07-24T21:13:03.106837",
     "status": "completed"
    },
    "tags": []
   },
   "outputs": [],
   "source": [
    "# ros = RandomOverSampler(random_state=42)\n",
    "# X_ros, y_ros = ros.fit_resample(X,y)\n",
    "# print(\"new shape is:\", X_ros.shape)"
   ]
  },
  {
   "cell_type": "code",
   "execution_count": 16,
   "id": "fe055fff",
   "metadata": {
    "execution": {
     "iopub.execute_input": "2024-07-24T21:13:03.178540Z",
     "iopub.status.busy": "2024-07-24T21:13:03.177713Z",
     "iopub.status.idle": "2024-07-24T21:13:03.185979Z",
     "shell.execute_reply": "2024-07-24T21:13:03.185039Z"
    },
    "papermill": {
     "duration": 0.032281,
     "end_time": "2024-07-24T21:13:03.188144",
     "exception": false,
     "start_time": "2024-07-24T21:13:03.155863",
     "status": "completed"
    },
    "tags": []
   },
   "outputs": [
    {
     "data": {
      "text/plain": [
       "Gender                   object\n",
       "Age                       int64\n",
       "Driving_License           int64\n",
       "Region_Code             float64\n",
       "Previously_Insured        int64\n",
       "Vehicle_Age              object\n",
       "Vehicle_Damage           object\n",
       "Annual_Premium          float64\n",
       "Policy_Sales_Channel    float64\n",
       "Vintage                   int64\n",
       "dtype: object"
      ]
     },
     "execution_count": 16,
     "metadata": {},
     "output_type": "execute_result"
    }
   ],
   "source": [
    "X.dtypes"
   ]
  },
  {
   "cell_type": "code",
   "execution_count": 17,
   "id": "1e5304e4",
   "metadata": {
    "execution": {
     "iopub.execute_input": "2024-07-24T21:13:03.232350Z",
     "iopub.status.busy": "2024-07-24T21:13:03.231814Z",
     "iopub.status.idle": "2024-07-24T21:13:03.247835Z",
     "shell.execute_reply": "2024-07-24T21:13:03.246956Z"
    },
    "papermill": {
     "duration": 0.040468,
     "end_time": "2024-07-24T21:13:03.249927",
     "exception": false,
     "start_time": "2024-07-24T21:13:03.209459",
     "status": "completed"
    },
    "tags": []
   },
   "outputs": [],
   "source": [
    "def features_mapping(df):\n",
    "    gender_mapping = {\n",
    "        \"Male\":1,\n",
    "        \"Female\":0\n",
    "    }\n",
    "    vehicle_age_mapping = {\n",
    "    \"< 1 Year\":0,\n",
    "    \"1-2 Year\":1,\n",
    "    \"> 2 Years\":2\n",
    "    }\n",
    "    vehicle_damage_mapping = {\n",
    "        \"Yes\":1,\n",
    "        \"No\":0\n",
    "    }\n",
    "    \n",
    "    df[\"Gender\"] = df[\"Gender\"].map(gender_mapping)\n",
    "# X_ros[\"Gender\"] = X_ros[\"Gender\"].map(gender_mapping)\n",
    "# X_rus[\"Gender\"] = X_rus[\"Gender\"].map(gender_mapping)\n",
    "# X_train[\"Gender\"] = X_train[\"Gender\"].map(gender_mapping)\n",
    "# X_valid[\"Gender\"] = X_valid[\"Gender\"].map(gender_mapping)\n",
    "\n",
    "    df[\"Vehicle_Age\"] = df[\"Vehicle_Age\"].map(vehicle_age_mapping)\n",
    "# X_ros[\"Vehicle_Age\"] = X_ros[\"Vehicle_Age\"].map(vehicle_age_mapping)\n",
    "# X_rus[\"Vehicle_Age\"] = X_rus[\"Vehicle_Age\"].map(vehicle_age_mapping)\n",
    "# X_train[\"Vehicle_Age\"] = X_train[\"Vehicle_Age\"].map(vehicle_age_mapping)\n",
    "# X_valid[\"Vehicle_Age\"] = X_valid[\"Vehicle_Age\"].map(vehicle_age_mapping)\n",
    "\n",
    "    df[\"Vehicle_Damage\"] = df[\"Vehicle_Damage\"].map(vehicle_damage_mapping)\n",
    "# X_ros[\"Vehicle_Damage\"] = X_ros[\"Vehicle_Damage\"].map(vehicle_damage_mapping)\n",
    "# X_rus[\"Vehicle_Damage\"] = X_rus[\"Vehicle_Damage\"].map(vehicle_damage_mapping)\n",
    "    return df\n",
    "\n",
    "def new_features(df):\n",
    "#     df['Age_Annual_Premium'] = df['Age'] * df['Annual_Premium']\n",
    "#     df['Vintage_Annual_Premium'] = df['Vintage'] * df['Annual_Premium']\n",
    "    \n",
    "#    df['VehicleDamage_RegionCode'] = df['Region_Code'] + df['Vehicle_Damage']\n",
    "#     df = pd.get_dummies(df, columns=['VehicleDamage_RegionCode'], drop_first=True)\n",
    "#     df['Vintage_Annual_Premium'] = df['Vintage'] * df['Annual_Premium']\n",
    "    \n",
    "#     df[\"Mean_Annual_Premium_by_region\"] = df.groupby(\"Region_Code\")[\"Annual_Premium\"].transform('mean')\n",
    "#     df[\"Damage_by_Region\"] = df.groupby(\"Region_Code\")[\"Annual_Premium\"].transform('sum')\n",
    "    \n",
    "#     df['Premium_Age_Ratio'] = df[\"Annual_Premium\"] / df[\"Age\"]\n",
    "#     df[\"Vintage_Age_Ratio\"] = df[\"Vintage\"] / df[\"Age\"]\n",
    "    \n",
    "#     vip_thresh = df[\"Annual_Premium\"].quantile(0.75)\n",
    "#     df[\"High_Premium\"] = (df[\"Annual_Premium\"] > vip_thresh).astype('int')\n",
    "#     df[\"Young_Driver\"] = (df[\"Age\"] < 25).astype('int')\n",
    "#     df['Gender_VehicleAge'] = df['Gender'] + df['Vehicle_Age']\n",
    "    df['DrivingLicense_VehicleAge'] = df['Driving_License'] + df['Vehicle_Age']\n",
    "    df['DrivingLicense_VehicleDamage'] = df['Driving_License'] + df['Vehicle_Damage']\n",
    "    df['DrivingLicense_PreviouslyInsured'] = df['Driving_License'] + df['Previously_Insured']\n",
    "#     df = pd.get_dummies(df, columns=['Gender_Vehicle_Age'], drop_first=True)\n",
    "    df['VehicleAge_VehicleDamage'] = df['Vehicle_Age']+ df['Vehicle_Damage']\n",
    "#     df = pd.get_dummies(df, columns=[\"Vehicle_Age_Vehicle_Damage\"], drop_first=True)\n",
    "\n",
    "    df['PreviouslyInsured_VehicleDamage'] = df['Previously_Insured'] + df['Vehicle_Damage']\n",
    "    df['PreviouslyInsured_VehicleAge'] = df['Previously_Insured'] + df['Vehicle_Age']\n",
    "#     df['PreviouslyInsured_YoungDriver'] = df['Previously_Insured'].astype(str) + '_' + df['Young_Driver'].astype(str)\n",
    "#     df = pd.get_dummies(df, columns=['PreviouslyInsured_YoungDriver'], drop_first=True)\n",
    "    \n",
    "#     df['YoungDriver_Vehicle_Damage'] = df['Young_Driver'].astype(str) + '_' + df['Vehicle_Damage'].astype(str)\n",
    "#     df = pd.get_dummies(df, columns=['YoungDriver_Vehicle_Damage'], drop_first=True)\n",
    "    return df\n",
    "\n",
    "def memory_reduce(df):\n",
    "    df['Gender'] = df['Gender'].astype('int8')\n",
    "    df['Age'] = df['Age'].astype('int8')\n",
    "    df['Driving_License'] = df['Driving_License'].astype('int8')\n",
    "    df['Region_Code'] = df['Region_Code'].astype('float32')\n",
    "    df['Previously_Insured'] = df['Previously_Insured'].astype('int8')\n",
    "    df['Vehicle_Age'] = df['Vehicle_Age'].astype('int8')\n",
    "    df['Vehicle_Damage'] = df['Vehicle_Damage'].astype('int8')\n",
    "    df['Annual_Premium'] = df['Annual_Premium'].astype('float32')\n",
    "    df['Policy_Sales_Channel'] = df['Policy_Sales_Channel'].astype('float32')\n",
    "    df['Vintage'] = df['Vintage'].astype('int8')\n",
    "    df['DrivingLicense_VehicleAge'] = df['DrivingLicense_VehicleAge'].astype('int8')\n",
    "    df['DrivingLicense_VehicleDamage'] =  df['DrivingLicense_VehicleDamage'].astype('int8')\n",
    "    df['DrivingLicense_PreviouslyInsured'] = df['DrivingLicense_PreviouslyInsured'].astype('int8')\n",
    "    df['VehicleAge_VehicleDamage'] = df['VehicleAge_VehicleDamage'].astype('int8')\n",
    "    df['PreviouslyInsured_VehicleDamage'] = df['PreviouslyInsured_VehicleDamage'].astype('int8')\n",
    "    df['PreviouslyInsured_VehicleAge'] = df['PreviouslyInsured_VehicleAge'].astype('int8')\n",
    "    return df"
   ]
  },
  {
   "cell_type": "code",
   "execution_count": 18,
   "id": "fdb25999",
   "metadata": {
    "execution": {
     "iopub.execute_input": "2024-07-24T21:13:03.292535Z",
     "iopub.status.busy": "2024-07-24T21:13:03.292242Z",
     "iopub.status.idle": "2024-07-24T21:13:07.685244Z",
     "shell.execute_reply": "2024-07-24T21:13:07.684150Z"
    },
    "papermill": {
     "duration": 4.417036,
     "end_time": "2024-07-24T21:13:07.687693",
     "exception": false,
     "start_time": "2024-07-24T21:13:03.270657",
     "status": "completed"
    },
    "tags": []
   },
   "outputs": [],
   "source": [
    "X = features_mapping(X)\n",
    "X = new_features(X)\n",
    "X = memory_reduce(X)"
   ]
  },
  {
   "cell_type": "code",
   "execution_count": 19,
   "id": "b3647719",
   "metadata": {
    "execution": {
     "iopub.execute_input": "2024-07-24T21:13:07.728789Z",
     "iopub.status.busy": "2024-07-24T21:13:07.728452Z",
     "iopub.status.idle": "2024-07-24T21:13:07.754157Z",
     "shell.execute_reply": "2024-07-24T21:13:07.753045Z"
    },
    "papermill": {
     "duration": 0.049206,
     "end_time": "2024-07-24T21:13:07.756818",
     "exception": false,
     "start_time": "2024-07-24T21:13:07.707612",
     "status": "completed"
    },
    "tags": []
   },
   "outputs": [
    {
     "data": {
      "text/html": [
       "<div>\n",
       "<style scoped>\n",
       "    .dataframe tbody tr th:only-of-type {\n",
       "        vertical-align: middle;\n",
       "    }\n",
       "\n",
       "    .dataframe tbody tr th {\n",
       "        vertical-align: top;\n",
       "    }\n",
       "\n",
       "    .dataframe thead th {\n",
       "        text-align: right;\n",
       "    }\n",
       "</style>\n",
       "<table border=\"1\" class=\"dataframe\">\n",
       "  <thead>\n",
       "    <tr style=\"text-align: right;\">\n",
       "      <th></th>\n",
       "      <th>Gender</th>\n",
       "      <th>Age</th>\n",
       "      <th>Driving_License</th>\n",
       "      <th>Region_Code</th>\n",
       "      <th>Previously_Insured</th>\n",
       "      <th>Vehicle_Age</th>\n",
       "      <th>Vehicle_Damage</th>\n",
       "      <th>Annual_Premium</th>\n",
       "      <th>Policy_Sales_Channel</th>\n",
       "      <th>Vintage</th>\n",
       "      <th>DrivingLicense_VehicleAge</th>\n",
       "      <th>DrivingLicense_VehicleDamage</th>\n",
       "      <th>DrivingLicense_PreviouslyInsured</th>\n",
       "      <th>VehicleAge_VehicleDamage</th>\n",
       "      <th>PreviouslyInsured_VehicleDamage</th>\n",
       "      <th>PreviouslyInsured_VehicleAge</th>\n",
       "    </tr>\n",
       "    <tr>\n",
       "      <th>id</th>\n",
       "      <th></th>\n",
       "      <th></th>\n",
       "      <th></th>\n",
       "      <th></th>\n",
       "      <th></th>\n",
       "      <th></th>\n",
       "      <th></th>\n",
       "      <th></th>\n",
       "      <th></th>\n",
       "      <th></th>\n",
       "      <th></th>\n",
       "      <th></th>\n",
       "      <th></th>\n",
       "      <th></th>\n",
       "      <th></th>\n",
       "      <th></th>\n",
       "    </tr>\n",
       "  </thead>\n",
       "  <tbody>\n",
       "    <tr>\n",
       "      <th>0</th>\n",
       "      <td>1</td>\n",
       "      <td>21</td>\n",
       "      <td>1</td>\n",
       "      <td>35.0</td>\n",
       "      <td>0</td>\n",
       "      <td>1</td>\n",
       "      <td>1</td>\n",
       "      <td>65101.0</td>\n",
       "      <td>124.0</td>\n",
       "      <td>-69</td>\n",
       "      <td>2</td>\n",
       "      <td>2</td>\n",
       "      <td>1</td>\n",
       "      <td>2</td>\n",
       "      <td>1</td>\n",
       "      <td>1</td>\n",
       "    </tr>\n",
       "    <tr>\n",
       "      <th>1</th>\n",
       "      <td>1</td>\n",
       "      <td>43</td>\n",
       "      <td>1</td>\n",
       "      <td>28.0</td>\n",
       "      <td>0</td>\n",
       "      <td>2</td>\n",
       "      <td>1</td>\n",
       "      <td>58911.0</td>\n",
       "      <td>26.0</td>\n",
       "      <td>32</td>\n",
       "      <td>3</td>\n",
       "      <td>2</td>\n",
       "      <td>1</td>\n",
       "      <td>3</td>\n",
       "      <td>1</td>\n",
       "      <td>2</td>\n",
       "    </tr>\n",
       "    <tr>\n",
       "      <th>2</th>\n",
       "      <td>0</td>\n",
       "      <td>25</td>\n",
       "      <td>1</td>\n",
       "      <td>14.0</td>\n",
       "      <td>1</td>\n",
       "      <td>0</td>\n",
       "      <td>0</td>\n",
       "      <td>38043.0</td>\n",
       "      <td>152.0</td>\n",
       "      <td>-2</td>\n",
       "      <td>1</td>\n",
       "      <td>1</td>\n",
       "      <td>2</td>\n",
       "      <td>0</td>\n",
       "      <td>1</td>\n",
       "      <td>1</td>\n",
       "    </tr>\n",
       "    <tr>\n",
       "      <th>3</th>\n",
       "      <td>0</td>\n",
       "      <td>35</td>\n",
       "      <td>1</td>\n",
       "      <td>1.0</td>\n",
       "      <td>0</td>\n",
       "      <td>1</td>\n",
       "      <td>1</td>\n",
       "      <td>2630.0</td>\n",
       "      <td>156.0</td>\n",
       "      <td>76</td>\n",
       "      <td>2</td>\n",
       "      <td>2</td>\n",
       "      <td>1</td>\n",
       "      <td>2</td>\n",
       "      <td>1</td>\n",
       "      <td>1</td>\n",
       "    </tr>\n",
       "    <tr>\n",
       "      <th>4</th>\n",
       "      <td>0</td>\n",
       "      <td>36</td>\n",
       "      <td>1</td>\n",
       "      <td>15.0</td>\n",
       "      <td>1</td>\n",
       "      <td>1</td>\n",
       "      <td>0</td>\n",
       "      <td>31951.0</td>\n",
       "      <td>152.0</td>\n",
       "      <td>38</td>\n",
       "      <td>2</td>\n",
       "      <td>1</td>\n",
       "      <td>2</td>\n",
       "      <td>1</td>\n",
       "      <td>1</td>\n",
       "      <td>2</td>\n",
       "    </tr>\n",
       "    <tr>\n",
       "      <th>...</th>\n",
       "      <td>...</td>\n",
       "      <td>...</td>\n",
       "      <td>...</td>\n",
       "      <td>...</td>\n",
       "      <td>...</td>\n",
       "      <td>...</td>\n",
       "      <td>...</td>\n",
       "      <td>...</td>\n",
       "      <td>...</td>\n",
       "      <td>...</td>\n",
       "      <td>...</td>\n",
       "      <td>...</td>\n",
       "      <td>...</td>\n",
       "      <td>...</td>\n",
       "      <td>...</td>\n",
       "      <td>...</td>\n",
       "    </tr>\n",
       "    <tr>\n",
       "      <th>11504793</th>\n",
       "      <td>1</td>\n",
       "      <td>48</td>\n",
       "      <td>1</td>\n",
       "      <td>6.0</td>\n",
       "      <td>0</td>\n",
       "      <td>1</td>\n",
       "      <td>1</td>\n",
       "      <td>27412.0</td>\n",
       "      <td>26.0</td>\n",
       "      <td>-38</td>\n",
       "      <td>2</td>\n",
       "      <td>2</td>\n",
       "      <td>1</td>\n",
       "      <td>2</td>\n",
       "      <td>1</td>\n",
       "      <td>1</td>\n",
       "    </tr>\n",
       "    <tr>\n",
       "      <th>11504794</th>\n",
       "      <td>0</td>\n",
       "      <td>26</td>\n",
       "      <td>1</td>\n",
       "      <td>36.0</td>\n",
       "      <td>0</td>\n",
       "      <td>0</td>\n",
       "      <td>1</td>\n",
       "      <td>29509.0</td>\n",
       "      <td>152.0</td>\n",
       "      <td>115</td>\n",
       "      <td>1</td>\n",
       "      <td>2</td>\n",
       "      <td>1</td>\n",
       "      <td>1</td>\n",
       "      <td>1</td>\n",
       "      <td>0</td>\n",
       "    </tr>\n",
       "    <tr>\n",
       "      <th>11504795</th>\n",
       "      <td>0</td>\n",
       "      <td>29</td>\n",
       "      <td>1</td>\n",
       "      <td>32.0</td>\n",
       "      <td>1</td>\n",
       "      <td>0</td>\n",
       "      <td>0</td>\n",
       "      <td>2630.0</td>\n",
       "      <td>152.0</td>\n",
       "      <td>-67</td>\n",
       "      <td>1</td>\n",
       "      <td>1</td>\n",
       "      <td>2</td>\n",
       "      <td>0</td>\n",
       "      <td>1</td>\n",
       "      <td>1</td>\n",
       "    </tr>\n",
       "    <tr>\n",
       "      <th>11504796</th>\n",
       "      <td>0</td>\n",
       "      <td>51</td>\n",
       "      <td>1</td>\n",
       "      <td>28.0</td>\n",
       "      <td>0</td>\n",
       "      <td>1</td>\n",
       "      <td>1</td>\n",
       "      <td>48443.0</td>\n",
       "      <td>26.0</td>\n",
       "      <td>18</td>\n",
       "      <td>2</td>\n",
       "      <td>2</td>\n",
       "      <td>1</td>\n",
       "      <td>2</td>\n",
       "      <td>1</td>\n",
       "      <td>1</td>\n",
       "    </tr>\n",
       "    <tr>\n",
       "      <th>11504797</th>\n",
       "      <td>1</td>\n",
       "      <td>25</td>\n",
       "      <td>1</td>\n",
       "      <td>28.0</td>\n",
       "      <td>1</td>\n",
       "      <td>0</td>\n",
       "      <td>0</td>\n",
       "      <td>32855.0</td>\n",
       "      <td>152.0</td>\n",
       "      <td>-67</td>\n",
       "      <td>1</td>\n",
       "      <td>1</td>\n",
       "      <td>2</td>\n",
       "      <td>0</td>\n",
       "      <td>1</td>\n",
       "      <td>1</td>\n",
       "    </tr>\n",
       "  </tbody>\n",
       "</table>\n",
       "<p>11504798 rows × 16 columns</p>\n",
       "</div>"
      ],
      "text/plain": [
       "          Gender  Age  Driving_License  Region_Code  Previously_Insured  \\\n",
       "id                                                                        \n",
       "0              1   21                1         35.0                   0   \n",
       "1              1   43                1         28.0                   0   \n",
       "2              0   25                1         14.0                   1   \n",
       "3              0   35                1          1.0                   0   \n",
       "4              0   36                1         15.0                   1   \n",
       "...          ...  ...              ...          ...                 ...   \n",
       "11504793       1   48                1          6.0                   0   \n",
       "11504794       0   26                1         36.0                   0   \n",
       "11504795       0   29                1         32.0                   1   \n",
       "11504796       0   51                1         28.0                   0   \n",
       "11504797       1   25                1         28.0                   1   \n",
       "\n",
       "          Vehicle_Age  Vehicle_Damage  Annual_Premium  Policy_Sales_Channel  \\\n",
       "id                                                                            \n",
       "0                   1               1         65101.0                 124.0   \n",
       "1                   2               1         58911.0                  26.0   \n",
       "2                   0               0         38043.0                 152.0   \n",
       "3                   1               1          2630.0                 156.0   \n",
       "4                   1               0         31951.0                 152.0   \n",
       "...               ...             ...             ...                   ...   \n",
       "11504793            1               1         27412.0                  26.0   \n",
       "11504794            0               1         29509.0                 152.0   \n",
       "11504795            0               0          2630.0                 152.0   \n",
       "11504796            1               1         48443.0                  26.0   \n",
       "11504797            0               0         32855.0                 152.0   \n",
       "\n",
       "          Vintage  DrivingLicense_VehicleAge  DrivingLicense_VehicleDamage  \\\n",
       "id                                                                           \n",
       "0             -69                          2                             2   \n",
       "1              32                          3                             2   \n",
       "2              -2                          1                             1   \n",
       "3              76                          2                             2   \n",
       "4              38                          2                             1   \n",
       "...           ...                        ...                           ...   \n",
       "11504793      -38                          2                             2   \n",
       "11504794      115                          1                             2   \n",
       "11504795      -67                          1                             1   \n",
       "11504796       18                          2                             2   \n",
       "11504797      -67                          1                             1   \n",
       "\n",
       "          DrivingLicense_PreviouslyInsured  VehicleAge_VehicleDamage  \\\n",
       "id                                                                     \n",
       "0                                        1                         2   \n",
       "1                                        1                         3   \n",
       "2                                        2                         0   \n",
       "3                                        1                         2   \n",
       "4                                        2                         1   \n",
       "...                                    ...                       ...   \n",
       "11504793                                 1                         2   \n",
       "11504794                                 1                         1   \n",
       "11504795                                 2                         0   \n",
       "11504796                                 1                         2   \n",
       "11504797                                 2                         0   \n",
       "\n",
       "          PreviouslyInsured_VehicleDamage  PreviouslyInsured_VehicleAge  \n",
       "id                                                                       \n",
       "0                                       1                             1  \n",
       "1                                       1                             2  \n",
       "2                                       1                             1  \n",
       "3                                       1                             1  \n",
       "4                                       1                             2  \n",
       "...                                   ...                           ...  \n",
       "11504793                                1                             1  \n",
       "11504794                                1                             0  \n",
       "11504795                                1                             1  \n",
       "11504796                                1                             1  \n",
       "11504797                                1                             1  \n",
       "\n",
       "[11504798 rows x 16 columns]"
      ]
     },
     "execution_count": 19,
     "metadata": {},
     "output_type": "execute_result"
    }
   ],
   "source": [
    "pd.set_option('display.max_columns',None)\n",
    "X"
   ]
  },
  {
   "cell_type": "code",
   "execution_count": 20,
   "id": "909f6925",
   "metadata": {
    "execution": {
     "iopub.execute_input": "2024-07-24T21:13:07.846547Z",
     "iopub.status.busy": "2024-07-24T21:13:07.845680Z",
     "iopub.status.idle": "2024-07-24T21:13:07.850154Z",
     "shell.execute_reply": "2024-07-24T21:13:07.849225Z"
    },
    "papermill": {
     "duration": 0.028797,
     "end_time": "2024-07-24T21:13:07.852239",
     "exception": false,
     "start_time": "2024-07-24T21:13:07.823442",
     "status": "completed"
    },
    "tags": []
   },
   "outputs": [],
   "source": [
    "# ros = RandomOverSampler(random_state=42)\n",
    "# X_ros, y_ros = ros.fit_resample(X,y)\n",
    "# print(\"new shape is:\", X_ros.shape)"
   ]
  },
  {
   "cell_type": "code",
   "execution_count": 21,
   "id": "e822d225",
   "metadata": {
    "execution": {
     "iopub.execute_input": "2024-07-24T21:13:07.895554Z",
     "iopub.status.busy": "2024-07-24T21:13:07.894790Z",
     "iopub.status.idle": "2024-07-24T21:13:07.898845Z",
     "shell.execute_reply": "2024-07-24T21:13:07.897925Z"
    },
    "papermill": {
     "duration": 0.028078,
     "end_time": "2024-07-24T21:13:07.900844",
     "exception": false,
     "start_time": "2024-07-24T21:13:07.872766",
     "status": "completed"
    },
    "tags": []
   },
   "outputs": [],
   "source": [
    "# del X\n",
    "# del y"
   ]
  },
  {
   "cell_type": "code",
   "execution_count": 22,
   "id": "e1dd3abf",
   "metadata": {
    "execution": {
     "iopub.execute_input": "2024-07-24T21:13:07.944136Z",
     "iopub.status.busy": "2024-07-24T21:13:07.943858Z",
     "iopub.status.idle": "2024-07-24T21:13:07.948148Z",
     "shell.execute_reply": "2024-07-24T21:13:07.947193Z"
    },
    "papermill": {
     "duration": 0.028925,
     "end_time": "2024-07-24T21:13:07.950270",
     "exception": false,
     "start_time": "2024-07-24T21:13:07.921345",
     "status": "completed"
    },
    "tags": []
   },
   "outputs": [],
   "source": [
    "# train_ros = pd.concat([X_ros, y_ros], axis=1)\n",
    "# train_ros, valid_ros = train_test_split(train_ros, test_size=0.35, stratify=train_ros[\"Response\"], random_state=42)\n",
    "\n",
    "# X_train = train_ros.copy()\n",
    "# y_train = X_train.pop(\"Response\")\n",
    "\n",
    "# X_valid = valid_ros.copy()\n",
    "# y_valid = X_valid.pop(\"Response\")"
   ]
  },
  {
   "cell_type": "code",
   "execution_count": 23,
   "id": "816e4b19",
   "metadata": {
    "execution": {
     "iopub.execute_input": "2024-07-24T21:13:07.992317Z",
     "iopub.status.busy": "2024-07-24T21:13:07.992028Z",
     "iopub.status.idle": "2024-07-24T21:13:07.995854Z",
     "shell.execute_reply": "2024-07-24T21:13:07.995017Z"
    },
    "papermill": {
     "duration": 0.025998,
     "end_time": "2024-07-24T21:13:07.997798",
     "exception": false,
     "start_time": "2024-07-24T21:13:07.971800",
     "status": "completed"
    },
    "tags": []
   },
   "outputs": [],
   "source": [
    "# print(train_ros.shape)\n",
    "# print(\"training shape: \",X_train.shape)\n",
    "# print(\"validation shape: \",X_valid.shape)"
   ]
  },
  {
   "cell_type": "code",
   "execution_count": 24,
   "id": "0ee54edf",
   "metadata": {
    "execution": {
     "iopub.execute_input": "2024-07-24T21:13:08.039199Z",
     "iopub.status.busy": "2024-07-24T21:13:08.038704Z",
     "iopub.status.idle": "2024-07-24T21:13:08.042482Z",
     "shell.execute_reply": "2024-07-24T21:13:08.041573Z"
    },
    "papermill": {
     "duration": 0.026916,
     "end_time": "2024-07-24T21:13:08.044496",
     "exception": false,
     "start_time": "2024-07-24T21:13:08.017580",
     "status": "completed"
    },
    "tags": []
   },
   "outputs": [],
   "source": [
    "# X_train = train_ros.copy()\n",
    "# y_train = X_train.pop(\"Response\")\n",
    "\n",
    "# X_valid = valid_ros.copy()\n",
    "# y_valid = X_valid.pop(\"Response\")\n",
    "\n"
   ]
  },
  {
   "cell_type": "code",
   "execution_count": 25,
   "id": "e3ba920a",
   "metadata": {
    "execution": {
     "iopub.execute_input": "2024-07-24T21:13:08.087629Z",
     "iopub.status.busy": "2024-07-24T21:13:08.086905Z",
     "iopub.status.idle": "2024-07-24T21:13:08.090809Z",
     "shell.execute_reply": "2024-07-24T21:13:08.089957Z"
    },
    "papermill": {
     "duration": 0.02727,
     "end_time": "2024-07-24T21:13:08.092702",
     "exception": false,
     "start_time": "2024-07-24T21:13:08.065432",
     "status": "completed"
    },
    "tags": []
   },
   "outputs": [],
   "source": [
    "# X_train = train_sub.copy()\n",
    "# y_train = X_train.pop(\"Response\")\n",
    "\n",
    "# X_valid = valid_sub.copy()\n",
    "# y_valid = X_valid.pop(\"Response\")"
   ]
  },
  {
   "cell_type": "code",
   "execution_count": 26,
   "id": "f82ac047",
   "metadata": {
    "execution": {
     "iopub.execute_input": "2024-07-24T21:13:08.137160Z",
     "iopub.status.busy": "2024-07-24T21:13:08.136260Z",
     "iopub.status.idle": "2024-07-24T21:13:08.140309Z",
     "shell.execute_reply": "2024-07-24T21:13:08.139527Z"
    },
    "papermill": {
     "duration": 0.028753,
     "end_time": "2024-07-24T21:13:08.142333",
     "exception": false,
     "start_time": "2024-07-24T21:13:08.113580",
     "status": "completed"
    },
    "tags": []
   },
   "outputs": [],
   "source": [
    "# X_train"
   ]
  },
  {
   "cell_type": "code",
   "execution_count": 27,
   "id": "dcae30e4",
   "metadata": {
    "execution": {
     "iopub.execute_input": "2024-07-24T21:13:08.187971Z",
     "iopub.status.busy": "2024-07-24T21:13:08.187650Z",
     "iopub.status.idle": "2024-07-24T21:13:08.191773Z",
     "shell.execute_reply": "2024-07-24T21:13:08.190784Z"
    },
    "papermill": {
     "duration": 0.029339,
     "end_time": "2024-07-24T21:13:08.193967",
     "exception": false,
     "start_time": "2024-07-24T21:13:08.164628",
     "status": "completed"
    },
    "tags": []
   },
   "outputs": [],
   "source": [
    "# X_train[[\"Gender\",\"Vehicle_Age\",\"Vehicle_Damage\"]] = X_train[[\"Gender\",\"Vehicle_Age\",\"Vehicle_Damage\"]].astype(\"category\")\n",
    "# X_valid[[\"Gender\",\"Vehicle_Age\",\"Vehicle_Damage\"]] = X_valid[[\"Gender\",\"Vehicle_Age\",\"Vehicle_Damage\"]].astype(\"category\")"
   ]
  },
  {
   "cell_type": "code",
   "execution_count": 28,
   "id": "525257cf",
   "metadata": {
    "execution": {
     "iopub.execute_input": "2024-07-24T21:13:08.239631Z",
     "iopub.status.busy": "2024-07-24T21:13:08.239110Z",
     "iopub.status.idle": "2024-07-24T21:13:08.244379Z",
     "shell.execute_reply": "2024-07-24T21:13:08.243421Z"
    },
    "papermill": {
     "duration": 0.030442,
     "end_time": "2024-07-24T21:13:08.246575",
     "exception": false,
     "start_time": "2024-07-24T21:13:08.216133",
     "status": "completed"
    },
    "tags": []
   },
   "outputs": [],
   "source": [
    "# gender_mapping = {\n",
    "#     \"Male\":1,\n",
    "#     \"Female\":0\n",
    "# }\n",
    "# vehicle_age_mapping = {\n",
    "#     \"< 1 Year\":0,\n",
    "#     \"1-2 Year\":1,\n",
    "#     \"> 2 Years\":2\n",
    "# }\n",
    "# vehicle_damage_mapping = {\n",
    "#     \"Yes\":1,\n",
    "#     \"No\":0\n",
    "# }\n",
    "\n",
    "# X[\"Gender\"] = X[\"Gender\"].map(gender_mapping)\n",
    "# # X_ros[\"Gender\"] = X_ros[\"Gender\"].map(gender_mapping)\n",
    "# X_rus[\"Gender\"] = X_rus[\"Gender\"].map(gender_mapping)\n",
    "# # X_train[\"Gender\"] = X_train[\"Gender\"].map(gender_mapping)\n",
    "# # X_valid[\"Gender\"] = X_valid[\"Gender\"].map(gender_mapping)\n",
    "\n",
    "# X[\"Vehicle_Age\"] = X[\"Vehicle_Age\"].map(vehicle_age_mapping)\n",
    "# # X_ros[\"Vehicle_Age\"] = X_ros[\"Vehicle_Age\"].map(vehicle_age_mapping)\n",
    "# X_rus[\"Vehicle_Age\"] = X_rus[\"Vehicle_Age\"].map(vehicle_age_mapping)\n",
    "# # X_train[\"Vehicle_Age\"] = X_train[\"Vehicle_Age\"].map(vehicle_age_mapping)\n",
    "# # X_valid[\"Vehicle_Age\"] = X_valid[\"Vehicle_Age\"].map(vehicle_age_mapping)\n",
    "\n",
    "# X[\"Vehicle_Damage\"] = X[\"Vehicle_Damage\"].map(vehicle_damage_mapping)\n",
    "# # X_ros[\"Vehicle_Damage\"] = X_ros[\"Vehicle_Damage\"].map(vehicle_damage_mapping)\n",
    "# X_rus[\"Vehicle_Damage\"] = X_rus[\"Vehicle_Damage\"].map(vehicle_damage_mapping)\n",
    "# # X_train[\"Vehicle_Damage\"] = X_train[\"Vehicle_Damage\"].map(vehicle_damage_mapping)\n",
    "# # X_valid[\"Vehicle_Damage\"] = X_valid[\"Vehicle_Damage\"].map(vehicle_damage_mapping)"
   ]
  },
  {
   "cell_type": "code",
   "execution_count": 29,
   "id": "d7041907",
   "metadata": {
    "execution": {
     "iopub.execute_input": "2024-07-24T21:13:08.292227Z",
     "iopub.status.busy": "2024-07-24T21:13:08.291915Z",
     "iopub.status.idle": "2024-07-24T21:13:08.296346Z",
     "shell.execute_reply": "2024-07-24T21:13:08.295014Z"
    },
    "papermill": {
     "duration": 0.029767,
     "end_time": "2024-07-24T21:13:08.298595",
     "exception": false,
     "start_time": "2024-07-24T21:13:08.268828",
     "status": "completed"
    },
    "tags": []
   },
   "outputs": [],
   "source": [
    "# smote = SMOTE(random_state=42)\n",
    "\n",
    "# X_smoted, y_smoted = smote.fit_resample(X, y)\n",
    "# train_smoted = pd.concat([X_smoted, y_smoted], axis=1)"
   ]
  },
  {
   "cell_type": "code",
   "execution_count": 30,
   "id": "57d2704a",
   "metadata": {
    "execution": {
     "iopub.execute_input": "2024-07-24T21:13:08.344089Z",
     "iopub.status.busy": "2024-07-24T21:13:08.343764Z",
     "iopub.status.idle": "2024-07-24T21:13:11.410357Z",
     "shell.execute_reply": "2024-07-24T21:13:11.409524Z"
    },
    "papermill": {
     "duration": 3.092085,
     "end_time": "2024-07-24T21:13:11.412738",
     "exception": false,
     "start_time": "2024-07-24T21:13:08.320653",
     "status": "completed"
    },
    "tags": []
   },
   "outputs": [],
   "source": [
    "test = features_mapping(test)\n",
    "test = new_features(test)\n",
    "test = memory_reduce(test)"
   ]
  },
  {
   "cell_type": "code",
   "execution_count": 31,
   "id": "6fcdaff0",
   "metadata": {
    "execution": {
     "iopub.execute_input": "2024-07-24T21:13:11.453495Z",
     "iopub.status.busy": "2024-07-24T21:13:11.453156Z",
     "iopub.status.idle": "2024-07-24T21:13:11.457601Z",
     "shell.execute_reply": "2024-07-24T21:13:11.456715Z"
    },
    "papermill": {
     "duration": 0.026563,
     "end_time": "2024-07-24T21:13:11.459461",
     "exception": false,
     "start_time": "2024-07-24T21:13:11.432898",
     "status": "completed"
    },
    "tags": []
   },
   "outputs": [],
   "source": [
    "# features_to_scale = ['Age','Vintage','Annual_Premium',\t'Policy_Sales_Channel',\t'Age_Annual_Premium',\t'Vintage_Annual_Premium',\t'Mean_Annual_Premium_by_region',\t'Damage_by_Region',\t'Premium_Age_Ratio',\t'Vintage_Age_Ratio']\n",
    "# features_to_scale = ['Age', 'Vintage', 'Annual_Premium', 'Policy_Sales_Channel']\n",
    "# scaler = RobustScaler()\n",
    "# X[features_to_scale] = scaler.fit_transform(X[features_to_scale])"
   ]
  },
  {
   "cell_type": "code",
   "execution_count": 32,
   "id": "b0fd52fb",
   "metadata": {
    "execution": {
     "iopub.execute_input": "2024-07-24T21:13:11.500913Z",
     "iopub.status.busy": "2024-07-24T21:13:11.500647Z",
     "iopub.status.idle": "2024-07-24T21:13:11.505069Z",
     "shell.execute_reply": "2024-07-24T21:13:11.504128Z"
    },
    "papermill": {
     "duration": 0.027263,
     "end_time": "2024-07-24T21:13:11.507109",
     "exception": false,
     "start_time": "2024-07-24T21:13:11.479846",
     "status": "completed"
    },
    "tags": []
   },
   "outputs": [],
   "source": [
    "# test[features_to_scale] = scaler.transform(test[features_to_scale])"
   ]
  },
  {
   "cell_type": "code",
   "execution_count": 33,
   "id": "4c0ce9cd",
   "metadata": {
    "execution": {
     "iopub.execute_input": "2024-07-24T21:13:11.548507Z",
     "iopub.status.busy": "2024-07-24T21:13:11.548215Z",
     "iopub.status.idle": "2024-07-24T21:13:11.552127Z",
     "shell.execute_reply": "2024-07-24T21:13:11.551358Z"
    },
    "papermill": {
     "duration": 0.026843,
     "end_time": "2024-07-24T21:13:11.554096",
     "exception": false,
     "start_time": "2024-07-24T21:13:11.527253",
     "status": "completed"
    },
    "tags": []
   },
   "outputs": [],
   "source": [
    "# pd.reset_option('all')"
   ]
  },
  {
   "cell_type": "code",
   "execution_count": 34,
   "id": "a0dd79d4",
   "metadata": {
    "execution": {
     "iopub.execute_input": "2024-07-24T21:13:11.594879Z",
     "iopub.status.busy": "2024-07-24T21:13:11.594622Z",
     "iopub.status.idle": "2024-07-24T21:13:11.598471Z",
     "shell.execute_reply": "2024-07-24T21:13:11.597560Z"
    },
    "papermill": {
     "duration": 0.026262,
     "end_time": "2024-07-24T21:13:11.600326",
     "exception": false,
     "start_time": "2024-07-24T21:13:11.574064",
     "status": "completed"
    },
    "tags": []
   },
   "outputs": [],
   "source": [
    "# X"
   ]
  },
  {
   "cell_type": "code",
   "execution_count": 35,
   "id": "5abf86ec",
   "metadata": {
    "execution": {
     "iopub.execute_input": "2024-07-24T21:13:11.642185Z",
     "iopub.status.busy": "2024-07-24T21:13:11.641905Z",
     "iopub.status.idle": "2024-07-24T21:13:11.646223Z",
     "shell.execute_reply": "2024-07-24T21:13:11.645238Z"
    },
    "papermill": {
     "duration": 0.02727,
     "end_time": "2024-07-24T21:13:11.648211",
     "exception": false,
     "start_time": "2024-07-24T21:13:11.620941",
     "status": "completed"
    },
    "tags": []
   },
   "outputs": [],
   "source": [
    "# test[\"Gender\"] = test[\"Gender\"].map(gender_mapping)\n",
    "# # X_ros[\"Gender\"] = X_ros[\"Gender\"].map(gender_mapping)\n",
    "# test[\"Vehicle_Age\"] = test[\"Vehicle_Age\"].map(vehicle_age_mapping)\n",
    "# # X_ros[\"Vehicle_Age\"] = X_ros[\"Vehicle_Age\"].map(vehicle_age_mapping)\n",
    "# test[\"Vehicle_Damage\"] = test[\"Vehicle_Damage\"].map(vehicle_damage_mapping)\n",
    "# # X_ros[\"Vehicle_Damage\"] = X_ros[\"Vehicle_Damage\"].map(vehicle_damage_mapping)"
   ]
  },
  {
   "cell_type": "code",
   "execution_count": 36,
   "id": "6cbcaf93",
   "metadata": {
    "execution": {
     "iopub.execute_input": "2024-07-24T21:13:11.690413Z",
     "iopub.status.busy": "2024-07-24T21:13:11.690131Z",
     "iopub.status.idle": "2024-07-24T21:13:15.820107Z",
     "shell.execute_reply": "2024-07-24T21:13:15.819249Z"
    },
    "papermill": {
     "duration": 4.154152,
     "end_time": "2024-07-24T21:13:15.822713",
     "exception": false,
     "start_time": "2024-07-24T21:13:11.668561",
     "status": "completed"
    },
    "tags": []
   },
   "outputs": [],
   "source": [
    "continuous_features = [\"Age\",\"Region_Code\",\"Annual_Premium\",\"Policy_Sales_Channel\",\"Vintage\"]\n",
    "# scaler = StandardScaler()\n",
    "scaler = RobustScaler()\n",
    "X[continuous_features] = scaler.fit_transform(X[continuous_features])\n",
    "test[continuous_features] = scaler.fit_transform(test[continuous_features])"
   ]
  },
  {
   "cell_type": "code",
   "execution_count": 37,
   "id": "10017bb7",
   "metadata": {
    "execution": {
     "iopub.execute_input": "2024-07-24T21:13:15.864810Z",
     "iopub.status.busy": "2024-07-24T21:13:15.864542Z",
     "iopub.status.idle": "2024-07-24T21:13:15.868603Z",
     "shell.execute_reply": "2024-07-24T21:13:15.867665Z"
    },
    "papermill": {
     "duration": 0.027163,
     "end_time": "2024-07-24T21:13:15.870732",
     "exception": false,
     "start_time": "2024-07-24T21:13:15.843569",
     "status": "completed"
    },
    "tags": []
   },
   "outputs": [],
   "source": [
    "# test[continuous_features] = scaler.transform(test[continuous_features])"
   ]
  },
  {
   "cell_type": "code",
   "execution_count": 38,
   "id": "c9877a7f",
   "metadata": {
    "execution": {
     "iopub.execute_input": "2024-07-24T21:13:15.912330Z",
     "iopub.status.busy": "2024-07-24T21:13:15.912033Z",
     "iopub.status.idle": "2024-07-24T21:13:15.916645Z",
     "shell.execute_reply": "2024-07-24T21:13:15.915707Z"
    },
    "papermill": {
     "duration": 0.027948,
     "end_time": "2024-07-24T21:13:15.918735",
     "exception": false,
     "start_time": "2024-07-24T21:13:15.890787",
     "status": "completed"
    },
    "tags": []
   },
   "outputs": [],
   "source": [
    "# lgbm = LGBMClassifier(verbose=0, n_jobs=-1)\n",
    "# lgbm.fit(X_ros, y_ros)"
   ]
  },
  {
   "cell_type": "code",
   "execution_count": 39,
   "id": "81bbd68f",
   "metadata": {
    "execution": {
     "iopub.execute_input": "2024-07-24T21:13:15.961153Z",
     "iopub.status.busy": "2024-07-24T21:13:15.960870Z",
     "iopub.status.idle": "2024-07-24T21:13:15.965219Z",
     "shell.execute_reply": "2024-07-24T21:13:15.964263Z"
    },
    "papermill": {
     "duration": 0.027937,
     "end_time": "2024-07-24T21:13:15.967308",
     "exception": false,
     "start_time": "2024-07-24T21:13:15.939371",
     "status": "completed"
    },
    "tags": []
   },
   "outputs": [],
   "source": [
    "# feature_importances = lgbm.feature_importances_\n",
    "\n",
    "# feature_importance_df = pd.DataFrame({'feature': X.columns, 'importance': feature_importances})\n",
    "\n",
    "# feature_importance_df = feature_importance_df.sort_values('importance', ascending=False)\n",
    "\n",
    "# print(feature_importance_df.head(10))"
   ]
  },
  {
   "cell_type": "code",
   "execution_count": 40,
   "id": "cccb9f8f",
   "metadata": {
    "execution": {
     "iopub.execute_input": "2024-07-24T21:13:16.008259Z",
     "iopub.status.busy": "2024-07-24T21:13:16.007966Z",
     "iopub.status.idle": "2024-07-24T21:13:16.011743Z",
     "shell.execute_reply": "2024-07-24T21:13:16.010929Z"
    },
    "papermill": {
     "duration": 0.02616,
     "end_time": "2024-07-24T21:13:16.013721",
     "exception": false,
     "start_time": "2024-07-24T21:13:15.987561",
     "status": "completed"
    },
    "tags": []
   },
   "outputs": [],
   "source": [
    "# X_ros.shape"
   ]
  },
  {
   "cell_type": "code",
   "execution_count": 41,
   "id": "6703b270",
   "metadata": {
    "execution": {
     "iopub.execute_input": "2024-07-24T21:13:16.053139Z",
     "iopub.status.busy": "2024-07-24T21:13:16.052901Z",
     "iopub.status.idle": "2024-07-24T21:13:16.056629Z",
     "shell.execute_reply": "2024-07-24T21:13:16.055735Z"
    },
    "papermill": {
     "duration": 0.02541,
     "end_time": "2024-07-24T21:13:16.058508",
     "exception": false,
     "start_time": "2024-07-24T21:13:16.033098",
     "status": "completed"
    },
    "tags": []
   },
   "outputs": [],
   "source": [
    "# y_ros.shape"
   ]
  },
  {
   "cell_type": "code",
   "execution_count": null,
   "id": "ebc05f80",
   "metadata": {
    "papermill": {
     "duration": 0.019224,
     "end_time": "2024-07-24T21:13:16.097420",
     "exception": false,
     "start_time": "2024-07-24T21:13:16.078196",
     "status": "completed"
    },
    "tags": []
   },
   "outputs": [],
   "source": []
  },
  {
   "cell_type": "code",
   "execution_count": 42,
   "id": "b1f05669",
   "metadata": {
    "execution": {
     "iopub.execute_input": "2024-07-24T21:13:16.137865Z",
     "iopub.status.busy": "2024-07-24T21:13:16.137581Z",
     "iopub.status.idle": "2024-07-24T21:13:16.141728Z",
     "shell.execute_reply": "2024-07-24T21:13:16.140659Z"
    },
    "papermill": {
     "duration": 0.026968,
     "end_time": "2024-07-24T21:13:16.143977",
     "exception": false,
     "start_time": "2024-07-24T21:13:16.117009",
     "status": "completed"
    },
    "tags": []
   },
   "outputs": [],
   "source": [
    "# X_train, X_valid, y_train, y_valid = train_test_split(X, y, test_size=0.3, stratify=y, random_state=42)"
   ]
  },
  {
   "cell_type": "code",
   "execution_count": 43,
   "id": "b4a60c18",
   "metadata": {
    "execution": {
     "iopub.execute_input": "2024-07-24T21:13:16.185856Z",
     "iopub.status.busy": "2024-07-24T21:13:16.185242Z",
     "iopub.status.idle": "2024-07-24T21:13:16.189132Z",
     "shell.execute_reply": "2024-07-24T21:13:16.188233Z"
    },
    "papermill": {
     "duration": 0.027111,
     "end_time": "2024-07-24T21:13:16.191166",
     "exception": false,
     "start_time": "2024-07-24T21:13:16.164055",
     "status": "completed"
    },
    "tags": []
   },
   "outputs": [],
   "source": [
    "# del X\n",
    "# del y"
   ]
  },
  {
   "cell_type": "code",
   "execution_count": 44,
   "id": "670f9ef7",
   "metadata": {
    "execution": {
     "iopub.execute_input": "2024-07-24T21:13:16.235122Z",
     "iopub.status.busy": "2024-07-24T21:13:16.234823Z",
     "iopub.status.idle": "2024-07-24T21:13:16.239013Z",
     "shell.execute_reply": "2024-07-24T21:13:16.238063Z"
    },
    "papermill": {
     "duration": 0.029917,
     "end_time": "2024-07-24T21:13:16.241248",
     "exception": false,
     "start_time": "2024-07-24T21:13:16.211331",
     "status": "completed"
    },
    "tags": []
   },
   "outputs": [],
   "source": [
    "# del X_ros, y_ros"
   ]
  },
  {
   "cell_type": "code",
   "execution_count": 45,
   "id": "36eb84b5",
   "metadata": {
    "execution": {
     "iopub.execute_input": "2024-07-24T21:13:16.286127Z",
     "iopub.status.busy": "2024-07-24T21:13:16.285849Z",
     "iopub.status.idle": "2024-07-24T21:13:16.289648Z",
     "shell.execute_reply": "2024-07-24T21:13:16.288703Z"
    },
    "papermill": {
     "duration": 0.028344,
     "end_time": "2024-07-24T21:13:16.291685",
     "exception": false,
     "start_time": "2024-07-24T21:13:16.263341",
     "status": "completed"
    },
    "tags": []
   },
   "outputs": [],
   "source": [
    "# X_ros"
   ]
  },
  {
   "cell_type": "code",
   "execution_count": 46,
   "id": "d7731923",
   "metadata": {
    "execution": {
     "iopub.execute_input": "2024-07-24T21:13:16.334634Z",
     "iopub.status.busy": "2024-07-24T21:13:16.334307Z",
     "iopub.status.idle": "2024-07-24T21:13:21.349635Z",
     "shell.execute_reply": "2024-07-24T21:13:21.348715Z"
    },
    "papermill": {
     "duration": 5.039804,
     "end_time": "2024-07-24T21:13:21.352055",
     "exception": false,
     "start_time": "2024-07-24T21:13:16.312251",
     "status": "completed"
    },
    "tags": []
   },
   "outputs": [],
   "source": [
    "class_weights = compute_class_weight('balanced', classes = np.unique(y), y=y)\n",
    "class_labels = np.unique(y)\n",
    "class_weights_dict = {class_labels[i]: class_weights[i] for i in range(len(class_weights))}"
   ]
  },
  {
   "cell_type": "code",
   "execution_count": 47,
   "id": "199761a3",
   "metadata": {
    "execution": {
     "iopub.execute_input": "2024-07-24T21:13:21.396339Z",
     "iopub.status.busy": "2024-07-24T21:13:21.395999Z",
     "iopub.status.idle": "2024-07-24T21:13:21.449342Z",
     "shell.execute_reply": "2024-07-24T21:13:21.448504Z"
    },
    "papermill": {
     "duration": 0.078054,
     "end_time": "2024-07-24T21:13:21.451860",
     "exception": false,
     "start_time": "2024-07-24T21:13:21.373806",
     "status": "completed"
    },
    "tags": []
   },
   "outputs": [],
   "source": [
    "sample_weights = np.where(y==0, class_weights_dict[0], class_weights_dict[1],)"
   ]
  },
  {
   "cell_type": "code",
   "execution_count": 48,
   "id": "929c001b",
   "metadata": {
    "execution": {
     "iopub.execute_input": "2024-07-24T21:13:21.494260Z",
     "iopub.status.busy": "2024-07-24T21:13:21.493964Z",
     "iopub.status.idle": "2024-07-24T21:13:21.499530Z",
     "shell.execute_reply": "2024-07-24T21:13:21.498649Z"
    },
    "papermill": {
     "duration": 0.029614,
     "end_time": "2024-07-24T21:13:21.502034",
     "exception": false,
     "start_time": "2024-07-24T21:13:21.472420",
     "status": "completed"
    },
    "tags": []
   },
   "outputs": [
    {
     "data": {
      "text/plain": [
       "(11504798,)"
      ]
     },
     "execution_count": 48,
     "metadata": {},
     "output_type": "execute_result"
    }
   ],
   "source": [
    "sample_weights.shape"
   ]
  },
  {
   "cell_type": "code",
   "execution_count": 49,
   "id": "70d73614",
   "metadata": {
    "execution": {
     "iopub.execute_input": "2024-07-24T21:13:21.544112Z",
     "iopub.status.busy": "2024-07-24T21:13:21.543786Z",
     "iopub.status.idle": "2024-07-24T21:13:21.547865Z",
     "shell.execute_reply": "2024-07-24T21:13:21.546995Z"
    },
    "papermill": {
     "duration": 0.027828,
     "end_time": "2024-07-24T21:13:21.549865",
     "exception": false,
     "start_time": "2024-07-24T21:13:21.522037",
     "status": "completed"
    },
    "tags": []
   },
   "outputs": [],
   "source": [
    "# # Compile the model\n",
    "# model.compile(loss='binary_crossentropy', optimizer=keras.optimizers.SGD(learning_rate=0.55), metrics=['accuracy', keras.metrics.AUC()])\n",
    "\n",
    "# # Print the model summary\n",
    "# model.summary()"
   ]
  },
  {
   "cell_type": "code",
   "execution_count": 50,
   "id": "582346bf",
   "metadata": {
    "execution": {
     "iopub.execute_input": "2024-07-24T21:13:21.591074Z",
     "iopub.status.busy": "2024-07-24T21:13:21.590830Z",
     "iopub.status.idle": "2024-07-24T21:13:21.594729Z",
     "shell.execute_reply": "2024-07-24T21:13:21.593839Z"
    },
    "papermill": {
     "duration": 0.027403,
     "end_time": "2024-07-24T21:13:21.597133",
     "exception": false,
     "start_time": "2024-07-24T21:13:21.569730",
     "status": "completed"
    },
    "tags": []
   },
   "outputs": [],
   "source": [
    "# history = model.fit(X_train,y_train,\n",
    "#                    epochs=100,\n",
    "#                    batch_size=10000,\n",
    "#                    sample_weight=sample_weights,\n",
    "#                    validation_data=(X_valid,y_valid))"
   ]
  },
  {
   "cell_type": "code",
   "execution_count": 51,
   "id": "3d15b664",
   "metadata": {
    "execution": {
     "iopub.execute_input": "2024-07-24T21:13:21.639664Z",
     "iopub.status.busy": "2024-07-24T21:13:21.639374Z",
     "iopub.status.idle": "2024-07-24T21:13:21.643711Z",
     "shell.execute_reply": "2024-07-24T21:13:21.642668Z"
    },
    "papermill": {
     "duration": 0.028061,
     "end_time": "2024-07-24T21:13:21.645780",
     "exception": false,
     "start_time": "2024-07-24T21:13:21.617719",
     "status": "completed"
    },
    "tags": []
   },
   "outputs": [],
   "source": [
    "# model = Sequential([\n",
    "#     Dense(128, activation='mish'),\n",
    "#     layers.LayerNormalization(),\n",
    "#     Dense(64, activation='mish'),\n",
    "#     layers.LayerNormalization(),\n",
    "#     Dense(32, activation='mish'),\n",
    "#     layers.LayerNormalization(),\n",
    "#     Dense(16, activation='mish'),\n",
    "#     layers.LayerNormalization(),\n",
    "#     Dense(8, activation='mish'),\n",
    "#     layers.LayerNormalization(),\n",
    "#     Dense(1, activation='sigmoid')\n",
    "# ])\n",
    "\n",
    "# model.compile(optimizer = 'adam', loss='binary_crossentropy', metrics=['accuracy',tf.keras.metrics.AUC()])\n",
    "\n",
    "# model.summary()"
   ]
  },
  {
   "cell_type": "code",
   "execution_count": 52,
   "id": "e47bda5f",
   "metadata": {
    "execution": {
     "iopub.execute_input": "2024-07-24T21:13:21.687623Z",
     "iopub.status.busy": "2024-07-24T21:13:21.687348Z",
     "iopub.status.idle": "2024-07-24T21:13:21.690621Z",
     "shell.execute_reply": "2024-07-24T21:13:21.689772Z"
    },
    "papermill": {
     "duration": 0.026628,
     "end_time": "2024-07-24T21:13:21.692551",
     "exception": false,
     "start_time": "2024-07-24T21:13:21.665923",
     "status": "completed"
    },
    "tags": []
   },
   "outputs": [],
   "source": [
    "# y_train.shape"
   ]
  },
  {
   "cell_type": "code",
   "execution_count": 53,
   "id": "a2f6293b",
   "metadata": {
    "execution": {
     "iopub.execute_input": "2024-07-24T21:13:21.732716Z",
     "iopub.status.busy": "2024-07-24T21:13:21.732427Z",
     "iopub.status.idle": "2024-07-24T21:13:21.736164Z",
     "shell.execute_reply": "2024-07-24T21:13:21.735268Z"
    },
    "papermill": {
     "duration": 0.026245,
     "end_time": "2024-07-24T21:13:21.738236",
     "exception": false,
     "start_time": "2024-07-24T21:13:21.711991",
     "status": "completed"
    },
    "tags": []
   },
   "outputs": [],
   "source": [
    "# history = model.fit(X_train,y_train,\n",
    "#                    epochs=50,\n",
    "#                    batch_size=10000,\n",
    "#                    sample_weight=sample_weights,\n",
    "#                    validation_data=(X_valid,y_valid))"
   ]
  },
  {
   "cell_type": "code",
   "execution_count": 54,
   "id": "0c9f401e",
   "metadata": {
    "execution": {
     "iopub.execute_input": "2024-07-24T21:13:21.781670Z",
     "iopub.status.busy": "2024-07-24T21:13:21.781345Z",
     "iopub.status.idle": "2024-07-24T21:13:21.785238Z",
     "shell.execute_reply": "2024-07-24T21:13:21.784347Z"
    },
    "papermill": {
     "duration": 0.027799,
     "end_time": "2024-07-24T21:13:21.787254",
     "exception": false,
     "start_time": "2024-07-24T21:13:21.759455",
     "status": "completed"
    },
    "tags": []
   },
   "outputs": [],
   "source": [
    "# lgbm = LGBMClassifier(device='gpu', n_jobs=-1)\n",
    "# lgbm.fit(X_ros, y_ros)"
   ]
  },
  {
   "cell_type": "code",
   "execution_count": 55,
   "id": "737ef7e0",
   "metadata": {
    "execution": {
     "iopub.execute_input": "2024-07-24T21:13:21.828194Z",
     "iopub.status.busy": "2024-07-24T21:13:21.827922Z",
     "iopub.status.idle": "2024-07-24T21:13:21.836325Z",
     "shell.execute_reply": "2024-07-24T21:13:21.835344Z"
    },
    "papermill": {
     "duration": 0.031037,
     "end_time": "2024-07-24T21:13:21.838413",
     "exception": false,
     "start_time": "2024-07-24T21:13:21.807376",
     "status": "completed"
    },
    "tags": []
   },
   "outputs": [],
   "source": [
    "xgb_params = {              \n",
    "    'objective': 'binary:logistic',\n",
    "    'eval_metric': 'auc',\n",
    "    'booster': 'gbtree',\n",
    "    'n_estimators': 1500,       \n",
    "    'learning_rate': 0.55,                   \n",
    "    'min_child_weight': 17,      \n",
    "    'reg_lambda': 0.2,           \n",
    "    'reg_alpha': 7,              \n",
    "    'max_bin': 52000,            \n",
    "    'colsample_bytree': 0.65,    \n",
    "    'max_delta_step': 2,         \n",
    "    'random_state': 0,\n",
    "    'tree_method': 'hist',\n",
    "    'device': 'cuda',\n",
    "    'n_jobs': -1,\n",
    "    'scale_pos_weight': class_weights_dict[1] \n",
    "}\n",
    "lgbm_params = {\n",
    "    'objective': 'binary',\n",
    "    'metric': 'auc',\n",
    "    'boosting_type': 'gbdt',\n",
    "    'num_boost_round': 1500,\n",
    "    'learning_rate': 0.55,\n",
    "    'min_child_samples': 17,\n",
    "    'lambda_l2': 0.2,\n",
    "    'lambda_l1': 7,\n",
    "    'max_bin': 255,\n",
    "    'feature_fraction': 0.65,\n",
    "    'random_state': 0,\n",
    "    'tree_learner': 'serial',  # 'serial' for CPU; 'data' or 'feature' for parallel learning\n",
    "    'device_type': 'gpu',  # Use 'gpu' if using GPU, else 'cpu'\n",
    "    'num_threads': -1,\n",
    "    'class_weight': 'balanced'\n",
    "}\n",
    "cat_params = {\n",
    "    'objective': 'Logloss',\n",
    "    'eval_metric': 'AUC',\n",
    "    'iterations': 1500,\n",
    "    'learning_rate': 0.55,\n",
    "    'depth': 6,  # Depth is analogous to max_depth in other GBMs; you might need to tune it\n",
    "    'l2_leaf_reg': 0.2,  # Analogous to reg_lambda\n",
    "    'random_seed': 0,\n",
    "    'task_type': 'GPU',  # 'GPU' for GPU training; 'CPU' for CPU\n",
    "    'thread_count': -1,\n",
    "    'class_weights': [class_weights_dict[0],class_weights_dict[1]]\n",
    "}"
   ]
  },
  {
   "cell_type": "code",
   "execution_count": 56,
   "id": "cb6f4f42",
   "metadata": {
    "execution": {
     "iopub.execute_input": "2024-07-24T21:13:21.878751Z",
     "iopub.status.busy": "2024-07-24T21:13:21.878479Z",
     "iopub.status.idle": "2024-07-24T21:13:21.883192Z",
     "shell.execute_reply": "2024-07-24T21:13:21.882303Z"
    },
    "papermill": {
     "duration": 0.027273,
     "end_time": "2024-07-24T21:13:21.885273",
     "exception": false,
     "start_time": "2024-07-24T21:13:21.858000",
     "status": "completed"
    },
    "tags": []
   },
   "outputs": [],
   "source": [
    "# models = {\n",
    "# #     \"HistGradientBoosting\": HistGradientBoostingClassifier(class_weight='balanced'),\n",
    "# #     \"LightGBM\": LGBMClassifier(device='gpu', n_jobs=-1,class_weight= 'balanced'),\n",
    "# #     \"CatBoost\": CatBoostClassifier(task_type='GPU', thread_count=-1, class_weights= [class_weights_dict[0], class_weights_dict[1]]),\n",
    "#       \"XGBoost\": XGBClassifier(**xgb_params), # attained 0.8899 score\n",
    "# #     'Lightgbm': LGBMClassifier(**lgbm_params),\n",
    "# #     'Catboost': CatBoostClassifier(**cat_params)\n",
    "# }\n",
    "\n",
    "# # KFold cross-validation\n",
    "# kf = KFold(n_splits=3, shuffle=True, random_state=1)\n",
    "\n",
    "# # Dictionary to store results\n",
    "# roc_auc_results = {}\n",
    "# logloss_results = {}\n",
    "\n",
    "# X = X.reset_index(drop=True)\n",
    "# y = y.reset_index(drop=True)\n",
    "# # Evaluate each model\n",
    "# for name, model in models.items():\n",
    "#     roc_auc_list = []\n",
    "#     logloss_list = []\n",
    "#     for train_index, test_index in kf.split(X):\n",
    "#         X_train, X_test = X.iloc[train_index], X.iloc[test_index]\n",
    "#         y_train, y_test = y.iloc[train_index], y.iloc[test_index]\n",
    "#         model.fit(X_train, y_train)\n",
    "#         preds = model.predict_proba(X_test)[:,1]\n",
    "#         roc_auc = roc_auc_score(y_test, preds)\n",
    "#         roc_auc_list.append(roc_auc)\n",
    "#     roc_auc_results[name] = roc_auc_list\n",
    "#     print(f\"{name} - ROC AUC: {np.mean(roc_auc_list):.4f} (+/- {np.std(roc_auc_list):.4f})\")"
   ]
  },
  {
   "cell_type": "code",
   "execution_count": 57,
   "id": "121d753b",
   "metadata": {
    "execution": {
     "iopub.execute_input": "2024-07-24T21:13:21.925097Z",
     "iopub.status.busy": "2024-07-24T21:13:21.924860Z",
     "iopub.status.idle": "2024-07-24T21:13:21.928899Z",
     "shell.execute_reply": "2024-07-24T21:13:21.928166Z"
    },
    "papermill": {
     "duration": 0.025895,
     "end_time": "2024-07-24T21:13:21.930793",
     "exception": false,
     "start_time": "2024-07-24T21:13:21.904898",
     "status": "completed"
    },
    "tags": []
   },
   "outputs": [],
   "source": [
    "# X_ros = X_ros.reset_index(drop=True)\n",
    "# y_ros = y_ros.reset_index(drop=True)\n",
    "\n",
    "# # Print indices\n",
    "# print(f\"X_ros index:\\n{X_ros.index}\")\n",
    "# print(f\"y_ros index:\\n{y_ros.index}\")\n",
    "\n",
    "# # Evaluate each model\n",
    "# for fold, (train_index, test_index) in enumerate(kf.split(X_ros), 1):\n",
    "#     print(f\"\\nFold {fold}:\")\n",
    "#     print(f\"Train indices: {train_index}\")\n",
    "#     print(f\"Test indices: {test_index}\")"
   ]
  },
  {
   "cell_type": "code",
   "execution_count": 58,
   "id": "17948267",
   "metadata": {
    "execution": {
     "iopub.execute_input": "2024-07-24T21:13:21.971029Z",
     "iopub.status.busy": "2024-07-24T21:13:21.970742Z",
     "iopub.status.idle": "2024-07-24T21:13:21.974426Z",
     "shell.execute_reply": "2024-07-24T21:13:21.973600Z"
    },
    "papermill": {
     "duration": 0.025934,
     "end_time": "2024-07-24T21:13:21.976401",
     "exception": false,
     "start_time": "2024-07-24T21:13:21.950467",
     "status": "completed"
    },
    "tags": []
   },
   "outputs": [],
   "source": [
    "# roc_auc_results"
   ]
  },
  {
   "cell_type": "code",
   "execution_count": 59,
   "id": "8f5ccf0b",
   "metadata": {
    "execution": {
     "iopub.execute_input": "2024-07-24T21:13:22.018385Z",
     "iopub.status.busy": "2024-07-24T21:13:22.018060Z",
     "iopub.status.idle": "2024-07-24T21:13:22.022438Z",
     "shell.execute_reply": "2024-07-24T21:13:22.021515Z"
    },
    "papermill": {
     "duration": 0.028666,
     "end_time": "2024-07-24T21:13:22.024628",
     "exception": false,
     "start_time": "2024-07-24T21:13:21.995962",
     "status": "completed"
    },
    "tags": []
   },
   "outputs": [],
   "source": [
    "# # Display summary of ROC AUC results\n",
    "# roc_auc_df = pd.DataFrame(roc_auc_results).T\n",
    "# roc_auc_df.columns = ['Fold 1', 'Fold 2', 'Fold 3']\n",
    "# roc_auc_df['Mean ROC AUC'] = roc_auc_df.mean(axis=1)\n",
    "# roc_auc_df['Std Dev'] = roc_auc_df.std(axis=1)\n",
    "\n",
    "# print(\"\\nSummary of ROC AUC results:\")\n",
    "# print(roc_auc_df)\n",
    "\n",
    "# # Display summary of log loss results\n",
    "# # logloss_df = pd.DataFrame(logloss_results).T\n",
    "# # logloss_df.columns = ['Fold 1', 'Fold 2', 'Fold 3']\n",
    "# # logloss_df['Mean Log Loss'] = logloss_df.mean(axis=1)\n",
    "# # logloss_df['Std Dev'] = logloss_df.std(axis=1)\n",
    "\n",
    "# # print(\"\\nSummary of LogLoss results:\")\n",
    "# # print(logloss_df)"
   ]
  },
  {
   "cell_type": "code",
   "execution_count": 60,
   "id": "815b7605",
   "metadata": {
    "execution": {
     "iopub.execute_input": "2024-07-24T21:13:22.066263Z",
     "iopub.status.busy": "2024-07-24T21:13:22.065897Z",
     "iopub.status.idle": "2024-07-24T21:13:22.071927Z",
     "shell.execute_reply": "2024-07-24T21:13:22.070962Z"
    },
    "papermill": {
     "duration": 0.029218,
     "end_time": "2024-07-24T21:13:22.074089",
     "exception": false,
     "start_time": "2024-07-24T21:13:22.044871",
     "status": "completed"
    },
    "tags": []
   },
   "outputs": [],
   "source": [
    "# Summary of ROC AUC results:\n",
    "#                         Fold 1    Fold 2    Fold 3  Mean ROC AUC   Std Dev\n",
    "# RandomForest          0.851484  0.852166  0.851353      0.851668  0.000356\n",
    "# AdaBoost              0.859190  0.859731  0.858918      0.859280  0.000338\n",
    "# GradientBoosting      0.865154  0.865599  0.864776      0.865176  0.000336\n",
    "# HistGradientBoosting  0.875041  0.875562  0.875206      0.875270  0.000218\n",
    "# ExtraTrees            0.841332  0.841713  0.841180      0.841408  0.000224\n",
    "# LightGBM              0.875722  0.876071  0.875340      0.875711  0.000298\n",
    "# CatBoost              0.870625  0.871408  0.870140      0.870724  0.000523\n",
    "# XGBoost               0.878114  0.878968  0.877698      0.878260  0.000528\n",
    "\n",
    "# Summary of LogLoss results:\n",
    "#                         Fold 1    Fold 2    Fold 3  Mean Log Loss   Std Dev\n",
    "# RandomForest          0.475906  0.474242  0.475362       0.475170  0.000693\n",
    "# AdaBoost              0.673588  0.673637  0.673632       0.673619  0.000022\n",
    "# GradientBoosting      0.413304  0.412833  0.413254       0.413130  0.000211\n",
    "# HistGradientBoosting  0.401352  0.400915  0.400952       0.401073  0.000198\n",
    "# ExtraTrees            0.647964  0.648817  0.657455       0.651412  0.004287\n",
    "# LightGBM              0.400750  0.400494  0.400831       0.400692  0.000143\n",
    "# CatBoost              0.405725  0.405028  0.405738       0.405497  0.000332\n",
    "# XGBoost               0.397448  0.396583  0.397677       0.397236  0.000471\n",
    "\n",
    "\n",
    "# summary of roc_auc results with no random over sampling with feature engineering\n",
    "# Summary of ROC AUC results:\n",
    "#                         Fold 1    Fold 2    Fold 3  Mean ROC AUC   Std Dev\n",
    "# HistGradientBoosting  0.875687  0.875219  0.875401      0.875436  0.000193\n",
    "# LightGBM              0.875538  0.875763  0.876056      0.875785  0.000212\n",
    "# CatBoost              0.870475  0.870682  0.870775      0.870644  0.000125\n",
    "# XGBoost               0.877918  0.878111  0.878382      0.878137  0.000191"
   ]
  },
  {
   "cell_type": "code",
   "execution_count": 61,
   "id": "36093b40",
   "metadata": {
    "execution": {
     "iopub.execute_input": "2024-07-24T21:13:22.116860Z",
     "iopub.status.busy": "2024-07-24T21:13:22.116356Z",
     "iopub.status.idle": "2024-07-24T21:13:22.122087Z",
     "shell.execute_reply": "2024-07-24T21:13:22.121026Z"
    },
    "papermill": {
     "duration": 0.029953,
     "end_time": "2024-07-24T21:13:22.124494",
     "exception": false,
     "start_time": "2024-07-24T21:13:22.094541",
     "status": "completed"
    },
    "tags": []
   },
   "outputs": [],
   "source": [
    "# import matplotlib.pyplot as plt\n",
    "\n",
    "# save_dir = \"/kaggle/working/feature_importance_plots\"\n",
    "# os.makedirs(save_dir, exist_ok=True)\n",
    "\n",
    "# for name, model in models.items():\n",
    "#     plt.figure(figsize=(10, 5))\n",
    "    \n",
    "#     if hasattr(model, 'feature_importances_'):\n",
    "#         # For models that have feature_importances_ attribute (like RandomForestClassifier, ExtraTreesClassifier, etc.)\n",
    "#         feature_importances = model.feature_importances_\n",
    "#         plt.barh(X.columns, feature_importances)\n",
    "#         plt.title(f\"Feature importances for {name}\")\n",
    "#         plt.xlabel(\"Importance\")\n",
    "#         plt.ylabel(\"Feature\")\n",
    "#         plt.tight_layout()\n",
    "        \n",
    "#         # Save figure\n",
    "#         save_path = os.path.join(save_dir, f\"{name}_feature_importance.png\")\n",
    "#         plt.savefig(save_path)\n",
    "        \n",
    "#         # Display figure\n",
    "#         plt.show()\n",
    "        \n",
    "#     elif hasattr(model, 'plot_feature_importances'):\n",
    "#         # For HistGradientBoostingClassifier, CatBoostClassifier, etc. that provide plot_feature_importances() method\n",
    "#         model.plot_feature_importances()\n",
    "#         plt.title(f\"Feature importances for {name}\")\n",
    "#         plt.tight_layout()\n",
    "        \n",
    "#         # Save figure\n",
    "#         save_path = os.path.join(save_dir, f\"{name}_feature_importance.png\")\n",
    "#         plt.savefig(save_path)\n",
    "        \n",
    "#         # Display figure\n",
    "#         plt.show()\n",
    "        \n",
    "#     else:\n",
    "#         print(f\"{name} does not have feature importances available.\")"
   ]
  },
  {
   "cell_type": "code",
   "execution_count": 62,
   "id": "47b7740e",
   "metadata": {
    "execution": {
     "iopub.execute_input": "2024-07-24T21:13:22.180826Z",
     "iopub.status.busy": "2024-07-24T21:13:22.180494Z",
     "iopub.status.idle": "2024-07-25T02:47:17.247268Z",
     "shell.execute_reply": "2024-07-25T02:47:17.246296Z"
    },
    "papermill": {
     "duration": 20035.126525,
     "end_time": "2024-07-25T02:47:17.277662",
     "exception": false,
     "start_time": "2024-07-24T21:13:22.151137",
     "status": "completed"
    },
    "tags": []
   },
   "outputs": [
    {
     "name": "stderr",
     "output_type": "stream",
     "text": [
      "[I 2024-07-24 21:13:22,191] A new study created in memory with name: no-name-6a002344-c278-42b0-a15f-02bc586eb800\n",
      "/opt/conda/lib/python3.10/site-packages/xgboost/core.py:160: UserWarning: [21:19:28] WARNING: /workspace/src/common/error_msg.cc:58: Falling back to prediction using DMatrix due to mismatched devices. This might lead to higher memory usage and slower performance. XGBoost is running on: cuda:0, while the input data is on: cpu.\n",
      "Potential solutions:\n",
      "- Use a data structure that matches the device ordinal in the booster.\n",
      "- Set the device for booster before call to inplace_predict.\n",
      "\n",
      "This warning will only be shown once.\n",
      "\n",
      "  warnings.warn(smsg, UserWarning)\n",
      "[I 2024-07-24 21:19:30,670] Trial 0 finished with value: 0.88813615502404 and parameters: {'n_estimators': 1505, 'learning_rate': 0.2940142634640344, 'min_child_weight': 6, 'reg_lambda': 6.118091977503622, 'reg_alpha': 1.9465718434518036, 'max_bin': 42691, 'colsample_bytree': 0.3566033428647203, 'max_delta_step': 7}. Best is trial 0 with value: 0.88813615502404.\n",
      "[I 2024-07-24 21:24:29,458] Trial 1 finished with value: 0.8888639455731452 and parameters: {'n_estimators': 1286, 'learning_rate': 0.3278149715331106, 'min_child_weight': 13, 'reg_lambda': 1.3786601971384185, 'reg_alpha': 1.3624398493372687, 'max_bin': 56507, 'colsample_bytree': 0.5532678577060625, 'max_delta_step': 5}. Best is trial 1 with value: 0.8888639455731452.\n",
      "[I 2024-07-24 21:29:40,778] Trial 2 finished with value: 0.8893657063359603 and parameters: {'n_estimators': 1319, 'learning_rate': 0.34534844275258253, 'min_child_weight': 1, 'reg_lambda': 6.444374402434053, 'reg_alpha': 7.286624377377138, 'max_bin': 50850, 'colsample_bytree': 0.9311928106402518, 'max_delta_step': 1}. Best is trial 2 with value: 0.8893657063359603.\n",
      "[I 2024-07-24 21:34:25,185] Trial 3 finished with value: 0.8864198751059806 and parameters: {'n_estimators': 1132, 'learning_rate': 0.398461147831363, 'min_child_weight': 11, 'reg_lambda': 8.330028221871677, 'reg_alpha': 8.294436349645713, 'max_bin': 5878, 'colsample_bytree': 0.3775352251528806, 'max_delta_step': 6}. Best is trial 2 with value: 0.8893657063359603.\n",
      "[I 2024-07-24 21:40:29,389] Trial 4 finished with value: 0.8794209971007757 and parameters: {'n_estimators': 1341, 'learning_rate': 0.025397800808520186, 'min_child_weight': 14, 'reg_lambda': 3.2619219473629193, 'reg_alpha': 8.011264454000367, 'max_bin': 33595, 'colsample_bytree': 0.43453222299671646, 'max_delta_step': 9}. Best is trial 2 with value: 0.8893657063359603.\n",
      "[I 2024-07-24 21:48:48,141] Trial 5 finished with value: 0.881422916211736 and parameters: {'n_estimators': 1969, 'learning_rate': 0.04391377785632934, 'min_child_weight': 4, 'reg_lambda': 5.326954821921687, 'reg_alpha': 7.235029566440591, 'max_bin': 32441, 'colsample_bytree': 0.19039835273725658, 'max_delta_step': 1}. Best is trial 2 with value: 0.8893657063359603.\n",
      "[I 2024-07-24 21:55:47,734] Trial 6 finished with value: 0.8870236065854742 and parameters: {'n_estimators': 1698, 'learning_rate': 0.2995178013991251, 'min_child_weight': 10, 'reg_lambda': 8.407651024690805, 'reg_alpha': 6.789410424071807, 'max_bin': 41685, 'colsample_bytree': 0.23076784471634004, 'max_delta_step': 5}. Best is trial 2 with value: 0.8893657063359603.\n",
      "[I 2024-07-24 22:01:23,735] Trial 7 finished with value: 0.8892574133501924 and parameters: {'n_estimators': 1460, 'learning_rate': 0.29698282064392156, 'min_child_weight': 12, 'reg_lambda': 5.7475902778822725, 'reg_alpha': 9.403819096152313, 'max_bin': 59945, 'colsample_bytree': 0.7043827902010532, 'max_delta_step': 2}. Best is trial 2 with value: 0.8893657063359603.\n",
      "[I 2024-07-24 22:05:55,407] Trial 8 finished with value: 0.8846291702465131 and parameters: {'n_estimators': 1061, 'learning_rate': 0.09132624304584522, 'min_child_weight': 8, 'reg_lambda': 9.97720697941298, 'reg_alpha': 4.1718776384887395, 'max_bin': 49877, 'colsample_bytree': 0.6039557724136639, 'max_delta_step': 0}. Best is trial 2 with value: 0.8893657063359603.\n",
      "[I 2024-07-24 22:12:09,090] Trial 9 finished with value: 0.8891116332677131 and parameters: {'n_estimators': 1467, 'learning_rate': 0.4537900762850605, 'min_child_weight': 17, 'reg_lambda': 1.2935975892671838, 'reg_alpha': 1.294500335084989, 'max_bin': 30990, 'colsample_bytree': 0.7396187624380484, 'max_delta_step': 10}. Best is trial 2 with value: 0.8893657063359603.\n",
      "[I 2024-07-24 22:18:24,667] Trial 10 finished with value: 0.8876403064428544 and parameters: {'n_estimators': 1732, 'learning_rate': 0.5476522236318921, 'min_child_weight': 1, 'reg_lambda': 3.4744485273115595, 'reg_alpha': 4.274207849556383, 'max_bin': 13398, 'colsample_bytree': 0.9977536494737184, 'max_delta_step': 2}. Best is trial 2 with value: 0.8893657063359603.\n",
      "[I 2024-07-24 22:23:25,048] Trial 11 finished with value: 0.8880473634576408 and parameters: {'n_estimators': 1270, 'learning_rate': 0.19577694548640825, 'min_child_weight': 18, 'reg_lambda': 6.695284682391157, 'reg_alpha': 9.816611320589937, 'max_bin': 57672, 'colsample_bytree': 0.9112832646812183, 'max_delta_step': 3}. Best is trial 2 with value: 0.8893657063359603.\n",
      "[I 2024-07-24 22:29:36,715] Trial 12 finished with value: 0.8883111215231857 and parameters: {'n_estimators': 1554, 'learning_rate': 0.18398943158583092, 'min_child_weight': 1, 'reg_lambda': 4.089671398825894, 'reg_alpha': 9.378777375060123, 'max_bin': 48223, 'colsample_bytree': 0.7953318413256535, 'max_delta_step': 3}. Best is trial 2 with value: 0.8893657063359603.\n",
      "[I 2024-07-24 22:35:04,899] Trial 13 finished with value: 0.8885809431740951 and parameters: {'n_estimators': 1405, 'learning_rate': 0.20923830910921906, 'min_child_weight': 20, 'reg_lambda': 7.297589935147596, 'reg_alpha': 5.7659217422427265, 'max_bin': 58251, 'colsample_bytree': 0.7383487551348584, 'max_delta_step': 0}. Best is trial 2 with value: 0.8893657063359603.\n",
      "[I 2024-07-24 22:39:25,117] Trial 14 finished with value: 0.8886341786564717 and parameters: {'n_estimators': 1181, 'learning_rate': 0.39147360060203595, 'min_child_weight': 5, 'reg_lambda': 5.279224348626881, 'reg_alpha': 5.82295340906555, 'max_bin': 20617, 'colsample_bytree': 0.8553292346086688, 'max_delta_step': 3}. Best is trial 2 with value: 0.8893657063359603.\n",
      "[I 2024-07-24 22:46:19,301] Trial 15 finished with value: 0.889654144874706 and parameters: {'n_estimators': 1705, 'learning_rate': 0.3895424696792003, 'min_child_weight': 14, 'reg_lambda': 7.485851309453557, 'reg_alpha': 8.893073338924424, 'max_bin': 49735, 'colsample_bytree': 0.6390505674214294, 'max_delta_step': 2}. Best is trial 15 with value: 0.889654144874706.\n",
      "[I 2024-07-24 22:53:27,495] Trial 16 finished with value: 0.8896864628917438 and parameters: {'n_estimators': 1653, 'learning_rate': 0.4869895464294392, 'min_child_weight': 15, 'reg_lambda': 8.209296745464888, 'reg_alpha': 7.809247415759777, 'max_bin': 40921, 'colsample_bytree': 0.6283479105913166, 'max_delta_step': 1}. Best is trial 16 with value: 0.8896864628917438.\n",
      "[I 2024-07-24 23:00:41,770] Trial 17 finished with value: 0.8896122743568055 and parameters: {'n_estimators': 1868, 'learning_rate': 0.5206217507620357, 'min_child_weight': 15, 'reg_lambda': 9.866783137119356, 'reg_alpha': 8.423246488419155, 'max_bin': 38490, 'colsample_bytree': 0.621409633731705, 'max_delta_step': 4}. Best is trial 16 with value: 0.8896864628917438.\n",
      "[I 2024-07-24 23:07:11,460] Trial 18 finished with value: 0.88947018536003 and parameters: {'n_estimators': 1653, 'learning_rate': 0.4800873142043083, 'min_child_weight': 16, 'reg_lambda': 8.113955895050243, 'reg_alpha': 2.6733784642251637, 'max_bin': 46622, 'colsample_bytree': 0.4946090924907398, 'max_delta_step': 1}. Best is trial 16 with value: 0.8896864628917438.\n",
      "[I 2024-07-24 23:14:53,390] Trial 19 finished with value: 0.8893782583680223 and parameters: {'n_estimators': 1810, 'learning_rate': 0.4305568499046516, 'min_child_weight': 20, 'reg_lambda': 8.874580343536778, 'reg_alpha': 5.887573773498693, 'max_bin': 24189, 'colsample_bytree': 0.6464929672818298, 'max_delta_step': 2}. Best is trial 16 with value: 0.8896864628917438.\n",
      "[I 2024-07-24 23:21:45,839] Trial 20 finished with value: 0.8885983437206454 and parameters: {'n_estimators': 1589, 'learning_rate': 0.49654263201788107, 'min_child_weight': 9, 'reg_lambda': 7.54642539587774, 'reg_alpha': 8.318971869030541, 'max_bin': 24520, 'colsample_bytree': 0.3066688540038895, 'max_delta_step': 7}. Best is trial 16 with value: 0.8896864628917438.\n",
      "[I 2024-07-24 23:29:50,190] Trial 21 finished with value: 0.8895885179554278 and parameters: {'n_estimators': 1869, 'learning_rate': 0.5196350790446125, 'min_child_weight': 15, 'reg_lambda': 9.780138139629335, 'reg_alpha': 8.774504457228826, 'max_bin': 37614, 'colsample_bytree': 0.5238203612461376, 'max_delta_step': 4}. Best is trial 16 with value: 0.8896864628917438.\n",
      "[I 2024-07-24 23:37:43,525] Trial 22 finished with value: 0.8895609196170777 and parameters: {'n_estimators': 2000, 'learning_rate': 0.4252264395540953, 'min_child_weight': 14, 'reg_lambda': 9.314044541201069, 'reg_alpha': 0.18545858593783038, 'max_bin': 40132, 'colsample_bytree': 0.6215208616805544, 'max_delta_step': 4}. Best is trial 16 with value: 0.8896864628917438.\n",
      "[I 2024-07-24 23:45:04,155] Trial 23 finished with value: 0.8895123244307492 and parameters: {'n_estimators': 1802, 'learning_rate': 0.5468028749859355, 'min_child_weight': 17, 'reg_lambda': 7.439802808507958, 'reg_alpha': 9.989552399610774, 'max_bin': 36698, 'colsample_bytree': 0.6723103540926545, 'max_delta_step': 4}. Best is trial 16 with value: 0.8896864628917438.\n",
      "[I 2024-07-24 23:53:10,729] Trial 24 finished with value: 0.8895178888852985 and parameters: {'n_estimators': 1858, 'learning_rate': 0.3697120720533566, 'min_child_weight': 13, 'reg_lambda': 8.96886522833336, 'reg_alpha': 6.679639437828398, 'max_bin': 45013, 'colsample_bytree': 0.4774485166458551, 'max_delta_step': 0}. Best is trial 16 with value: 0.8896864628917438.\n",
      "[I 2024-07-24 23:59:27,320] Trial 25 finished with value: 0.8897288902079415 and parameters: {'n_estimators': 1644, 'learning_rate': 0.4869050620713452, 'min_child_weight': 18, 'reg_lambda': 0.23219798338045194, 'reg_alpha': 7.733786467062005, 'max_bin': 51108, 'colsample_bytree': 0.5852079747315576, 'max_delta_step': 2}. Best is trial 25 with value: 0.8897288902079415.\n",
      "[I 2024-07-25 00:05:40,345] Trial 26 finished with value: 0.8896202866495339 and parameters: {'n_estimators': 1626, 'learning_rate': 0.4601742013947018, 'min_child_weight': 18, 'reg_lambda': 0.3907557266252377, 'reg_alpha': 4.6776127172728685, 'max_bin': 51800, 'colsample_bytree': 0.8081288504301098, 'max_delta_step': 1}. Best is trial 25 with value: 0.8897288902079415.\n",
      "[I 2024-07-25 00:12:10,492] Trial 27 finished with value: 0.8898472763102526 and parameters: {'n_estimators': 1699, 'learning_rate': 0.4285187833618965, 'min_child_weight': 19, 'reg_lambda': 4.517932914845216, 'reg_alpha': 7.447422294804119, 'max_bin': 54618, 'colsample_bytree': 0.5662023555840697, 'max_delta_step': 2}. Best is trial 27 with value: 0.8898472763102526.\n",
      "[I 2024-07-25 00:18:11,615] Trial 28 finished with value: 0.8896716437339593 and parameters: {'n_estimators': 1540, 'learning_rate': 0.43389707248780185, 'min_child_weight': 19, 'reg_lambda': 2.4979815222134976, 'reg_alpha': 7.734756217977012, 'max_bin': 51851, 'colsample_bytree': 0.5529530431830159, 'max_delta_step': 3}. Best is trial 27 with value: 0.8898472763102526.\n",
      "[I 2024-07-25 00:25:00,888] Trial 29 finished with value: 0.8884759324009447 and parameters: {'n_estimators': 1787, 'learning_rate': 0.248315103911813, 'min_child_weight': 18, 'reg_lambda': 4.227426555264383, 'reg_alpha': 6.458065387176557, 'max_bin': 43406, 'colsample_bytree': 0.4147779816123536, 'max_delta_step': 6}. Best is trial 27 with value: 0.8898472763102526.\n",
      "[I 2024-07-25 00:32:07,589] Trial 30 finished with value: 0.8891636257433392 and parameters: {'n_estimators': 1657, 'learning_rate': 0.4929458561759701, 'min_child_weight': 16, 'reg_lambda': 1.7413026501077358, 'reg_alpha': 5.214845967886423, 'max_bin': 54839, 'colsample_bytree': 0.3079075219331767, 'max_delta_step': 0}. Best is trial 27 with value: 0.8898472763102526.\n",
      "[I 2024-07-25 00:38:07,756] Trial 31 finished with value: 0.8896446955773172 and parameters: {'n_estimators': 1536, 'learning_rate': 0.43448342548587443, 'min_child_weight': 20, 'reg_lambda': 2.353957015099777, 'reg_alpha': 7.753066023905461, 'max_bin': 52826, 'colsample_bytree': 0.5529195821528262, 'max_delta_step': 3}. Best is trial 27 with value: 0.8898472763102526.\n",
      "[I 2024-07-25 00:44:11,584] Trial 32 finished with value: 0.8895624579857008 and parameters: {'n_estimators': 1599, 'learning_rate': 0.472784767907618, 'min_child_weight': 19, 'reg_lambda': 0.5122727921688284, 'reg_alpha': 7.42478089893498, 'max_bin': 45157, 'colsample_bytree': 0.575098855397626, 'max_delta_step': 2}. Best is trial 27 with value: 0.8898472763102526.\n",
      "[I 2024-07-25 00:50:02,755] Trial 33 finished with value: 0.889059294661117 and parameters: {'n_estimators': 1500, 'learning_rate': 0.3489876164102215, 'min_child_weight': 19, 'reg_lambda': 2.6465535964147064, 'reg_alpha': 7.611197372782088, 'max_bin': 54973, 'colsample_bytree': 0.4568959826367419, 'max_delta_step': 1}. Best is trial 27 with value: 0.8898472763102526.\n",
      "[I 2024-07-25 00:56:17,153] Trial 34 finished with value: 0.8812594099927946 and parameters: {'n_estimators': 1743, 'learning_rate': 0.41519007893841575, 'min_child_weight': 17, 'reg_lambda': 4.534169856393147, 'reg_alpha': 6.869231902080497, 'max_bin': 54075, 'colsample_bytree': 0.10047296555566593, 'max_delta_step': 3}. Best is trial 27 with value: 0.8898472763102526.\n",
      "[I 2024-07-25 01:02:13,877] Trial 35 finished with value: 0.888823032453645 and parameters: {'n_estimators': 1396, 'learning_rate': 0.3255235216869061, 'min_child_weight': 19, 'reg_lambda': 1.092584343024924, 'reg_alpha': 8.940653015658153, 'max_bin': 47797, 'colsample_bytree': 0.5104989210242474, 'max_delta_step': 1}. Best is trial 27 with value: 0.8898472763102526.\n",
      "[I 2024-07-25 01:09:02,470] Trial 36 finished with value: 0.8895362129976084 and parameters: {'n_estimators': 1565, 'learning_rate': 0.5132776156277742, 'min_child_weight': 16, 'reg_lambda': 2.0166306184569303, 'reg_alpha': 7.985587557249454, 'max_bin': 42063, 'colsample_bytree': 0.562272623255206, 'max_delta_step': 5}. Best is trial 27 with value: 0.8898472763102526.\n",
      "[I 2024-07-25 01:16:40,628] Trial 37 finished with value: 0.8891413519333944 and parameters: {'n_estimators': 1663, 'learning_rate': 0.4511702732301774, 'min_child_weight': 18, 'reg_lambda': 2.934334604554194, 'reg_alpha': 7.213248773601142, 'max_bin': 35781, 'colsample_bytree': 0.37230269285880413, 'max_delta_step': 2}. Best is trial 27 with value: 0.8898472763102526.\n",
      "[I 2024-07-25 01:22:25,680] Trial 38 finished with value: 0.8897393695867339 and parameters: {'n_estimators': 1492, 'learning_rate': 0.4030582399526308, 'min_child_weight': 11, 'reg_lambda': 3.538412243020756, 'reg_alpha': 6.361190812508248, 'max_bin': 56333, 'colsample_bytree': 0.7071174170904361, 'max_delta_step': 1}. Best is trial 27 with value: 0.8898472763102526.\n",
      "[I 2024-07-25 01:27:55,784] Trial 39 finished with value: 0.8896184484958072 and parameters: {'n_estimators': 1436, 'learning_rate': 0.37609999476826655, 'min_child_weight': 11, 'reg_lambda': 5.868891347518366, 'reg_alpha': 6.158148264217826, 'max_bin': 59544, 'colsample_bytree': 0.6967928039714353, 'max_delta_step': 1}. Best is trial 27 with value: 0.8898472763102526.\n",
      "[I 2024-07-25 01:33:15,911] Trial 40 finished with value: 0.8894326724935324 and parameters: {'n_estimators': 1350, 'learning_rate': 0.3293051904248461, 'min_child_weight': 7, 'reg_lambda': 4.95045899299316, 'reg_alpha': 5.062836255029799, 'max_bin': 55215, 'colsample_bytree': 0.7812465658777684, 'max_delta_step': 0}. Best is trial 27 with value: 0.8898472763102526.\n",
      "[I 2024-07-25 01:39:07,630] Trial 41 finished with value: 0.8897210078051648 and parameters: {'n_estimators': 1521, 'learning_rate': 0.40903199408659885, 'min_child_weight': 12, 'reg_lambda': 3.909522321871044, 'reg_alpha': 6.936459314404527, 'max_bin': 51157, 'colsample_bytree': 0.5727803571017627, 'max_delta_step': 2}. Best is trial 27 with value: 0.8898472763102526.\n",
      "[I 2024-07-25 01:45:11,620] Trial 42 finished with value: 0.8895515430613541 and parameters: {'n_estimators': 1494, 'learning_rate': 0.40648941395527266, 'min_child_weight': 10, 'reg_lambda': 3.5849816284245217, 'reg_alpha': 6.962073800194736, 'max_bin': 49570, 'colsample_bytree': 0.5990307892059884, 'max_delta_step': 2}. Best is trial 27 with value: 0.8898472763102526.\n",
      "[I 2024-07-25 01:51:20,308] Trial 43 finished with value: 0.889842297805126 and parameters: {'n_estimators': 1618, 'learning_rate': 0.35596074213258616, 'min_child_weight': 12, 'reg_lambda': 3.8324990427921217, 'reg_alpha': 6.433874042792127, 'max_bin': 56289, 'colsample_bytree': 0.7257895894755786, 'max_delta_step': 8}. Best is trial 27 with value: 0.8898472763102526.\n",
      "[I 2024-07-25 01:57:25,784] Trial 44 finished with value: 0.889421286524837 and parameters: {'n_estimators': 1606, 'learning_rate': 0.27179057817816904, 'min_child_weight': 12, 'reg_lambda': 3.9119645053774876, 'reg_alpha': 6.272195473393654, 'max_bin': 57328, 'colsample_bytree': 0.7391964620235929, 'max_delta_step': 8}. Best is trial 27 with value: 0.8898472763102526.\n",
      "[I 2024-07-25 02:04:04,557] Trial 45 finished with value: 0.8898102938357482 and parameters: {'n_estimators': 1756, 'learning_rate': 0.3560555767890641, 'min_child_weight': 12, 'reg_lambda': 4.568189699846765, 'reg_alpha': 5.401830788916991, 'max_bin': 56506, 'colsample_bytree': 0.6927704158637031, 'max_delta_step': 10}. Best is trial 27 with value: 0.8898472763102526.\n",
      "[I 2024-07-25 02:05:53,434] Trial 46 finished with value: 0.883261897477575 and parameters: {'n_estimators': 1739, 'learning_rate': 0.3587418063212908, 'min_child_weight': 9, 'reg_lambda': 4.638063253463055, 'reg_alpha': 5.3792630240061605, 'max_bin': 1560, 'colsample_bytree': 0.8501969371689934, 'max_delta_step': 9}. Best is trial 27 with value: 0.8898472763102526.\n",
      "[I 2024-07-25 02:13:04,999] Trial 47 finished with value: 0.8898616351175411 and parameters: {'n_estimators': 1915, 'learning_rate': 0.3232208341520874, 'min_child_weight': 11, 'reg_lambda': 3.2172317211264545, 'reg_alpha': 4.43219516089576, 'max_bin': 59590, 'colsample_bytree': 0.6922581749322411, 'max_delta_step': 10}. Best is trial 47 with value: 0.8898616351175411.\n",
      "[I 2024-07-25 02:20:18,892] Trial 48 finished with value: 0.8898655774089781 and parameters: {'n_estimators': 1924, 'learning_rate': 0.31581996209523133, 'min_child_weight': 11, 'reg_lambda': 3.2276536566141476, 'reg_alpha': 3.457150872709881, 'max_bin': 59883, 'colsample_bytree': 0.7110267255919047, 'max_delta_step': 10}. Best is trial 48 with value: 0.8898655774089781.\n",
      "[I 2024-07-25 02:27:38,857] Trial 49 finished with value: 0.8897833886611453 and parameters: {'n_estimators': 1933, 'learning_rate': 0.2701672194994176, 'min_child_weight': 13, 'reg_lambda': 3.1503557322831766, 'reg_alpha': 3.326284622688596, 'max_bin': 59726, 'colsample_bytree': 0.7625564309942685, 'max_delta_step': 10}. Best is trial 48 with value: 0.8898655774089781.\n"
     ]
    },
    {
     "name": "stdout",
     "output_type": "stream",
     "text": [
      "Best hyperparameters:  {'n_estimators': 1924, 'learning_rate': 0.31581996209523133, 'min_child_weight': 11, 'reg_lambda': 3.2276536566141476, 'reg_alpha': 3.457150872709881, 'max_bin': 59883, 'colsample_bytree': 0.7110267255919047, 'max_delta_step': 10}\n"
     ]
    },
    {
     "data": {
      "text/html": [
       "<style>#sk-container-id-1 {color: black;background-color: white;}#sk-container-id-1 pre{padding: 0;}#sk-container-id-1 div.sk-toggleable {background-color: white;}#sk-container-id-1 label.sk-toggleable__label {cursor: pointer;display: block;width: 100%;margin-bottom: 0;padding: 0.3em;box-sizing: border-box;text-align: center;}#sk-container-id-1 label.sk-toggleable__label-arrow:before {content: \"▸\";float: left;margin-right: 0.25em;color: #696969;}#sk-container-id-1 label.sk-toggleable__label-arrow:hover:before {color: black;}#sk-container-id-1 div.sk-estimator:hover label.sk-toggleable__label-arrow:before {color: black;}#sk-container-id-1 div.sk-toggleable__content {max-height: 0;max-width: 0;overflow: hidden;text-align: left;background-color: #f0f8ff;}#sk-container-id-1 div.sk-toggleable__content pre {margin: 0.2em;color: black;border-radius: 0.25em;background-color: #f0f8ff;}#sk-container-id-1 input.sk-toggleable__control:checked~div.sk-toggleable__content {max-height: 200px;max-width: 100%;overflow: auto;}#sk-container-id-1 input.sk-toggleable__control:checked~label.sk-toggleable__label-arrow:before {content: \"▾\";}#sk-container-id-1 div.sk-estimator input.sk-toggleable__control:checked~label.sk-toggleable__label {background-color: #d4ebff;}#sk-container-id-1 div.sk-label input.sk-toggleable__control:checked~label.sk-toggleable__label {background-color: #d4ebff;}#sk-container-id-1 input.sk-hidden--visually {border: 0;clip: rect(1px 1px 1px 1px);clip: rect(1px, 1px, 1px, 1px);height: 1px;margin: -1px;overflow: hidden;padding: 0;position: absolute;width: 1px;}#sk-container-id-1 div.sk-estimator {font-family: monospace;background-color: #f0f8ff;border: 1px dotted black;border-radius: 0.25em;box-sizing: border-box;margin-bottom: 0.5em;}#sk-container-id-1 div.sk-estimator:hover {background-color: #d4ebff;}#sk-container-id-1 div.sk-parallel-item::after {content: \"\";width: 100%;border-bottom: 1px solid gray;flex-grow: 1;}#sk-container-id-1 div.sk-label:hover label.sk-toggleable__label {background-color: #d4ebff;}#sk-container-id-1 div.sk-serial::before {content: \"\";position: absolute;border-left: 1px solid gray;box-sizing: border-box;top: 0;bottom: 0;left: 50%;z-index: 0;}#sk-container-id-1 div.sk-serial {display: flex;flex-direction: column;align-items: center;background-color: white;padding-right: 0.2em;padding-left: 0.2em;position: relative;}#sk-container-id-1 div.sk-item {position: relative;z-index: 1;}#sk-container-id-1 div.sk-parallel {display: flex;align-items: stretch;justify-content: center;background-color: white;position: relative;}#sk-container-id-1 div.sk-item::before, #sk-container-id-1 div.sk-parallel-item::before {content: \"\";position: absolute;border-left: 1px solid gray;box-sizing: border-box;top: 0;bottom: 0;left: 50%;z-index: -1;}#sk-container-id-1 div.sk-parallel-item {display: flex;flex-direction: column;z-index: 1;position: relative;background-color: white;}#sk-container-id-1 div.sk-parallel-item:first-child::after {align-self: flex-end;width: 50%;}#sk-container-id-1 div.sk-parallel-item:last-child::after {align-self: flex-start;width: 50%;}#sk-container-id-1 div.sk-parallel-item:only-child::after {width: 0;}#sk-container-id-1 div.sk-dashed-wrapped {border: 1px dashed gray;margin: 0 0.4em 0.5em 0.4em;box-sizing: border-box;padding-bottom: 0.4em;background-color: white;}#sk-container-id-1 div.sk-label label {font-family: monospace;font-weight: bold;display: inline-block;line-height: 1.2em;}#sk-container-id-1 div.sk-label-container {text-align: center;}#sk-container-id-1 div.sk-container {/* jupyter's `normalize.less` sets `[hidden] { display: none; }` but bootstrap.min.css set `[hidden] { display: none !important; }` so we also need the `!important` here to be able to override the default hidden behavior on the sphinx rendered scikit-learn.org. See: https://github.com/scikit-learn/scikit-learn/issues/21755 */display: inline-block !important;position: relative;}#sk-container-id-1 div.sk-text-repr-fallback {display: none;}</style><div id=\"sk-container-id-1\" class=\"sk-top-container\"><div class=\"sk-text-repr-fallback\"><pre>XGBClassifier(base_score=None, booster=None, callbacks=None,\n",
       "              colsample_bylevel=None, colsample_bynode=None,\n",
       "              colsample_bytree=0.7110267255919047, device=None,\n",
       "              early_stopping_rounds=None, enable_categorical=False,\n",
       "              eval_metric=None, feature_types=None, gamma=None,\n",
       "              grow_policy=None, importance_type=None,\n",
       "              interaction_constraints=None, learning_rate=0.31581996209523133,\n",
       "              max_bin=59883, max_cat_threshold=None, max_cat_to_onehot=None,\n",
       "              max_delta_step=10, max_depth=None, max_leaves=None,\n",
       "              min_child_weight=11, missing=nan, monotone_constraints=None,\n",
       "              multi_strategy=None, n_estimators=1924, n_jobs=None,\n",
       "              num_parallel_tree=None, random_state=None, ...)</pre><b>In a Jupyter environment, please rerun this cell to show the HTML representation or trust the notebook. <br />On GitHub, the HTML representation is unable to render, please try loading this page with nbviewer.org.</b></div><div class=\"sk-container\" hidden><div class=\"sk-item\"><div class=\"sk-estimator sk-toggleable\"><input class=\"sk-toggleable__control sk-hidden--visually\" id=\"sk-estimator-id-1\" type=\"checkbox\" checked><label for=\"sk-estimator-id-1\" class=\"sk-toggleable__label sk-toggleable__label-arrow\">XGBClassifier</label><div class=\"sk-toggleable__content\"><pre>XGBClassifier(base_score=None, booster=None, callbacks=None,\n",
       "              colsample_bylevel=None, colsample_bynode=None,\n",
       "              colsample_bytree=0.7110267255919047, device=None,\n",
       "              early_stopping_rounds=None, enable_categorical=False,\n",
       "              eval_metric=None, feature_types=None, gamma=None,\n",
       "              grow_policy=None, importance_type=None,\n",
       "              interaction_constraints=None, learning_rate=0.31581996209523133,\n",
       "              max_bin=59883, max_cat_threshold=None, max_cat_to_onehot=None,\n",
       "              max_delta_step=10, max_depth=None, max_leaves=None,\n",
       "              min_child_weight=11, missing=nan, monotone_constraints=None,\n",
       "              multi_strategy=None, n_estimators=1924, n_jobs=None,\n",
       "              num_parallel_tree=None, random_state=None, ...)</pre></div></div></div></div></div>"
      ],
      "text/plain": [
       "XGBClassifier(base_score=None, booster=None, callbacks=None,\n",
       "              colsample_bylevel=None, colsample_bynode=None,\n",
       "              colsample_bytree=0.7110267255919047, device=None,\n",
       "              early_stopping_rounds=None, enable_categorical=False,\n",
       "              eval_metric=None, feature_types=None, gamma=None,\n",
       "              grow_policy=None, importance_type=None,\n",
       "              interaction_constraints=None, learning_rate=0.31581996209523133,\n",
       "              max_bin=59883, max_cat_threshold=None, max_cat_to_onehot=None,\n",
       "              max_delta_step=10, max_depth=None, max_leaves=None,\n",
       "              min_child_weight=11, missing=nan, monotone_constraints=None,\n",
       "              multi_strategy=None, n_estimators=1924, n_jobs=None,\n",
       "              num_parallel_tree=None, random_state=None, ...)"
      ]
     },
     "execution_count": 62,
     "metadata": {},
     "output_type": "execute_result"
    }
   ],
   "source": [
    "def objective(trial):\n",
    "    # Define the hyperparameter search space\n",
    "    param = {\n",
    "        'objective': 'binary:logistic',\n",
    "        'eval_metric': 'auc',\n",
    "        'booster': 'gbtree',\n",
    "        'n_estimators': trial.suggest_int('n_estimators', 1000, 2000),       \n",
    "        'learning_rate': trial.suggest_float('learning_rate', 0.01, 0.55),                   \n",
    "        'min_child_weight': trial.suggest_int('min_child_weight', 1, 20),      \n",
    "        'reg_lambda': trial.suggest_float('reg_lambda', 0.1, 10.0),           \n",
    "        'reg_alpha': trial.suggest_float('reg_alpha', 0.1, 10.0),              \n",
    "        'max_bin': trial.suggest_int('max_bin', 100, 60000),            \n",
    "        'colsample_bytree': trial.suggest_float('colsample_bytree', 0.1, 1.0),    \n",
    "        'max_delta_step': trial.suggest_int('max_delta_step', 0, 10),         \n",
    "        'random_state': 0,\n",
    "        'tree_method': 'hist',\n",
    "        'device': 'cuda',\n",
    "        'n_jobs': -1,\n",
    "        'scale_pos_weight': class_weights_dict[1] \n",
    "    }\n",
    "    \n",
    "    # Split data into training and validation sets\n",
    "    X_train, X_val, y_train, y_val = train_test_split(X, y, test_size=0.2, random_state=0)\n",
    "    \n",
    "    # Train the model\n",
    "    model = XGBClassifier(**param)\n",
    "    model.fit(X_train, y_train)\n",
    "    \n",
    "    # Predict probabilities\n",
    "    y_pred = model.predict_proba(X_val)[:, 1]\n",
    "    \n",
    "    # Evaluate the model\n",
    "    auc = roc_auc_score(y_val, y_pred)\n",
    "    \n",
    "    return auc\n",
    "\n",
    "# Create the study and optimize\n",
    "study = optuna.create_study(direction='maximize')\n",
    "study.optimize(objective, n_trials=50)  # You can adjust the number of trials\n",
    "\n",
    "# Retrieve the best hyperparameters\n",
    "best_params = study.best_params\n",
    "print(\"Best hyperparameters: \", best_params)\n",
    "\n",
    "# Train the final model with the best hyperparameters\n",
    "best_model = XGBClassifier(**best_params)\n",
    "best_model.fit(X, y)"
   ]
  },
  {
   "cell_type": "code",
   "execution_count": 63,
   "id": "1a5743fa",
   "metadata": {
    "execution": {
     "iopub.execute_input": "2024-07-25T02:47:17.334460Z",
     "iopub.status.busy": "2024-07-25T02:47:17.333859Z",
     "iopub.status.idle": "2024-07-25T02:47:17.338642Z",
     "shell.execute_reply": "2024-07-25T02:47:17.337634Z"
    },
    "papermill": {
     "duration": 0.036137,
     "end_time": "2024-07-25T02:47:17.340918",
     "exception": false,
     "start_time": "2024-07-25T02:47:17.304781",
     "status": "completed"
    },
    "tags": []
   },
   "outputs": [],
   "source": [
    "# dict1 = {\n",
    "#     \"a\":1,\n",
    "#     \"b\":2,\n",
    "#     \"c\":3,\n",
    "#     \"d\":4\n",
    "# }\n",
    "# dict2 = {}\n",
    "# list2 = [1,2,3,4]\n",
    "# for key, value in dict1.items():\n",
    "#     list1 = []\n",
    "#     for i in range(4):\n",
    "#         list1.append(list2[i])\n",
    "#     dict2[key] = list1\n",
    "    \n",
    "# print(dict2)"
   ]
  },
  {
   "cell_type": "code",
   "execution_count": 64,
   "id": "d491564e",
   "metadata": {
    "execution": {
     "iopub.execute_input": "2024-07-25T02:47:17.394887Z",
     "iopub.status.busy": "2024-07-25T02:47:17.394551Z",
     "iopub.status.idle": "2024-07-25T02:47:27.446187Z",
     "shell.execute_reply": "2024-07-25T02:47:27.445417Z"
    },
    "papermill": {
     "duration": 10.081655,
     "end_time": "2024-07-25T02:47:27.448592",
     "exception": false,
     "start_time": "2024-07-25T02:47:17.366937",
     "status": "completed"
    },
    "tags": []
   },
   "outputs": [],
   "source": [
    "new_test = pd.read_csv(\"/kaggle/input/playground-series-s4e7/test.csv\")\n",
    "idx = new_test[\"id\"]"
   ]
  },
  {
   "cell_type": "code",
   "execution_count": 65,
   "id": "a0df0f1c",
   "metadata": {
    "execution": {
     "iopub.execute_input": "2024-07-25T02:47:27.503014Z",
     "iopub.status.busy": "2024-07-25T02:47:27.502653Z",
     "iopub.status.idle": "2024-07-25T02:47:27.506870Z",
     "shell.execute_reply": "2024-07-25T02:47:27.505936Z"
    },
    "papermill": {
     "duration": 0.033755,
     "end_time": "2024-07-25T02:47:27.509065",
     "exception": false,
     "start_time": "2024-07-25T02:47:27.475310",
     "status": "completed"
    },
    "tags": []
   },
   "outputs": [],
   "source": [
    "# lgbm_preds"
   ]
  },
  {
   "cell_type": "code",
   "execution_count": 66,
   "id": "0d23d441",
   "metadata": {
    "execution": {
     "iopub.execute_input": "2024-07-25T02:47:27.564170Z",
     "iopub.status.busy": "2024-07-25T02:47:27.563851Z",
     "iopub.status.idle": "2024-07-25T02:47:27.568056Z",
     "shell.execute_reply": "2024-07-25T02:47:27.567154Z"
    },
    "papermill": {
     "duration": 0.034324,
     "end_time": "2024-07-25T02:47:27.570233",
     "exception": false,
     "start_time": "2024-07-25T02:47:27.535909",
     "status": "completed"
    },
    "tags": []
   },
   "outputs": [],
   "source": [
    "# xgb = XGBClassifier(tree_method='gpu_hist', n_jobs=-1)\n",
    "# xgb.fit(X_ros, y_ros)"
   ]
  },
  {
   "cell_type": "code",
   "execution_count": 67,
   "id": "b8228073",
   "metadata": {
    "execution": {
     "iopub.execute_input": "2024-07-25T02:47:27.625608Z",
     "iopub.status.busy": "2024-07-25T02:47:27.625243Z",
     "iopub.status.idle": "2024-07-25T02:49:34.962591Z",
     "shell.execute_reply": "2024-07-25T02:49:34.961380Z"
    },
    "papermill": {
     "duration": 127.368139,
     "end_time": "2024-07-25T02:49:34.965547",
     "exception": false,
     "start_time": "2024-07-25T02:47:27.597408",
     "status": "completed"
    },
    "tags": []
   },
   "outputs": [],
   "source": [
    "xgb_preds = best_model.predict_proba(test)[:,1]"
   ]
  },
  {
   "cell_type": "code",
   "execution_count": 68,
   "id": "e2426336",
   "metadata": {
    "execution": {
     "iopub.execute_input": "2024-07-25T02:49:35.019957Z",
     "iopub.status.busy": "2024-07-25T02:49:35.019650Z",
     "iopub.status.idle": "2024-07-25T02:49:53.947052Z",
     "shell.execute_reply": "2024-07-25T02:49:53.946238Z"
    },
    "papermill": {
     "duration": 18.957344,
     "end_time": "2024-07-25T02:49:53.949849",
     "exception": false,
     "start_time": "2024-07-25T02:49:34.992505",
     "status": "completed"
    },
    "tags": []
   },
   "outputs": [],
   "source": [
    "result = pd.DataFrame({\n",
    "    \"id\":idx,\n",
    "    \"Response\":xgb_preds\n",
    "})\n",
    "result.to_csv(\"submission.csv\", index=False)"
   ]
  },
  {
   "cell_type": "code",
   "execution_count": 69,
   "id": "fff8387b",
   "metadata": {
    "execution": {
     "iopub.execute_input": "2024-07-25T02:49:54.003571Z",
     "iopub.status.busy": "2024-07-25T02:49:54.003181Z",
     "iopub.status.idle": "2024-07-25T02:49:54.007212Z",
     "shell.execute_reply": "2024-07-25T02:49:54.006319Z"
    },
    "papermill": {
     "duration": 0.032357,
     "end_time": "2024-07-25T02:49:54.009250",
     "exception": false,
     "start_time": "2024-07-25T02:49:53.976893",
     "status": "completed"
    },
    "tags": []
   },
   "outputs": [],
   "source": [
    "# roc_score = roc_auc_score(y_valid, lgbm_preds)\n",
    "# print(roc_score)"
   ]
  },
  {
   "cell_type": "code",
   "execution_count": 70,
   "id": "2f56f8df",
   "metadata": {
    "execution": {
     "iopub.execute_input": "2024-07-25T02:49:54.061416Z",
     "iopub.status.busy": "2024-07-25T02:49:54.060835Z",
     "iopub.status.idle": "2024-07-25T02:49:54.064851Z",
     "shell.execute_reply": "2024-07-25T02:49:54.064013Z"
    },
    "papermill": {
     "duration": 0.03183,
     "end_time": "2024-07-25T02:49:54.067010",
     "exception": false,
     "start_time": "2024-07-25T02:49:54.035180",
     "status": "completed"
    },
    "tags": []
   },
   "outputs": [],
   "source": [
    "# hgbc = HistaGradientBoostingClassifier(n_jobs=-1)\n",
    "# hgbc.fit(X, y)"
   ]
  }
 ],
 "metadata": {
  "kaggle": {
   "accelerator": "none",
   "dataSources": [
    {
     "databundleVersionId": 8930475,
     "sourceId": 73291,
     "sourceType": "competition"
    }
   ],
   "isGpuEnabled": false,
   "isInternetEnabled": true,
   "language": "python",
   "sourceType": "notebook"
  },
  "kernelspec": {
   "display_name": "Python 3",
   "language": "python",
   "name": "python3"
  },
  "language_info": {
   "codemirror_mode": {
    "name": "ipython",
    "version": 3
   },
   "file_extension": ".py",
   "mimetype": "text/x-python",
   "name": "python",
   "nbconvert_exporter": "python",
   "pygments_lexer": "ipython3",
   "version": "3.10.13"
  },
  "papermill": {
   "default_parameters": {},
   "duration": 20275.051703,
   "end_time": "2024-07-25T02:49:57.406070",
   "environment_variables": {},
   "exception": null,
   "input_path": "__notebook__.ipynb",
   "output_path": "__notebook__.ipynb",
   "parameters": {},
   "start_time": "2024-07-24T21:12:02.354367",
   "version": "2.5.0"
  }
 },
 "nbformat": 4,
 "nbformat_minor": 5
}
